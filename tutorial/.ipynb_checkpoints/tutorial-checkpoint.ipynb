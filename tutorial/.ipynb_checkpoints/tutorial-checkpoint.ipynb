{
 "cells": [
  {
   "cell_type": "markdown",
   "metadata": {},
   "source": [
    "# Data & Env Initialization"
   ]
  },
  {
   "cell_type": "code",
   "execution_count": 1,
   "metadata": {},
   "outputs": [],
   "source": [
    "import os, sys, gc\n",
    "\n",
    "import zipfile\n",
    "from os import path\n",
    "import numpy as np\n",
    "import pandas as pd\n",
    "from tqdm import tqdm\n",
    "import matplotlib.pyplot as plt\n",
    "\n",
    "zip_file = \"sample_data/Sky303.zip\"\n",
    "data_path = \"sample_data/Sky303/\"\n",
    "\n",
    "if not path.exists(data_path):\n",
    "    with zipfile.ZipFile(zip_file, 'r') as zip_ref:\n",
    "        zip_ref.extractall(\"sample_data/\")\n",
    "\n",
    "input_indice_path = data_path + \"input_indices_{}.npy\"\n",
    "input_data_path = data_path + \"input_data_{}.npy\"\n",
    "target_path = data_path + \"output_indices_{}.npy\""
   ]
  },
  {
   "cell_type": "markdown",
   "metadata": {},
   "source": [
    "# Constants"
   ]
  },
  {
   "cell_type": "code",
   "execution_count": 2,
   "metadata": {},
   "outputs": [],
   "source": [
    "N_CONFIGURATIONS = 4262 # number of configuration of the problem\n",
    "IMG_SHAPE = (1355, 3384, 3)\n",
    "H, W = 128, 256 # the window size\n",
    "\n",
    "CAMERA = np.array([[2304.5479, 0,  1686.2379], # the camera matrix\n",
    "                          [0, 2305.8757, -0.0151],\n",
    "                          [0, 0, 1.]], dtype=np.float32)"
   ]
  },
  {
   "cell_type": "markdown",
   "metadata": {},
   "source": [
    "# Data Viz & Utils"
   ]
  },
  {
   "cell_type": "code",
   "execution_count": 3,
   "metadata": {},
   "outputs": [
    {
     "data": {
      "text/plain": [
       "'1.3.1+cu92'"
      ]
     },
     "execution_count": 3,
     "metadata": {},
     "output_type": "execute_result"
    }
   ],
   "source": [
    "import torch\n",
    "from torch import nn\n",
    "from torch.utils.data import Dataset, DataLoader\n",
    "\n",
    "torch.manual_seed(42)\n",
    "torch.__version__"
   ]
  },
  {
   "cell_type": "code",
   "execution_count": 4,
   "metadata": {},
   "outputs": [],
   "source": [
    "class Sky303Dataset(Dataset):\n",
    "    \"\"\"Car dataset.\"\"\"\n",
    "\n",
    "    def __init__(self):\n",
    "        super(Sky303Dataset,self).__init__()\n",
    "\n",
    "    def __len__(self):\n",
    "        return N_CONFIGURATIONS\n",
    "\n",
    "    def __getitem__(self, idx):\n",
    "        if torch.is_tensor(idx):\n",
    "            idx = idx.tolist()\n",
    "            \n",
    "        indice_np = np.load(input_indice_path.format(idx))\n",
    "        input_np = np.load(input_data_path.format(idx))\n",
    "        target_np = np.load(target_path.format(idx))\n",
    "        \n",
    "        input_bin_mask = np.zeros([H, W, 1], dtype='float16')\n",
    "        input_bin_mask[indice_np[:,0],indice_np[:,1],:] = 1.\n",
    "        \n",
    "        input_2Drepr = np.zeros([H, W, 3], dtype='float16')\n",
    "        input_2Drepr[indice_np[:,0],indice_np[:,1],:] = input_np\n",
    "        \n",
    "        target_2Drepr = np.zeros([H, W, 1], dtype='float16')\n",
    "        target_2Drepr[target_np[:,0],target_np[:,1],:] = 1.\n",
    "        \n",
    "        input_bin_mask = np.rollaxis(input_bin_mask, 2, 0)\n",
    "        input_bin_mask = torch.from_numpy(input_bin_mask).float()\n",
    "        \n",
    "        input_2Drepr = np.rollaxis(input_2Drepr, 2, 0)\n",
    "        input_2Drepr = torch.from_numpy(input_2Drepr).float()\n",
    "        \n",
    "        target_2Drepr = np.rollaxis(target_2Drepr, 2, 0)\n",
    "        target_2Drepr = torch.from_numpy(target_2Drepr).float()\n",
    "        \n",
    "        return [input_bin_mask, input_2Drepr, target_2Drepr]"
   ]
  },
  {
   "cell_type": "code",
   "execution_count": 5,
   "metadata": {},
   "outputs": [
    {
     "data": {
      "image/png": "[encoded data removed]",
      "text/plain": [
       "<Figure size 576x576 with 1 Axes>"
      ]
     },
     "metadata": {
      "needs_background": "light"
     },
     "output_type": "display_data"
    },
    {
     "data": {
      "image/png": "[encoded data removed]",
      "text/plain": [
       "<Figure size 576x576 with 1 Axes>"
      ]
     },
     "metadata": {
      "needs_background": "light"
     },
     "output_type": "display_data"
    },
    {
     "data": {
      "image/png": "[encoded data removed]",
      "text/plain": [
       "<Figure size 576x576 with 1 Axes>"
      ]
     },
     "metadata": {
      "needs_background": "light"
     },
     "output_type": "display_data"
    }
   ],
   "source": [
    "dataset = Sky303Dataset()\n",
    "input_bin_mask, input_2Drepr, target_2Drepr = dataset[0]\n",
    "\n",
    "plt.figure(figsize=(8,8))\n",
    "plt.imshow((input_bin_mask.permute(1,2,0).numpy()[:,:,-1]).squeeze())\n",
    "plt.show()\n",
    "\n",
    "plt.figure(figsize=(8,8))\n",
    "plt.imshow(input_2Drepr.permute(1,2,0).numpy()[:,:,-1]/350.)\n",
    "plt.show()\n",
    "\n",
    "plt.figure(figsize=(8,8))\n",
    "plt.imshow((target_2Drepr.permute(1,2,0).numpy()[:,:,-1]).squeeze())\n",
    "plt.show()"
   ]
  },
  {
   "cell_type": "markdown",
   "metadata": {},
   "source": [
    "# Model"
   ]
  },
  {
   "cell_type": "code",
   "execution_count": 6,
   "metadata": {},
   "outputs": [
    {
     "name": "stdout",
     "output_type": "stream",
     "text": [
      "cuda\n"
     ]
    }
   ],
   "source": [
    "import torch.nn as nn\n",
    "import torch.optim as optim\n",
    "\n",
    "# importing the importlib.util module\n",
    "import importlib.util\n",
    "\n",
    "# Define the module path\n",
    "module_path = \"../smap/smap.py\"\n",
    "\n",
    "# Load the module using importlib.util\n",
    "spec = importlib.util.spec_from_file_location(\"smap\", module_path)\n",
    "smap_module = importlib.util.module_from_spec(spec)\n",
    "sys.modules[\"smap\"] = smap_module\n",
    "spec.loader.exec_module(smap_module)\n",
    "\n",
    "# Gets the GPU if there is one, otherwise the cpu\n",
    "device = torch.device(\"cuda\" if torch.cuda.is_available() else \"cpu\")\n",
    "print(device)"
   ]
  },
  {
   "cell_type": "code",
   "execution_count": 7,
   "metadata": {},
   "outputs": [],
   "source": [
    "class Model(nn.Module):\n",
    "    def __init__(self, camera_matrix, n=0):\n",
    "        super(Model,self).__init__()\n",
    "        self.n = n\n",
    "        self.camera_matrix = nn.Parameter(torch.from_numpy(camera_matrix), requires_grad=False)\n",
    "        self.camera_matrix_inv = nn.Parameter(torch.from_numpy(np.linalg.inv(camera_matrix)), requires_grad=False)\n",
    "        \n",
    "        self.phi = nn.Parameter(torch.from_numpy(np.array([.0])).float().reshape(1,1), requires_grad=True)\n",
    "        self.gamma = nn.Parameter(torch.from_numpy(np.array([.0])).float().reshape(1,1), requires_grad=True)\n",
    "        self.rho = nn.Parameter(torch.from_numpy(np.array([.0])).float().reshape(1,1), requires_grad=True)\n",
    "        self.theta = nn.Parameter(torch.from_numpy(np.array([0.,-0.,0.])).float().reshape(1,3,1,1), requires_grad=True)\n",
    "        self.smap_layer = smap_module.SMap(n, IMG_SHAPE[0], IMG_SHAPE[1], camera_matrix, device)\n",
    "        \n",
    "        self.I00 = nn.Parameter(torch.from_numpy(np.array([[1.,.0,.0],[.0,0.,.0],[.0,.0,0.]])).float().reshape(3,3), requires_grad=False)\n",
    "        self.I01 = nn.Parameter(torch.from_numpy(np.array([[0.,1.,.0],[.0,0.,.0],[.0,.0,0.]])).float().reshape(3,3), requires_grad=False)\n",
    "        self.I10 = nn.Parameter(torch.from_numpy(np.array([[0.,.0,.0],[1.,0.,.0],[.0,.0,0.]])).float().reshape(3,3), requires_grad=False)\n",
    "        self.I11 = nn.Parameter(torch.from_numpy(np.array([[0.,.0,.0],[.0,1.,.0],[.0,.0,0.]])).float().reshape(3,3), requires_grad=False)\n",
    "        self.I22 = nn.Parameter(torch.from_numpy(np.array([[0.,.0,.0],[.0,0.,.0],[.0,.0,1.]])).float().reshape(3,3), requires_grad=False)\n",
    "        \n",
    "    def to_3d(self, z, height, width, panels, original_size):\n",
    "        y_im, x_im = panels\n",
    "        y_im, x_im = torch.from_numpy(y_im).reshape(height, width), torch.from_numpy(x_im).reshape(height, width)\n",
    "        y_im = y_im * IMG_SHAPE[0] / original_size[0]\n",
    "        x_im = x_im * IMG_SHAPE[1] / original_size[1]\n",
    "        y_im, x_im = y_im.to(device), x_im.to(device)\n",
    "        \n",
    "        imp_co = torch.cat([torch.einsum('hw,bczhw->bczhw', x_im.float(), torch.ones_like(z.unsqueeze(2)).float()), torch.einsum('hw,bczhw->bczhw', y_im.float(), torch.ones_like(z.unsqueeze(2)).float()), torch.ones_like(z.unsqueeze(2))], 2)\n",
    "        imp_co = imp_co.reshape(z.size(0),z.size(1),3,height,width)\n",
    "        imp_co = torch.einsum('bchw,bczhw->bczhw', z.float(), imp_co.float()).reshape(z.size(0),z.size(1),3,-1)\n",
    "        regr_co = torch.einsum('xz,yz->xy', imp_co.reshape(z.size(0),z.size(1),3,-1).permute(0,1,3,2).reshape(-1,3).float(), self.camera_matrix_inv.float())\n",
    "        regr_co = regr_co.reshape(z.size(0),z.size(1),-1,3).permute(0,1,3,2).reshape(z.size(0),z.size(1),3,height*width)\n",
    "        return regr_co\n",
    "        \n",
    "    def forward(self, r_x, r_mask, target_2Dr=None, zoom=0):\n",
    "        mask = r_mask\n",
    "        \n",
    "        x = r_x[:,-1:,:,:]\n",
    "        height, width = x.size(-2), x.size(-1)\n",
    "        panels = list(np.where(np.ones([height, width])))\n",
    "        panels[0] = panels[0] + .5\n",
    "        panels[1] = panels[1] + .5\n",
    "        \n",
    "        x = self.to_3d(x[:,-1:,:,:].reshape(-1,1,height,width), height, width, panels, (height, width)).reshape(-1,3,height,width)\n",
    "        \n",
    "        phi = torch.tanh(3e-2*self.phi)*np.pi\n",
    "        gamma = torch.tanh(3e-2*self.gamma)*np.pi\n",
    "        rho = torch.tanh(3e-2*self.rho)*np.pi\n",
    "        r = torch.cos(phi)*self.I00-torch.sin(phi)*self.I01+torch.sin(phi)*self.I10+torch.cos(phi)*self.I11+self.I22\n",
    "        y = torch.cos(gamma)*self.I00-torch.sin(gamma)*self.I01+torch.sin(gamma)*self.I10+torch.cos(gamma)*self.I11+self.I22\n",
    "        p = torch.cos(rho)*self.I00-torch.sin(rho)*self.I01+torch.sin(rho)*self.I10+torch.cos(rho)*self.I11+self.I22\n",
    "        \n",
    "        x_r = torch.einsum('bdef,cd->bcef',x,r.detach())+torch.einsum('bdef,cd->bcef',torch.sign(x),(r-r.detach()))\n",
    "        x_r = torch.cat([x_r[:,1:,:,:],x_r[:,:1,:,:]],dim=1)\n",
    "        x_r = torch.einsum('bdef,cd->bcef',x_r,y.detach())+torch.einsum('bdef,cd->bcef',torch.sign(x_r),(y-y.detach()))\n",
    "        x_r = torch.cat([x_r[:,1:,:,:],x_r[:,:1,:,:]],dim=1)\n",
    "        x_r = torch.einsum('bdef,cd->bcef',x_r,p.detach())+torch.einsum('bdef,cd->bcef',torch.sign(x_r),(p-p.detach()))\n",
    "        x_r = torch.cat([x_r[:,1:,:,:],x_r[:,:1,:,:]],dim=1)\n",
    "        \n",
    "        x_t = x_r.detach()+self.theta\n",
    "        x_t = torch.where((x[:,-1:,:,:])>0.,x_t,x_t.detach())\n",
    "        x_t = torch.where((mask>.5),x_t,torch.zeros_like(x_t))\n",
    "        k_t = torch.where((x_t[:,-1:,:,:])>0.,5./(torch.abs(x_t[:,-1:,:,:])+1e-7),torch.ones_like(x_t[:,-1:,:,:]))\n",
    "        \n",
    "        x_r = x_r+(mask>.5).float()*self.theta.detach()\n",
    "\n",
    "        weights = self.smap_layer(torch.cat([k_t*x_t+(x_r-x_r.detach()), mask], dim=1), target_2Dr, zoom)\n",
    "\n",
    "        return phi, gamma, rho, mask, weights"
   ]
  },
  {
   "cell_type": "code",
   "execution_count": 8,
   "metadata": {},
   "outputs": [],
   "source": [
    "def create_model(camera_matrix, n):\n",
    "    return Model(camera_matrix, n)"
   ]
  },
  {
   "cell_type": "markdown",
   "metadata": {},
   "source": [
    "# Datasets"
   ]
  },
  {
   "cell_type": "code",
   "execution_count": 9,
   "metadata": {},
   "outputs": [],
   "source": [
    "from sklearn.model_selection import train_test_split\n",
    "from torch.utils.data import Dataset, DataLoader, SequentialSampler, SubsetRandomSampler"
   ]
  },
  {
   "cell_type": "code",
   "execution_count": 10,
   "metadata": {},
   "outputs": [],
   "source": [
    "train_idx, valid_idx= train_test_split(\n",
    "    np.random.choice(np.arange(N_CONFIGURATIONS), size=512, replace=False), test_size=0.25, random_state=0, shuffle=True)\n",
    "\n",
    "train_sampler = SubsetRandomSampler(train_idx)\n",
    "valid_sampler = SequentialSampler(valid_idx)"
   ]
  },
  {
   "cell_type": "markdown",
   "metadata": {},
   "source": [
    "# Training"
   ]
  },
  {
   "cell_type": "code",
   "execution_count": 11,
   "metadata": {},
   "outputs": [],
   "source": [
    "def l1_error(pred, target):\n",
    "    shapes = target.size()\n",
    "    m_batch_size, height, width = shapes[0], shapes[-2], shapes[-1]\n",
    "    \n",
    "    pred = pred.reshape(m_batch_size, -1, height*width)\n",
    "    pred_m = (torch.max(pred.reshape(m_batch_size, -1, height*width),dim=1,keepdim=True).values>.5).float()\n",
    "    target = target.reshape(m_batch_size, 1, -1)\n",
    "    target_m = target.reshape(m_batch_size, 1, -1)\n",
    "    \n",
    "    loss = torch.abs(pred-target)\n",
    "    loss_m = torch.abs(pred_m-target_m)*pred_m\n",
    "    \n",
    "    loss = loss.reshape(m_batch_size, -1).sum(dim=1)\n",
    "    loss_m = loss_m.reshape(m_batch_size, -1).sum(dim=1)\n",
    "    \n",
    "    loss = torch.mean(loss_m).detach()+(loss-loss.detach()).sum()\n",
    "    return loss\n",
    "\n",
    "def train_loop_fn(loader, zoom, epoch, history=None):\n",
    "    model.train()\n",
    "    for batch_idx, (r_mask_batch, input_2Dr_batch, target_2Dr_batch) in enumerate(tqdm(loader)):\n",
    "        m_batchsize, height, width = r_mask_batch.size(0), r_mask_batch.size(-2), r_mask_batch.size(-1)\n",
    "        if m_batchsize != batch_size:\n",
    "            break\n",
    "        else:\n",
    "            r_mask_batch, input_2Dr_batch, target_2Dr_batch = r_mask_batch.to(device), input_2Dr_batch.to(device), target_2Dr_batch.to(device)\n",
    "\n",
    "        optimizer.zero_grad()\n",
    "        \n",
    "        r, p, y, r_mask, weights = model(input_2Dr_batch, r_mask_batch, target_2Dr_batch, zoom)\n",
    "        \n",
    "        target_2Dr = target_2Dr_batch.reshape(m_batchsize,1,H//(2**zoom),(2**zoom),W//(2**zoom),(2**zoom)).permute(0,3,5,1,2,4).reshape(m_batchsize,(2**(zoom+zoom)),1,H//(2**zoom),W//(2**zoom))\n",
    "        target_2Dr, _ = torch.max(target_2Dr,dim=1,keepdim=False)\n",
    "        \n",
    "        r_mask = r_mask_batch.reshape(m_batchsize,1,H//(2**zoom),(2**zoom),W//(2**zoom),(2**zoom)).permute(0,3,5,1,2,4).reshape(m_batchsize,(2**(zoom+zoom)),1,H//(2**zoom),W//(2**zoom))\n",
    "        r_mask, _ = torch.max(r_mask,dim=1,keepdim=False)\n",
    "\n",
    "\n",
    "        loss = l1_error(weights, target_2Dr)\n",
    "        \n",
    "        loss.backward()\n",
    "        optimizer.step()\n",
    "        \n",
    "        p = torch.tanh(3e-2*model.phi)*np.pi\n",
    "        y = torch.tanh(3e-2*model.gamma)*np.pi\n",
    "        r = torch.tanh(3e-2*model.rho)*np.pi\n",
    "        print('theta_x: %.4f' % ((model.theta[0,0,0,0]).detach().cpu().numpy()))\n",
    "        print('theta_y: %.4f' % ((model.theta[0,1,0,0]).detach().cpu().numpy()))\n",
    "        print('theta_z: %.4f' % ((model.theta[0,2,0,0]).detach().cpu().numpy()))\n",
    "        print('phi: %.4f' % ((r[0,0]).detach().cpu().numpy()))\n",
    "        print('gamma: %.4f' % ((p[0,0]).detach().cpu().numpy()))\n",
    "        print('rho: %.4f' % ((y[0,0]).detach().cpu().numpy()))\n",
    "\n",
    "        loss_np = loss.detach().cpu().numpy()\n",
    "\n",
    "        history.loc[(zoom, epoch, batch_idx), 'theta_x'] = (model.theta[0,0,0,0]).detach().cpu().numpy()\n",
    "        history.loc[(zoom, epoch, batch_idx), 'theta_y'] = (model.theta[0,1,0,0]).detach().cpu().numpy()\n",
    "        history.loc[(zoom, epoch, batch_idx), 'theta_z'] = (model.theta[0,2,0,0]).detach().cpu().numpy()\n",
    "        history.loc[(zoom, epoch, batch_idx), 'phi'] = (r[0,0]).detach().cpu().numpy()\n",
    "        history.loc[(zoom, epoch, batch_idx), 'gamma'] = (p[0,0]).detach().cpu().numpy()\n",
    "        history.loc[(zoom, epoch, batch_idx), 'rho'] = (y[0,0]).detach().cpu().numpy()\n",
    "        history.loc[(zoom, epoch, batch_idx), 'loss'] = loss_np\n",
    "        \n",
    "    print('Train Epoch: ({}, {}) \\tLR: {:.6f}\\tLoss: {:.6f}'.format(\n",
    "            zoom, epoch,\n",
    "            optimizer.state_dict()['param_groups'][0]['lr'],\n",
    "            history['loss'].iloc[(-len(train_loader)+1):].mean()))\n",
    "    \n",
    "def evaluate_model(loader, key, history=None):\n",
    "    model.eval()\n",
    "    loss_np = 0.\n",
    "    count = 0.\n",
    "\n",
    "    with torch.no_grad():\n",
    "        for batch_idx, (r_mask_batch, input_2Dr_batch, target_2Dr_batch) in enumerate(tqdm(loader)):\n",
    "            m_batchsize = r_mask_batch.size(0)\n",
    "            if m_batchsize != batch_size:\n",
    "                break\n",
    "            r_mask_batch, input_2Dr_batch, target_2Dr_batch = r_mask_batch.to(device), input_2Dr_batch.to(device), target_2Dr_batch.to(device)\n",
    "\n",
    "            optimizer.zero_grad()\n",
    "\n",
    "            r, p, y, r_mask, weights = model(input_2Dr_batch, r_mask_batch, target_2Dr_batch)\n",
    "            \n",
    "            l1 = l1_error(weights, target_2Dr_batch)\n",
    "            loss_np += l1.detach().cpu().numpy()\n",
    "            count = count+1.\n",
    "    loss_np /= count\n",
    "    history.loc[key, 'theta_x'] = (model.theta[0,0,0,0]).detach().cpu().numpy()\n",
    "    history.loc[key, 'theta_y'] = (model.theta[0,1,0,0]).detach().cpu().numpy()\n",
    "    history.loc[key, 'theta_z'] = (model.theta[0,2,0,0]).detach().cpu().numpy()\n",
    "    history.loc[key, 'phi'] = (r[0,0]).detach().cpu().numpy()\n",
    "    history.loc[key, 'gamma'] = (p[0,0]).detach().cpu().numpy()\n",
    "    history.loc[key, 'rho'] = (y[0,0]).detach().cpu().numpy()\n",
    "    history.loc[key, 'dev_loss'] = loss_np\n",
    "    print(\"n_epochs: {} - lr: {}\".format(*key))\n",
    "    print('theta_x: {:.4f}'.format((model.theta[0,0,0,0]).detach().cpu().numpy()))\n",
    "    print('theta_y: {:.4f}'.format((model.theta[0,1,0,0]).detach().cpu().numpy()))\n",
    "    print('theta_z: {:.4f}'.format((model.theta[0,2,0,0]).detach().cpu().numpy()))\n",
    "    print('phi: {:.4f}'.format((r[0,0]).detach().cpu().numpy()))\n",
    "    print('gamma: {:.4f}'.format((p[0,0]).detach().cpu().numpy()))\n",
    "    print('rho: {:.4f}'.format((y[0,0]).detach().cpu().numpy()))\n",
    "    print('Dev loss: {:.4f}'.format(loss_np))"
   ]
  },
  {
   "cell_type": "code",
   "execution_count": null,
   "metadata": {
    "scrolled": true
   },
   "outputs": [
    {
     "name": "stdout",
     "output_type": "stream",
     "text": [
      "Wall time: 0 ns\n"
     ]
    },
    {
     "name": "stderr",
     "output_type": "stream",
     "text": [
      "  4%|███▍                                                                               | 1/24 [00:01<00:25,  1.10s/it]"
     ]
    },
    {
     "name": "stdout",
     "output_type": "stream",
     "text": [
      "theta_x: 0.0020\n",
      "theta_y: -0.0042\n",
      "theta_z: 0.0007\n",
      "phi: 0.0000\n",
      "gamma: -0.0001\n",
      "rho: 0.0001\n"
     ]
    },
    {
     "name": "stderr",
     "output_type": "stream",
     "text": [
      "\r",
      "  8%|██████▉                                                                            | 2/24 [00:01<00:21,  1.02it/s]"
     ]
    },
    {
     "name": "stdout",
     "output_type": "stream",
     "text": [
      "theta_x: 0.0101\n",
      "theta_y: -0.0166\n",
      "theta_z: 0.0025\n",
      "phi: 0.0002\n",
      "gamma: -0.0004\n",
      "rho: 0.0004\n"
     ]
    },
    {
     "name": "stderr",
     "output_type": "stream",
     "text": [
      "\r",
      " 12%|██████████▍                                                                        | 3/24 [00:02<00:18,  1.13it/s]"
     ]
    },
    {
     "name": "stdout",
     "output_type": "stream",
     "text": [
      "theta_x: 0.0133\n",
      "theta_y: -0.0271\n",
      "theta_z: 0.0055\n",
      "phi: 0.0003\n",
      "gamma: -0.0004\n",
      "rho: 0.0007\n"
     ]
    },
    {
     "name": "stderr",
     "output_type": "stream",
     "text": [
      "\r",
      " 17%|█████████████▊                                                                     | 4/24 [00:03<00:16,  1.22it/s]"
     ]
    },
    {
     "name": "stdout",
     "output_type": "stream",
     "text": [
      "theta_x: 0.0159\n",
      "theta_y: -0.0326\n",
      "theta_z: 0.0065\n",
      "phi: 0.0003\n",
      "gamma: -0.0006\n",
      "rho: 0.0008\n"
     ]
    },
    {
     "name": "stderr",
     "output_type": "stream",
     "text": [
      "\r",
      " 21%|█████████████████▎                                                                 | 5/24 [00:03<00:14,  1.27it/s]"
     ]
    },
    {
     "name": "stdout",
     "output_type": "stream",
     "text": [
      "theta_x: 0.0218\n",
      "theta_y: -0.0436\n",
      "theta_z: 0.0104\n",
      "phi: 0.0004\n",
      "gamma: -0.0006\n",
      "rho: 0.0010\n"
     ]
    },
    {
     "name": "stderr",
     "output_type": "stream",
     "text": [
      "\r",
      " 25%|████████████████████▊                                                              | 6/24 [00:04<00:13,  1.31it/s]"
     ]
    },
    {
     "name": "stdout",
     "output_type": "stream",
     "text": [
      "theta_x: 0.0235\n",
      "theta_y: -0.0497\n",
      "theta_z: 0.0113\n",
      "phi: 0.0005\n",
      "gamma: -0.0007\n",
      "rho: 0.0012\n"
     ]
    },
    {
     "name": "stderr",
     "output_type": "stream",
     "text": [
      "\r",
      " 29%|████████████████████████▏                                                          | 7/24 [00:05<00:12,  1.40it/s]"
     ]
    },
    {
     "name": "stdout",
     "output_type": "stream",
     "text": [
      "theta_x: 0.0254\n",
      "theta_y: -0.0580\n",
      "theta_z: 0.0142\n",
      "phi: 0.0005\n",
      "gamma: -0.0007\n",
      "rho: 0.0014\n"
     ]
    },
    {
     "name": "stderr",
     "output_type": "stream",
     "text": [
      "\r",
      " 33%|███████████████████████████▋                                                       | 8/24 [00:05<00:11,  1.44it/s]"
     ]
    },
    {
     "name": "stdout",
     "output_type": "stream",
     "text": [
      "theta_x: 0.0294\n",
      "theta_y: -0.0665\n",
      "theta_z: 0.0175\n",
      "phi: 0.0006\n",
      "gamma: -0.0008\n",
      "rho: 0.0015\n"
     ]
    },
    {
     "name": "stderr",
     "output_type": "stream",
     "text": [
      "\r",
      " 38%|███████████████████████████████▏                                                   | 9/24 [00:06<00:10,  1.45it/s]"
     ]
    },
    {
     "name": "stdout",
     "output_type": "stream",
     "text": [
      "theta_x: 0.0324\n",
      "theta_y: -0.0716\n",
      "theta_z: 0.0174\n",
      "phi: 0.0006\n",
      "gamma: -0.0009\n",
      "rho: 0.0017\n"
     ]
    },
    {
     "name": "stderr",
     "output_type": "stream",
     "text": [
      "\r",
      " 42%|██████████████████████████████████▏                                               | 10/24 [00:07<00:09,  1.46it/s]"
     ]
    },
    {
     "name": "stdout",
     "output_type": "stream",
     "text": [
      "theta_x: 0.0343\n",
      "theta_y: -0.0757\n",
      "theta_z: 0.0183\n",
      "phi: 0.0007\n",
      "gamma: -0.0010\n",
      "rho: 0.0018\n"
     ]
    },
    {
     "name": "stderr",
     "output_type": "stream",
     "text": [
      "\r",
      " 46%|█████████████████████████████████████▌                                            | 11/24 [00:07<00:09,  1.43it/s]"
     ]
    },
    {
     "name": "stdout",
     "output_type": "stream",
     "text": [
      "theta_x: 0.0405\n",
      "theta_y: -0.0852\n",
      "theta_z: 0.0235\n",
      "phi: 0.0008\n",
      "gamma: -0.0012\n",
      "rho: 0.0020\n"
     ]
    },
    {
     "name": "stderr",
     "output_type": "stream",
     "text": [
      "\r",
      " 50%|█████████████████████████████████████████                                         | 12/24 [00:08<00:08,  1.38it/s]"
     ]
    },
    {
     "name": "stdout",
     "output_type": "stream",
     "text": [
      "theta_x: 0.0438\n",
      "theta_y: -0.0902\n",
      "theta_z: 0.0251\n",
      "phi: 0.0008\n",
      "gamma: -0.0012\n",
      "rho: 0.0021\n"
     ]
    },
    {
     "name": "stderr",
     "output_type": "stream",
     "text": [
      "\r",
      " 54%|████████████████████████████████████████████▍                                     | 13/24 [00:09<00:08,  1.35it/s]"
     ]
    },
    {
     "name": "stdout",
     "output_type": "stream",
     "text": [
      "theta_x: 0.0476\n",
      "theta_y: -0.0971\n",
      "theta_z: 0.0258\n",
      "phi: 0.0009\n",
      "gamma: -0.0013\n",
      "rho: 0.0023\n"
     ]
    },
    {
     "name": "stderr",
     "output_type": "stream",
     "text": [
      "\r",
      " 58%|███████████████████████████████████████████████▊                                  | 14/24 [00:10<00:07,  1.36it/s]"
     ]
    },
    {
     "name": "stdout",
     "output_type": "stream",
     "text": [
      "theta_x: 0.0489\n",
      "theta_y: -0.0981\n",
      "theta_z: 0.0259\n",
      "phi: 0.0009\n",
      "gamma: -0.0014\n",
      "rho: 0.0023\n"
     ]
    },
    {
     "name": "stderr",
     "output_type": "stream",
     "text": [
      "\r",
      " 62%|███████████████████████████████████████████████████▎                              | 15/24 [00:10<00:06,  1.36it/s]"
     ]
    },
    {
     "name": "stdout",
     "output_type": "stream",
     "text": [
      "theta_x: 0.0550\n",
      "theta_y: -0.1043\n",
      "theta_z: 0.0284\n",
      "phi: 0.0010\n",
      "gamma: -0.0015\n",
      "rho: 0.0024\n"
     ]
    },
    {
     "name": "stderr",
     "output_type": "stream",
     "text": [
      "\r",
      " 67%|██████████████████████████████████████████████████████▋                           | 16/24 [00:11<00:05,  1.35it/s]"
     ]
    },
    {
     "name": "stdout",
     "output_type": "stream",
     "text": [
      "theta_x: 0.0586\n",
      "theta_y: -0.1080\n",
      "theta_z: 0.0283\n",
      "phi: 0.0011\n",
      "gamma: -0.0015\n",
      "rho: 0.0025\n"
     ]
    },
    {
     "name": "stderr",
     "output_type": "stream",
     "text": [
      "\r",
      " 71%|██████████████████████████████████████████████████████████                        | 17/24 [00:12<00:05,  1.29it/s]"
     ]
    },
    {
     "name": "stdout",
     "output_type": "stream",
     "text": [
      "theta_x: 0.0597\n",
      "theta_y: -0.1127\n",
      "theta_z: 0.0307\n",
      "phi: 0.0011\n",
      "gamma: -0.0015\n",
      "rho: 0.0026\n"
     ]
    },
    {
     "name": "stderr",
     "output_type": "stream",
     "text": [
      "\r",
      " 75%|█████████████████████████████████████████████████████████████▌                    | 18/24 [00:13<00:04,  1.27it/s]"
     ]
    },
    {
     "name": "stdout",
     "output_type": "stream",
     "text": [
      "theta_x: 0.0634\n",
      "theta_y: -0.1160\n",
      "theta_z: 0.0319\n",
      "phi: 0.0012\n",
      "gamma: -0.0017\n",
      "rho: 0.0027\n"
     ]
    },
    {
     "name": "stderr",
     "output_type": "stream",
     "text": [
      "\r",
      " 79%|████████████████████████████████████████████████████████████████▉                 | 19/24 [00:14<00:03,  1.29it/s]"
     ]
    },
    {
     "name": "stdout",
     "output_type": "stream",
     "text": [
      "theta_x: 0.0662\n",
      "theta_y: -0.1190\n",
      "theta_z: 0.0325\n",
      "phi: 0.0012\n",
      "gamma: -0.0017\n",
      "rho: 0.0028\n"
     ]
    },
    {
     "name": "stderr",
     "output_type": "stream",
     "text": [
      "\r",
      " 83%|████████████████████████████████████████████████████████████████████▎             | 20/24 [00:14<00:03,  1.29it/s]"
     ]
    },
    {
     "name": "stdout",
     "output_type": "stream",
     "text": [
      "theta_x: 0.0685\n",
      "theta_y: -0.1243\n",
      "theta_z: 0.0335\n",
      "phi: 0.0013\n",
      "gamma: -0.0018\n",
      "rho: 0.0029\n"
     ]
    },
    {
     "name": "stderr",
     "output_type": "stream",
     "text": [
      "\r",
      " 88%|███████████████████████████████████████████████████████████████████████▊          | 21/24 [00:15<00:02,  1.37it/s]"
     ]
    },
    {
     "name": "stdout",
     "output_type": "stream",
     "text": [
      "theta_x: 0.0701\n",
      "theta_y: -0.1258\n",
      "theta_z: 0.0347\n",
      "phi: 0.0013\n",
      "gamma: -0.0018\n",
      "rho: 0.0030\n"
     ]
    },
    {
     "name": "stderr",
     "output_type": "stream",
     "text": [
      "\r",
      " 92%|███████████████████████████████████████████████████████████████████████████▏      | 22/24 [00:16<00:01,  1.39it/s]"
     ]
    },
    {
     "name": "stdout",
     "output_type": "stream",
     "text": [
      "theta_x: 0.0744\n",
      "theta_y: -0.1318\n",
      "theta_z: 0.0375\n",
      "phi: 0.0014\n",
      "gamma: -0.0018\n",
      "rho: 0.0031\n"
     ]
    },
    {
     "name": "stderr",
     "output_type": "stream",
     "text": [
      "\r",
      " 96%|██████████████████████████████████████████████████████████████████████████████▌   | 23/24 [00:16<00:00,  1.41it/s]"
     ]
    },
    {
     "name": "stdout",
     "output_type": "stream",
     "text": [
      "theta_x: 0.0804\n",
      "theta_y: -0.1397\n",
      "theta_z: 0.0412\n",
      "phi: 0.0015\n",
      "gamma: -0.0018\n",
      "rho: 0.0032\n"
     ]
    },
    {
     "name": "stderr",
     "output_type": "stream",
     "text": [
      "100%|██████████████████████████████████████████████████████████████████████████████████| 24/24 [00:17<00:00,  1.37it/s]\n",
      "  0%|                                                                                           | 0/24 [00:00<?, ?it/s]"
     ]
    },
    {
     "name": "stdout",
     "output_type": "stream",
     "text": [
      "theta_x: 0.0880\n",
      "theta_y: -0.1453\n",
      "theta_z: 0.0451\n",
      "phi: 0.0016\n",
      "gamma: -0.0019\n",
      "rho: 0.0033\n",
      "Train Epoch: (4, 0) \tLR: 0.000100\tLoss: 1.597826\n"
     ]
    },
    {
     "name": "stderr",
     "output_type": "stream",
     "text": [
      "\r",
      "  4%|███▍                                                                               | 1/24 [00:00<00:08,  2.76it/s]"
     ]
    },
    {
     "name": "stdout",
     "output_type": "stream",
     "text": [
      "theta_x: 0.0908\n",
      "theta_y: -0.1483\n",
      "theta_z: 0.0463\n",
      "phi: 0.0017\n",
      "gamma: -0.0020\n",
      "rho: 0.0034\n"
     ]
    },
    {
     "name": "stderr",
     "output_type": "stream",
     "text": [
      "\r",
      "  8%|██████▉                                                                            | 2/24 [00:00<00:07,  2.78it/s]"
     ]
    },
    {
     "name": "stdout",
     "output_type": "stream",
     "text": [
      "theta_x: 0.0941\n",
      "theta_y: -0.1487\n",
      "theta_z: 0.0469\n",
      "phi: 0.0017\n",
      "gamma: -0.0020\n",
      "rho: 0.0034\n"
     ]
    },
    {
     "name": "stderr",
     "output_type": "stream",
     "text": [
      "\r",
      " 12%|██████████▍                                                                        | 3/24 [00:01<00:07,  2.83it/s]"
     ]
    },
    {
     "name": "stdout",
     "output_type": "stream",
     "text": [
      "theta_x: 0.0999\n",
      "theta_y: -0.1499\n",
      "theta_z: 0.0464\n",
      "phi: 0.0018\n",
      "gamma: -0.0021\n",
      "rho: 0.0034\n"
     ]
    },
    {
     "name": "stderr",
     "output_type": "stream",
     "text": [
      "\r",
      " 17%|█████████████▊                                                                     | 4/24 [00:01<00:07,  2.84it/s]"
     ]
    },
    {
     "name": "stdout",
     "output_type": "stream",
     "text": [
      "theta_x: 0.1027\n",
      "theta_y: -0.1516\n",
      "theta_z: 0.0482\n",
      "phi: 0.0019\n",
      "gamma: -0.0022\n",
      "rho: 0.0034\n"
     ]
    },
    {
     "name": "stderr",
     "output_type": "stream",
     "text": [
      "\r",
      " 21%|█████████████████▎                                                                 | 5/24 [00:01<00:06,  2.87it/s]"
     ]
    },
    {
     "name": "stdout",
     "output_type": "stream",
     "text": [
      "theta_x: 0.1037\n",
      "theta_y: -0.1541\n",
      "theta_z: 0.0488\n",
      "phi: 0.0019\n",
      "gamma: -0.0022\n",
      "rho: 0.0035\n"
     ]
    },
    {
     "name": "stderr",
     "output_type": "stream",
     "text": [
      "\r",
      " 25%|████████████████████▊                                                              | 6/24 [00:02<00:06,  2.85it/s]"
     ]
    },
    {
     "name": "stdout",
     "output_type": "stream",
     "text": [
      "theta_x: 0.1055\n",
      "theta_y: -0.1553\n",
      "theta_z: 0.0488\n",
      "phi: 0.0019\n",
      "gamma: -0.0022\n",
      "rho: 0.0035\n"
     ]
    },
    {
     "name": "stderr",
     "output_type": "stream",
     "text": [
      "\r",
      " 29%|████████████████████████▏                                                          | 7/24 [00:02<00:05,  2.85it/s]"
     ]
    },
    {
     "name": "stdout",
     "output_type": "stream",
     "text": [
      "theta_x: 0.1105\n",
      "theta_y: -0.1584\n",
      "theta_z: 0.0506\n",
      "phi: 0.0020\n",
      "gamma: -0.0023\n",
      "rho: 0.0036\n"
     ]
    },
    {
     "name": "stderr",
     "output_type": "stream",
     "text": [
      "\r",
      " 33%|███████████████████████████▋                                                       | 8/24 [00:02<00:05,  2.86it/s]"
     ]
    },
    {
     "name": "stdout",
     "output_type": "stream",
     "text": [
      "theta_x: 0.1118\n",
      "theta_y: -0.1619\n",
      "theta_z: 0.0515\n",
      "phi: 0.0020\n",
      "gamma: -0.0023\n",
      "rho: 0.0036\n"
     ]
    },
    {
     "name": "stderr",
     "output_type": "stream",
     "text": [
      "\r",
      " 38%|███████████████████████████████▏                                                   | 9/24 [00:03<00:05,  2.89it/s]"
     ]
    },
    {
     "name": "stdout",
     "output_type": "stream",
     "text": [
      "theta_x: 0.1129\n",
      "theta_y: -0.1640\n",
      "theta_z: 0.0520\n",
      "phi: 0.0021\n",
      "gamma: -0.0024\n",
      "rho: 0.0037\n"
     ]
    },
    {
     "name": "stderr",
     "output_type": "stream",
     "text": [
      "\r",
      " 42%|██████████████████████████████████▏                                               | 10/24 [00:03<00:04,  2.89it/s]"
     ]
    },
    {
     "name": "stdout",
     "output_type": "stream",
     "text": [
      "theta_x: 0.1166\n",
      "theta_y: -0.1648\n",
      "theta_z: 0.0531\n",
      "phi: 0.0021\n",
      "gamma: -0.0024\n",
      "rho: 0.0037\n"
     ]
    },
    {
     "name": "stderr",
     "output_type": "stream",
     "text": [
      "\r",
      " 46%|█████████████████████████████████████▌                                            | 11/24 [00:03<00:04,  2.88it/s]"
     ]
    },
    {
     "name": "stdout",
     "output_type": "stream",
     "text": [
      "theta_x: 0.1178\n",
      "theta_y: -0.1667\n",
      "theta_z: 0.0540\n",
      "phi: 0.0022\n",
      "gamma: -0.0024\n",
      "rho: 0.0037\n"
     ]
    },
    {
     "name": "stderr",
     "output_type": "stream",
     "text": [
      "\r",
      " 50%|█████████████████████████████████████████                                         | 12/24 [00:04<00:04,  2.91it/s]"
     ]
    },
    {
     "name": "stdout",
     "output_type": "stream",
     "text": [
      "theta_x: 0.1182\n",
      "theta_y: -0.1696\n",
      "theta_z: 0.0548\n",
      "phi: 0.0022\n",
      "gamma: -0.0025\n",
      "rho: 0.0038\n"
     ]
    },
    {
     "name": "stderr",
     "output_type": "stream",
     "text": [
      "\r",
      " 54%|████████████████████████████████████████████▍                                     | 13/24 [00:04<00:03,  2.89it/s]"
     ]
    },
    {
     "name": "stdout",
     "output_type": "stream",
     "text": [
      "theta_x: 0.1191\n",
      "theta_y: -0.1703\n",
      "theta_z: 0.0547\n",
      "phi: 0.0022\n",
      "gamma: -0.0025\n",
      "rho: 0.0038\n"
     ]
    },
    {
     "name": "stderr",
     "output_type": "stream",
     "text": [
      "\r",
      " 58%|███████████████████████████████████████████████▊                                  | 14/24 [00:04<00:03,  2.89it/s]"
     ]
    },
    {
     "name": "stdout",
     "output_type": "stream",
     "text": [
      "theta_x: 0.1215\n",
      "theta_y: -0.1707\n",
      "theta_z: 0.0557\n",
      "phi: 0.0022\n",
      "gamma: -0.0025\n",
      "rho: 0.0038\n"
     ]
    },
    {
     "name": "stderr",
     "output_type": "stream",
     "text": [
      "\r",
      " 62%|███████████████████████████████████████████████████▎                              | 15/24 [00:05<00:03,  2.83it/s]"
     ]
    },
    {
     "name": "stdout",
     "output_type": "stream",
     "text": [
      "theta_x: 0.1242\n",
      "theta_y: -0.1724\n",
      "theta_z: 0.0563\n",
      "phi: 0.0023\n",
      "gamma: -0.0026\n",
      "rho: 0.0039\n"
     ]
    },
    {
     "name": "stderr",
     "output_type": "stream",
     "text": [
      "\r",
      " 67%|██████████████████████████████████████████████████████▋                           | 16/24 [00:05<00:02,  2.84it/s]"
     ]
    },
    {
     "name": "stdout",
     "output_type": "stream",
     "text": [
      "theta_x: 0.1255\n",
      "theta_y: -0.1730\n",
      "theta_z: 0.0567\n",
      "phi: 0.0023\n",
      "gamma: -0.0026\n",
      "rho: 0.0039\n"
     ]
    },
    {
     "name": "stderr",
     "output_type": "stream",
     "text": [
      "\r",
      " 71%|██████████████████████████████████████████████████████████                        | 17/24 [00:05<00:02,  2.85it/s]"
     ]
    },
    {
     "name": "stdout",
     "output_type": "stream",
     "text": [
      "theta_x: 0.1285\n",
      "theta_y: -0.1753\n",
      "theta_z: 0.0554\n",
      "phi: 0.0024\n",
      "gamma: -0.0026\n",
      "rho: 0.0039\n"
     ]
    },
    {
     "name": "stderr",
     "output_type": "stream",
     "text": [
      "\r",
      " 75%|█████████████████████████████████████████████████████████████▌                    | 18/24 [00:06<00:02,  2.89it/s]"
     ]
    },
    {
     "name": "stdout",
     "output_type": "stream",
     "text": [
      "theta_x: 0.1308\n",
      "theta_y: -0.1792\n",
      "theta_z: 0.0565\n",
      "phi: 0.0024\n",
      "gamma: -0.0027\n",
      "rho: 0.0040\n"
     ]
    },
    {
     "name": "stderr",
     "output_type": "stream",
     "text": [
      "\r",
      " 79%|████████████████████████████████████████████████████████████████▉                 | 19/24 [00:06<00:01,  2.85it/s]"
     ]
    },
    {
     "name": "stdout",
     "output_type": "stream",
     "text": [
      "theta_x: 0.1332\n",
      "theta_y: -0.1811\n",
      "theta_z: 0.0565\n",
      "phi: 0.0024\n",
      "gamma: -0.0028\n",
      "rho: 0.0040\n"
     ]
    },
    {
     "name": "stderr",
     "output_type": "stream",
     "text": [
      "\r",
      " 83%|████████████████████████████████████████████████████████████████████▎             | 20/24 [00:06<00:01,  2.82it/s]"
     ]
    },
    {
     "name": "stdout",
     "output_type": "stream",
     "text": [
      "theta_x: 0.1346\n",
      "theta_y: -0.1845\n",
      "theta_z: 0.0577\n",
      "phi: 0.0025\n",
      "gamma: -0.0027\n",
      "rho: 0.0041\n"
     ]
    },
    {
     "name": "stderr",
     "output_type": "stream",
     "text": [
      "\r",
      " 88%|███████████████████████████████████████████████████████████████████████▊          | 21/24 [00:07<00:01,  2.82it/s]"
     ]
    },
    {
     "name": "stdout",
     "output_type": "stream",
     "text": [
      "theta_x: 0.1374\n",
      "theta_y: -0.1885\n",
      "theta_z: 0.0577\n",
      "phi: 0.0025\n",
      "gamma: -0.0027\n",
      "rho: 0.0042\n"
     ]
    },
    {
     "name": "stderr",
     "output_type": "stream",
     "text": [
      "\r",
      " 92%|███████████████████████████████████████████████████████████████████████████▏      | 22/24 [00:07<00:00,  2.83it/s]"
     ]
    },
    {
     "name": "stdout",
     "output_type": "stream",
     "text": [
      "theta_x: 0.1389\n",
      "theta_y: -0.1894\n",
      "theta_z: 0.0588\n",
      "phi: 0.0025\n",
      "gamma: -0.0028\n",
      "rho: 0.0042\n"
     ]
    },
    {
     "name": "stderr",
     "output_type": "stream",
     "text": [
      "\r",
      " 96%|██████████████████████████████████████████████████████████████████████████████▌   | 23/24 [00:08<00:00,  2.84it/s]"
     ]
    },
    {
     "name": "stdout",
     "output_type": "stream",
     "text": [
      "theta_x: 0.1403\n",
      "theta_y: -0.1914\n",
      "theta_z: 0.0585\n",
      "phi: 0.0025\n",
      "gamma: -0.0028\n",
      "rho: 0.0043\n"
     ]
    },
    {
     "name": "stderr",
     "output_type": "stream",
     "text": [
      "100%|██████████████████████████████████████████████████████████████████████████████████| 24/24 [00:08<00:00,  2.86it/s]\n",
      "  0%|                                                                                           | 0/24 [00:00<?, ?it/s]"
     ]
    },
    {
     "name": "stdout",
     "output_type": "stream",
     "text": [
      "theta_x: 0.1434\n",
      "theta_y: -0.1941\n",
      "theta_z: 0.0596\n",
      "phi: 0.0026\n",
      "gamma: -0.0029\n",
      "rho: 0.0043\n",
      "Train Epoch: (4, 1) \tLR: 0.000100\tLoss: 0.948370\n"
     ]
    },
    {
     "name": "stderr",
     "output_type": "stream",
     "text": [
      "\r",
      "  4%|███▍                                                                               | 1/24 [00:00<00:08,  2.72it/s]"
     ]
    },
    {
     "name": "stdout",
     "output_type": "stream",
     "text": [
      "theta_x: 0.1457\n",
      "theta_y: -0.1969\n",
      "theta_z: 0.0609\n",
      "phi: 0.0026\n",
      "gamma: -0.0029\n",
      "rho: 0.0044\n"
     ]
    },
    {
     "name": "stderr",
     "output_type": "stream",
     "text": [
      "\r",
      "  8%|██████▉                                                                            | 2/24 [00:00<00:08,  2.74it/s]"
     ]
    },
    {
     "name": "stdout",
     "output_type": "stream",
     "text": [
      "theta_x: 0.1458\n",
      "theta_y: -0.1975\n",
      "theta_z: 0.0610\n",
      "phi: 0.0026\n",
      "gamma: -0.0029\n",
      "rho: 0.0044\n"
     ]
    },
    {
     "name": "stderr",
     "output_type": "stream",
     "text": [
      "\r",
      " 12%|██████████▍                                                                        | 3/24 [00:01<00:07,  2.78it/s]"
     ]
    },
    {
     "name": "stdout",
     "output_type": "stream",
     "text": [
      "theta_x: 0.1475\n",
      "theta_y: -0.1987\n",
      "theta_z: 0.0607\n",
      "phi: 0.0027\n",
      "gamma: -0.0030\n",
      "rho: 0.0044\n"
     ]
    },
    {
     "name": "stderr",
     "output_type": "stream",
     "text": [
      "\r",
      " 17%|█████████████▊                                                                     | 4/24 [00:01<00:07,  2.80it/s]"
     ]
    },
    {
     "name": "stdout",
     "output_type": "stream",
     "text": [
      "theta_x: 0.1487\n",
      "theta_y: -0.1992\n",
      "theta_z: 0.0608\n",
      "phi: 0.0027\n",
      "gamma: -0.0030\n",
      "rho: 0.0044\n"
     ]
    },
    {
     "name": "stderr",
     "output_type": "stream",
     "text": [
      "\r",
      " 21%|█████████████████▎                                                                 | 5/24 [00:01<00:06,  2.79it/s]"
     ]
    },
    {
     "name": "stdout",
     "output_type": "stream",
     "text": [
      "theta_x: 0.1537\n",
      "theta_y: -0.2000\n",
      "theta_z: 0.0622\n",
      "phi: 0.0028\n",
      "gamma: -0.0031\n",
      "rho: 0.0044\n"
     ]
    },
    {
     "name": "stderr",
     "output_type": "stream",
     "text": [
      "\r",
      " 25%|████████████████████▊                                                              | 6/24 [00:02<00:06,  2.80it/s]"
     ]
    },
    {
     "name": "stdout",
     "output_type": "stream",
     "text": [
      "theta_x: 0.1565\n",
      "theta_y: -0.2003\n",
      "theta_z: 0.0609\n",
      "phi: 0.0028\n",
      "gamma: -0.0031\n",
      "rho: 0.0044\n"
     ]
    },
    {
     "name": "stderr",
     "output_type": "stream",
     "text": [
      "\r",
      " 29%|████████████████████████▏                                                          | 7/24 [00:02<00:06,  2.82it/s]"
     ]
    },
    {
     "name": "stdout",
     "output_type": "stream",
     "text": [
      "theta_x: 0.1574\n",
      "theta_y: -0.2011\n",
      "theta_z: 0.0614\n",
      "phi: 0.0028\n",
      "gamma: -0.0032\n",
      "rho: 0.0044\n"
     ]
    },
    {
     "name": "stderr",
     "output_type": "stream",
     "text": [
      "\r",
      " 33%|███████████████████████████▋                                                       | 8/24 [00:02<00:05,  2.81it/s]"
     ]
    },
    {
     "name": "stdout",
     "output_type": "stream",
     "text": [
      "theta_x: 0.1574\n",
      "theta_y: -0.2017\n",
      "theta_z: 0.0616\n",
      "phi: 0.0028\n",
      "gamma: -0.0032\n",
      "rho: 0.0044\n"
     ]
    },
    {
     "name": "stderr",
     "output_type": "stream",
     "text": [
      "\r",
      " 38%|███████████████████████████████▏                                                   | 9/24 [00:03<00:05,  2.83it/s]"
     ]
    },
    {
     "name": "stdout",
     "output_type": "stream",
     "text": [
      "theta_x: 0.1589\n",
      "theta_y: -0.2029\n",
      "theta_z: 0.0625\n",
      "phi: 0.0029\n",
      "gamma: -0.0032\n",
      "rho: 0.0045\n"
     ]
    },
    {
     "name": "stderr",
     "output_type": "stream",
     "text": [
      "\r",
      " 42%|██████████████████████████████████▏                                               | 10/24 [00:03<00:04,  2.84it/s]"
     ]
    },
    {
     "name": "stdout",
     "output_type": "stream",
     "text": [
      "theta_x: 0.1603\n",
      "theta_y: -0.2060\n",
      "theta_z: 0.0637\n",
      "phi: 0.0029\n",
      "gamma: -0.0032\n",
      "rho: 0.0045\n"
     ]
    },
    {
     "name": "stderr",
     "output_type": "stream",
     "text": [
      "\r",
      " 46%|█████████████████████████████████████▌                                            | 11/24 [00:03<00:04,  2.86it/s]"
     ]
    },
    {
     "name": "stdout",
     "output_type": "stream",
     "text": [
      "theta_x: 0.1659\n",
      "theta_y: -0.2067\n",
      "theta_z: 0.0622\n",
      "phi: 0.0030\n",
      "gamma: -0.0033\n",
      "rho: 0.0045\n"
     ]
    },
    {
     "name": "stderr",
     "output_type": "stream",
     "text": [
      "\r",
      " 50%|█████████████████████████████████████████                                         | 12/24 [00:04<00:04,  2.85it/s]"
     ]
    },
    {
     "name": "stdout",
     "output_type": "stream",
     "text": [
      "theta_x: 0.1658\n",
      "theta_y: -0.2075\n",
      "theta_z: 0.0624\n",
      "phi: 0.0030\n",
      "gamma: -0.0033\n",
      "rho: 0.0046\n"
     ]
    },
    {
     "name": "stderr",
     "output_type": "stream",
     "text": [
      "\r",
      " 54%|████████████████████████████████████████████▍                                     | 13/24 [00:04<00:03,  2.86it/s]"
     ]
    },
    {
     "name": "stdout",
     "output_type": "stream",
     "text": [
      "theta_x: 0.1677\n",
      "theta_y: -0.2080\n",
      "theta_z: 0.0632\n",
      "phi: 0.0030\n",
      "gamma: -0.0033\n",
      "rho: 0.0046\n"
     ]
    },
    {
     "name": "stderr",
     "output_type": "stream",
     "text": [
      "\r",
      " 58%|███████████████████████████████████████████████▊                                  | 14/24 [00:04<00:03,  2.85it/s]"
     ]
    },
    {
     "name": "stdout",
     "output_type": "stream",
     "text": [
      "theta_x: 0.1683\n",
      "theta_y: -0.2096\n",
      "theta_z: 0.0640\n",
      "phi: 0.0030\n",
      "gamma: -0.0034\n",
      "rho: 0.0046\n"
     ]
    },
    {
     "name": "stderr",
     "output_type": "stream",
     "text": [
      "\r",
      " 62%|███████████████████████████████████████████████████▎                              | 15/24 [00:05<00:03,  2.86it/s]"
     ]
    },
    {
     "name": "stdout",
     "output_type": "stream",
     "text": [
      "theta_x: 0.1694\n",
      "theta_y: -0.2100\n",
      "theta_z: 0.0636\n",
      "phi: 0.0030\n",
      "gamma: -0.0034\n",
      "rho: 0.0046\n"
     ]
    },
    {
     "name": "stderr",
     "output_type": "stream",
     "text": [
      "\r",
      " 67%|██████████████████████████████████████████████████████▋                           | 16/24 [00:05<00:02,  2.86it/s]"
     ]
    },
    {
     "name": "stdout",
     "output_type": "stream",
     "text": [
      "theta_x: 0.1720\n",
      "theta_y: -0.2120\n",
      "theta_z: 0.0647\n",
      "phi: 0.0031\n",
      "gamma: -0.0034\n",
      "rho: 0.0046\n"
     ]
    },
    {
     "name": "stderr",
     "output_type": "stream",
     "text": [
      "\r",
      " 71%|██████████████████████████████████████████████████████████                        | 17/24 [00:05<00:02,  2.83it/s]"
     ]
    },
    {
     "name": "stdout",
     "output_type": "stream",
     "text": [
      "theta_x: 0.1720\n",
      "theta_y: -0.2130\n",
      "theta_z: 0.0649\n",
      "phi: 0.0031\n",
      "gamma: -0.0034\n",
      "rho: 0.0046\n"
     ]
    },
    {
     "name": "stderr",
     "output_type": "stream",
     "text": [
      "\r",
      " 75%|█████████████████████████████████████████████████████████████▌                    | 18/24 [00:06<00:02,  2.82it/s]"
     ]
    },
    {
     "name": "stdout",
     "output_type": "stream",
     "text": [
      "theta_x: 0.1721\n",
      "theta_y: -0.2132\n",
      "theta_z: 0.0651\n",
      "phi: 0.0031\n",
      "gamma: -0.0035\n",
      "rho: 0.0046\n"
     ]
    },
    {
     "name": "stderr",
     "output_type": "stream",
     "text": [
      "\r",
      " 79%|████████████████████████████████████████████████████████████████▉                 | 19/24 [00:06<00:01,  2.87it/s]"
     ]
    },
    {
     "name": "stdout",
     "output_type": "stream",
     "text": [
      "theta_x: 0.1740\n",
      "theta_y: -0.2136\n",
      "theta_z: 0.0653\n",
      "phi: 0.0031\n",
      "gamma: -0.0035\n",
      "rho: 0.0046\n"
     ]
    },
    {
     "name": "stderr",
     "output_type": "stream",
     "text": [
      "\r",
      " 83%|████████████████████████████████████████████████████████████████████▎             | 20/24 [00:07<00:01,  2.83it/s]"
     ]
    },
    {
     "name": "stdout",
     "output_type": "stream",
     "text": [
      "theta_x: 0.1770\n",
      "theta_y: -0.2144\n",
      "theta_z: 0.0660\n",
      "phi: 0.0031\n",
      "gamma: -0.0035\n",
      "rho: 0.0046\n"
     ]
    },
    {
     "name": "stderr",
     "output_type": "stream",
     "text": [
      "\r",
      " 88%|███████████████████████████████████████████████████████████████████████▊          | 21/24 [00:07<00:01,  2.84it/s]"
     ]
    },
    {
     "name": "stdout",
     "output_type": "stream",
     "text": [
      "theta_x: 0.1792\n",
      "theta_y: -0.2148\n",
      "theta_z: 0.0651\n",
      "phi: 0.0032\n",
      "gamma: -0.0036\n",
      "rho: 0.0046\n"
     ]
    },
    {
     "name": "stderr",
     "output_type": "stream",
     "text": [
      "\r",
      " 92%|███████████████████████████████████████████████████████████████████████████▏      | 22/24 [00:07<00:00,  2.84it/s]"
     ]
    },
    {
     "name": "stdout",
     "output_type": "stream",
     "text": [
      "theta_x: 0.1811\n",
      "theta_y: -0.2167\n",
      "theta_z: 0.0651\n",
      "phi: 0.0032\n",
      "gamma: -0.0036\n",
      "rho: 0.0047\n"
     ]
    },
    {
     "name": "stderr",
     "output_type": "stream",
     "text": [
      "\r",
      " 96%|██████████████████████████████████████████████████████████████████████████████▌   | 23/24 [00:08<00:00,  2.85it/s]"
     ]
    },
    {
     "name": "stdout",
     "output_type": "stream",
     "text": [
      "theta_x: 0.1814\n",
      "theta_y: -0.2188\n",
      "theta_z: 0.0654\n",
      "phi: 0.0032\n",
      "gamma: -0.0036\n",
      "rho: 0.0047\n"
     ]
    },
    {
     "name": "stderr",
     "output_type": "stream",
     "text": [
      "100%|██████████████████████████████████████████████████████████████████████████████████| 24/24 [00:08<00:00,  2.84it/s]\n",
      "  0%|                                                                                           | 0/24 [00:00<?, ?it/s]"
     ]
    },
    {
     "name": "stdout",
     "output_type": "stream",
     "text": [
      "theta_x: 0.1828\n",
      "theta_y: -0.2197\n",
      "theta_z: 0.0657\n",
      "phi: 0.0032\n",
      "gamma: -0.0036\n",
      "rho: 0.0047\n",
      "Train Epoch: (4, 2) \tLR: 0.000100\tLoss: 0.918478\n"
     ]
    },
    {
     "name": "stderr",
     "output_type": "stream",
     "text": [
      "\r",
      "  4%|███▍                                                                               | 1/24 [00:00<00:08,  2.77it/s]"
     ]
    },
    {
     "name": "stdout",
     "output_type": "stream",
     "text": [
      "theta_x: 0.1839\n",
      "theta_y: -0.2199\n",
      "theta_z: 0.0662\n",
      "phi: 0.0033\n",
      "gamma: -0.0036\n",
      "rho: 0.0047\n"
     ]
    },
    {
     "name": "stderr",
     "output_type": "stream",
     "text": [
      "\r",
      "  8%|██████▉                                                                            | 2/24 [00:00<00:07,  2.82it/s]"
     ]
    },
    {
     "name": "stdout",
     "output_type": "stream",
     "text": [
      "theta_x: 0.1873\n",
      "theta_y: -0.2206\n",
      "theta_z: 0.0649\n",
      "phi: 0.0033\n",
      "gamma: -0.0037\n",
      "rho: 0.0047\n"
     ]
    },
    {
     "name": "stderr",
     "output_type": "stream",
     "text": [
      "\r",
      " 12%|██████████▍                                                                        | 3/24 [00:01<00:07,  2.83it/s]"
     ]
    },
    {
     "name": "stdout",
     "output_type": "stream",
     "text": [
      "theta_x: 0.1872\n",
      "theta_y: -0.2208\n",
      "theta_z: 0.0651\n",
      "phi: 0.0033\n",
      "gamma: -0.0037\n",
      "rho: 0.0047\n"
     ]
    },
    {
     "name": "stderr",
     "output_type": "stream",
     "text": [
      "\r",
      " 17%|█████████████▊                                                                     | 4/24 [00:01<00:06,  2.87it/s]"
     ]
    },
    {
     "name": "stdout",
     "output_type": "stream",
     "text": [
      "theta_x: 0.1873\n",
      "theta_y: -0.2207\n",
      "theta_z: 0.0651\n",
      "phi: 0.0033\n",
      "gamma: -0.0037\n",
      "rho: 0.0047\n"
     ]
    },
    {
     "name": "stderr",
     "output_type": "stream",
     "text": [
      "\r",
      " 21%|█████████████████▎                                                                 | 5/24 [00:01<00:06,  2.83it/s]"
     ]
    },
    {
     "name": "stdout",
     "output_type": "stream",
     "text": [
      "theta_x: 0.1879\n",
      "theta_y: -0.2203\n",
      "theta_z: 0.0649\n",
      "phi: 0.0033\n",
      "gamma: -0.0037\n",
      "rho: 0.0046\n"
     ]
    },
    {
     "name": "stderr",
     "output_type": "stream",
     "text": [
      "\r",
      " 25%|████████████████████▊                                                              | 6/24 [00:02<00:06,  2.85it/s]"
     ]
    },
    {
     "name": "stdout",
     "output_type": "stream",
     "text": [
      "theta_x: 0.1883\n",
      "theta_y: -0.2207\n",
      "theta_z: 0.0650\n",
      "phi: 0.0034\n",
      "gamma: -0.0037\n",
      "rho: 0.0046\n"
     ]
    },
    {
     "name": "stderr",
     "output_type": "stream",
     "text": [
      "\r",
      " 29%|████████████████████████▏                                                          | 7/24 [00:02<00:05,  2.89it/s]"
     ]
    },
    {
     "name": "stdout",
     "output_type": "stream",
     "text": [
      "theta_x: 0.1898\n",
      "theta_y: -0.2223\n",
      "theta_z: 0.0658\n",
      "phi: 0.0034\n",
      "gamma: -0.0037\n",
      "rho: 0.0046\n"
     ]
    },
    {
     "name": "stderr",
     "output_type": "stream",
     "text": [
      "\r",
      " 33%|███████████████████████████▋                                                       | 8/24 [00:02<00:05,  2.88it/s]"
     ]
    },
    {
     "name": "stdout",
     "output_type": "stream",
     "text": [
      "theta_x: 0.1925\n",
      "theta_y: -0.2224\n",
      "theta_z: 0.0659\n",
      "phi: 0.0034\n",
      "gamma: -0.0038\n",
      "rho: 0.0046\n"
     ]
    },
    {
     "name": "stderr",
     "output_type": "stream",
     "text": [
      "\r",
      " 38%|███████████████████████████████▏                                                   | 9/24 [00:03<00:05,  2.87it/s]"
     ]
    },
    {
     "name": "stdout",
     "output_type": "stream",
     "text": [
      "theta_x: 0.1934\n",
      "theta_y: -0.2226\n",
      "theta_z: 0.0657\n",
      "phi: 0.0034\n",
      "gamma: -0.0038\n",
      "rho: 0.0046\n"
     ]
    },
    {
     "name": "stderr",
     "output_type": "stream",
     "text": [
      "\r",
      " 42%|██████████████████████████████████▏                                               | 10/24 [00:03<00:04,  2.87it/s]"
     ]
    },
    {
     "name": "stdout",
     "output_type": "stream",
     "text": [
      "theta_x: 0.1945\n",
      "theta_y: -0.2236\n",
      "theta_z: 0.0666\n",
      "phi: 0.0035\n",
      "gamma: -0.0038\n",
      "rho: 0.0046\n"
     ]
    },
    {
     "name": "stderr",
     "output_type": "stream",
     "text": [
      "\r",
      " 46%|█████████████████████████████████████▌                                            | 11/24 [00:03<00:04,  2.91it/s]"
     ]
    },
    {
     "name": "stdout",
     "output_type": "stream",
     "text": [
      "theta_x: 0.1958\n",
      "theta_y: -0.2239\n",
      "theta_z: 0.0661\n",
      "phi: 0.0035\n",
      "gamma: -0.0039\n",
      "rho: 0.0046\n"
     ]
    },
    {
     "name": "stderr",
     "output_type": "stream",
     "text": [
      "\r",
      " 50%|█████████████████████████████████████████                                         | 12/24 [00:04<00:04,  2.85it/s]"
     ]
    },
    {
     "name": "stdout",
     "output_type": "stream",
     "text": [
      "theta_x: 0.1962\n",
      "theta_y: -0.2243\n",
      "theta_z: 0.0661\n",
      "phi: 0.0035\n",
      "gamma: -0.0039\n",
      "rho: 0.0046\n"
     ]
    },
    {
     "name": "stderr",
     "output_type": "stream",
     "text": [
      "\r",
      " 54%|████████████████████████████████████████████▍                                     | 13/24 [00:04<00:03,  2.89it/s]"
     ]
    },
    {
     "name": "stdout",
     "output_type": "stream",
     "text": [
      "theta_x: 0.1972\n",
      "theta_y: -0.2263\n",
      "theta_z: 0.0669\n",
      "phi: 0.0035\n",
      "gamma: -0.0039\n",
      "rho: 0.0047\n"
     ]
    },
    {
     "name": "stderr",
     "output_type": "stream",
     "text": [
      "\r",
      " 58%|███████████████████████████████████████████████▊                                  | 14/24 [00:04<00:03,  2.92it/s]"
     ]
    },
    {
     "name": "stdout",
     "output_type": "stream",
     "text": [
      "theta_x: 0.1990\n",
      "theta_y: -0.2269\n",
      "theta_z: 0.0663\n",
      "phi: 0.0035\n",
      "gamma: -0.0039\n",
      "rho: 0.0047\n"
     ]
    },
    {
     "name": "stderr",
     "output_type": "stream",
     "text": [
      "\r",
      " 62%|███████████████████████████████████████████████████▎                              | 15/24 [00:05<00:03,  2.91it/s]"
     ]
    },
    {
     "name": "stdout",
     "output_type": "stream",
     "text": [
      "theta_x: 0.2028\n",
      "theta_y: -0.2266\n",
      "theta_z: 0.0658\n",
      "phi: 0.0036\n",
      "gamma: -0.0039\n",
      "rho: 0.0047\n"
     ]
    },
    {
     "name": "stderr",
     "output_type": "stream",
     "text": [
      "\r",
      " 67%|██████████████████████████████████████████████████████▋                           | 16/24 [00:05<00:02,  2.90it/s]"
     ]
    },
    {
     "name": "stdout",
     "output_type": "stream",
     "text": [
      "theta_x: 0.2055\n",
      "theta_y: -0.2275\n",
      "theta_z: 0.0656\n",
      "phi: 0.0036\n",
      "gamma: -0.0040\n",
      "rho: 0.0047\n"
     ]
    },
    {
     "name": "stderr",
     "output_type": "stream",
     "text": [
      "\r",
      " 71%|██████████████████████████████████████████████████████████                        | 17/24 [00:05<00:02,  2.92it/s]"
     ]
    },
    {
     "name": "stdout",
     "output_type": "stream",
     "text": [
      "theta_x: 0.2069\n",
      "theta_y: -0.2280\n",
      "theta_z: 0.0662\n",
      "phi: 0.0036\n",
      "gamma: -0.0040\n",
      "rho: 0.0047\n"
     ]
    },
    {
     "name": "stderr",
     "output_type": "stream",
     "text": [
      "\r",
      " 75%|█████████████████████████████████████████████████████████████▌                    | 18/24 [00:06<00:02,  2.86it/s]"
     ]
    },
    {
     "name": "stdout",
     "output_type": "stream",
     "text": [
      "theta_x: 0.2083\n",
      "theta_y: -0.2281\n",
      "theta_z: 0.0669\n",
      "phi: 0.0037\n",
      "gamma: -0.0040\n",
      "rho: 0.0047\n"
     ]
    },
    {
     "name": "stderr",
     "output_type": "stream",
     "text": [
      "\r",
      " 79%|████████████████████████████████████████████████████████████████▉                 | 19/24 [00:06<00:01,  2.81it/s]"
     ]
    },
    {
     "name": "stdout",
     "output_type": "stream",
     "text": [
      "theta_x: 0.2085\n",
      "theta_y: -0.2281\n",
      "theta_z: 0.0668\n",
      "phi: 0.0037\n",
      "gamma: -0.0040\n",
      "rho: 0.0047\n"
     ]
    },
    {
     "name": "stderr",
     "output_type": "stream",
     "text": [
      "\r",
      " 83%|████████████████████████████████████████████████████████████████████▎             | 20/24 [00:06<00:01,  2.83it/s]"
     ]
    },
    {
     "name": "stdout",
     "output_type": "stream",
     "text": [
      "theta_x: 0.2096\n",
      "theta_y: -0.2286\n",
      "theta_z: 0.0673\n",
      "phi: 0.0037\n",
      "gamma: -0.0040\n",
      "rho: 0.0047\n"
     ]
    },
    {
     "name": "stderr",
     "output_type": "stream",
     "text": [
      "\r",
      " 88%|███████████████████████████████████████████████████████████████████████▊          | 21/24 [00:07<00:01,  2.84it/s]"
     ]
    },
    {
     "name": "stdout",
     "output_type": "stream",
     "text": [
      "theta_x: 0.2101\n",
      "theta_y: -0.2289\n",
      "theta_z: 0.0673\n",
      "phi: 0.0037\n",
      "gamma: -0.0041\n",
      "rho: 0.0047\n"
     ]
    },
    {
     "name": "stderr",
     "output_type": "stream",
     "text": [
      "\r",
      " 92%|███████████████████████████████████████████████████████████████████████████▏      | 22/24 [00:07<00:00,  2.85it/s]"
     ]
    },
    {
     "name": "stdout",
     "output_type": "stream",
     "text": [
      "theta_x: 0.2100\n",
      "theta_y: -0.2292\n",
      "theta_z: 0.0673\n",
      "phi: 0.0037\n",
      "gamma: -0.0040\n",
      "rho: 0.0047\n"
     ]
    },
    {
     "name": "stderr",
     "output_type": "stream",
     "text": [
      "\r",
      " 96%|██████████████████████████████████████████████████████████████████████████████▌   | 23/24 [00:08<00:00,  2.85it/s]"
     ]
    },
    {
     "name": "stdout",
     "output_type": "stream",
     "text": [
      "theta_x: 0.2101\n",
      "theta_y: -0.2315\n",
      "theta_z: 0.0679\n",
      "phi: 0.0037\n",
      "gamma: -0.0040\n",
      "rho: 0.0047\n"
     ]
    },
    {
     "name": "stderr",
     "output_type": "stream",
     "text": [
      "100%|██████████████████████████████████████████████████████████████████████████████████| 24/24 [00:08<00:00,  2.86it/s]\n",
      "  0%|                                                                                           | 0/24 [00:00<?, ?it/s]"
     ]
    },
    {
     "name": "stdout",
     "output_type": "stream",
     "text": [
      "theta_x: 0.2117\n",
      "theta_y: -0.2322\n",
      "theta_z: 0.0678\n",
      "phi: 0.0037\n",
      "gamma: -0.0041\n",
      "rho: 0.0047\n",
      "Train Epoch: (4, 3) \tLR: 0.000100\tLoss: 0.861413\n"
     ]
    },
    {
     "name": "stderr",
     "output_type": "stream",
     "text": [
      "\r",
      "  4%|███▍                                                                               | 1/24 [00:00<00:17,  1.33it/s]"
     ]
    },
    {
     "name": "stdout",
     "output_type": "stream",
     "text": [
      "theta_x: 0.2161\n",
      "theta_y: -0.2338\n",
      "theta_z: 0.0667\n",
      "phi: 0.0038\n",
      "gamma: -0.0042\n",
      "rho: 0.0048\n"
     ]
    },
    {
     "name": "stderr",
     "output_type": "stream",
     "text": [
      "\r",
      "  8%|██████▉                                                                            | 2/24 [00:01<00:16,  1.35it/s]"
     ]
    },
    {
     "name": "stdout",
     "output_type": "stream",
     "text": [
      "theta_x: 0.2189\n",
      "theta_y: -0.2334\n",
      "theta_z: 0.0671\n",
      "phi: 0.0038\n",
      "gamma: -0.0042\n",
      "rho: 0.0047\n"
     ]
    },
    {
     "name": "stderr",
     "output_type": "stream",
     "text": [
      "\r",
      " 12%|██████████▍                                                                        | 3/24 [00:02<00:15,  1.35it/s]"
     ]
    },
    {
     "name": "stdout",
     "output_type": "stream",
     "text": [
      "theta_x: 0.2218\n",
      "theta_y: -0.2345\n",
      "theta_z: 0.0675\n",
      "phi: 0.0039\n",
      "gamma: -0.0043\n",
      "rho: 0.0048\n"
     ]
    },
    {
     "name": "stderr",
     "output_type": "stream",
     "text": [
      "\r",
      " 17%|█████████████▊                                                                     | 4/24 [00:02<00:14,  1.36it/s]"
     ]
    },
    {
     "name": "stdout",
     "output_type": "stream",
     "text": [
      "theta_x: 0.2250\n",
      "theta_y: -0.2359\n",
      "theta_z: 0.0682\n",
      "phi: 0.0040\n",
      "gamma: -0.0044\n",
      "rho: 0.0048\n"
     ]
    },
    {
     "name": "stderr",
     "output_type": "stream",
     "text": [
      "\r",
      " 21%|█████████████████▎                                                                 | 5/24 [00:03<00:13,  1.37it/s]"
     ]
    },
    {
     "name": "stdout",
     "output_type": "stream",
     "text": [
      "theta_x: 0.2269\n",
      "theta_y: -0.2360\n",
      "theta_z: 0.0683\n",
      "phi: 0.0040\n",
      "gamma: -0.0044\n",
      "rho: 0.0048\n"
     ]
    },
    {
     "name": "stderr",
     "output_type": "stream",
     "text": [
      "\r",
      " 25%|████████████████████▊                                                              | 6/24 [00:04<00:13,  1.37it/s]"
     ]
    },
    {
     "name": "stdout",
     "output_type": "stream",
     "text": [
      "theta_x: 0.2281\n",
      "theta_y: -0.2356\n",
      "theta_z: 0.0684\n",
      "phi: 0.0040\n",
      "gamma: -0.0044\n",
      "rho: 0.0047\n"
     ]
    },
    {
     "name": "stderr",
     "output_type": "stream",
     "text": [
      "\r",
      " 29%|████████████████████████▏                                                          | 7/24 [00:05<00:12,  1.38it/s]"
     ]
    },
    {
     "name": "stdout",
     "output_type": "stream",
     "text": [
      "theta_x: 0.2293\n",
      "theta_y: -0.2374\n",
      "theta_z: 0.0697\n",
      "phi: 0.0040\n",
      "gamma: -0.0044\n",
      "rho: 0.0048\n"
     ]
    },
    {
     "name": "stderr",
     "output_type": "stream",
     "text": [
      "\r",
      " 33%|███████████████████████████▋                                                       | 8/24 [00:05<00:11,  1.38it/s]"
     ]
    },
    {
     "name": "stdout",
     "output_type": "stream",
     "text": [
      "theta_x: 0.2349\n",
      "theta_y: -0.2374\n",
      "theta_z: 0.0695\n",
      "phi: 0.0041\n",
      "gamma: -0.0045\n",
      "rho: 0.0048\n"
     ]
    },
    {
     "name": "stderr",
     "output_type": "stream",
     "text": [
      "\r",
      " 38%|███████████████████████████████▏                                                   | 9/24 [00:06<00:10,  1.38it/s]"
     ]
    },
    {
     "name": "stdout",
     "output_type": "stream",
     "text": [
      "theta_x: 0.2374\n",
      "theta_y: -0.2373\n",
      "theta_z: 0.0686\n",
      "phi: 0.0042\n",
      "gamma: -0.0046\n",
      "rho: 0.0048\n"
     ]
    },
    {
     "name": "stderr",
     "output_type": "stream",
     "text": [
      "\r",
      " 42%|██████████████████████████████████▏                                               | 10/24 [00:07<00:10,  1.38it/s]"
     ]
    },
    {
     "name": "stdout",
     "output_type": "stream",
     "text": [
      "theta_x: 0.2399\n",
      "theta_y: -0.2372\n",
      "theta_z: 0.0678\n",
      "phi: 0.0042\n",
      "gamma: -0.0046\n",
      "rho: 0.0048\n"
     ]
    },
    {
     "name": "stderr",
     "output_type": "stream",
     "text": [
      "\r",
      " 46%|█████████████████████████████████████▌                                            | 11/24 [00:08<00:09,  1.37it/s]"
     ]
    },
    {
     "name": "stdout",
     "output_type": "stream",
     "text": [
      "theta_x: 0.2450\n",
      "theta_y: -0.2389\n",
      "theta_z: 0.0694\n",
      "phi: 0.0043\n",
      "gamma: -0.0047\n",
      "rho: 0.0048\n"
     ]
    },
    {
     "name": "stderr",
     "output_type": "stream",
     "text": [
      "\r",
      " 50%|█████████████████████████████████████████                                         | 12/24 [00:08<00:08,  1.37it/s]"
     ]
    },
    {
     "name": "stdout",
     "output_type": "stream",
     "text": [
      "theta_x: 0.2466\n",
      "theta_y: -0.2389\n",
      "theta_z: 0.0685\n",
      "phi: 0.0043\n",
      "gamma: -0.0047\n",
      "rho: 0.0048\n"
     ]
    },
    {
     "name": "stderr",
     "output_type": "stream",
     "text": [
      "\r",
      " 54%|████████████████████████████████████████████▍                                     | 13/24 [00:09<00:08,  1.37it/s]"
     ]
    },
    {
     "name": "stdout",
     "output_type": "stream",
     "text": [
      "theta_x: 0.2488\n",
      "theta_y: -0.2391\n",
      "theta_z: 0.0676\n",
      "phi: 0.0044\n",
      "gamma: -0.0047\n",
      "rho: 0.0048\n"
     ]
    },
    {
     "name": "stderr",
     "output_type": "stream",
     "text": [
      "\r",
      " 58%|███████████████████████████████████████████████▊                                  | 14/24 [00:10<00:07,  1.37it/s]"
     ]
    },
    {
     "name": "stdout",
     "output_type": "stream",
     "text": [
      "theta_x: 0.2501\n",
      "theta_y: -0.2395\n",
      "theta_z: 0.0673\n",
      "phi: 0.0044\n",
      "gamma: -0.0047\n",
      "rho: 0.0048\n"
     ]
    },
    {
     "name": "stderr",
     "output_type": "stream",
     "text": [
      "\r",
      " 62%|███████████████████████████████████████████████████▎                              | 15/24 [00:10<00:06,  1.37it/s]"
     ]
    },
    {
     "name": "stdout",
     "output_type": "stream",
     "text": [
      "theta_x: 0.2535\n",
      "theta_y: -0.2388\n",
      "theta_z: 0.0660\n",
      "phi: 0.0045\n",
      "gamma: -0.0048\n",
      "rho: 0.0048\n"
     ]
    },
    {
     "name": "stderr",
     "output_type": "stream",
     "text": [
      "\r",
      " 67%|██████████████████████████████████████████████████████▋                           | 16/24 [00:11<00:05,  1.35it/s]"
     ]
    },
    {
     "name": "stdout",
     "output_type": "stream",
     "text": [
      "theta_x: 0.2553\n",
      "theta_y: -0.2385\n",
      "theta_z: 0.0658\n",
      "phi: 0.0045\n",
      "gamma: -0.0048\n",
      "rho: 0.0048\n"
     ]
    },
    {
     "name": "stderr",
     "output_type": "stream",
     "text": [
      "\r",
      " 71%|██████████████████████████████████████████████████████████                        | 17/24 [00:12<00:05,  1.34it/s]"
     ]
    },
    {
     "name": "stdout",
     "output_type": "stream",
     "text": [
      "theta_x: 0.2562\n",
      "theta_y: -0.2388\n",
      "theta_z: 0.0658\n",
      "phi: 0.0045\n",
      "gamma: -0.0048\n",
      "rho: 0.0048\n"
     ]
    },
    {
     "name": "stderr",
     "output_type": "stream",
     "text": [
      "\r",
      " 75%|█████████████████████████████████████████████████████████████▌                    | 18/24 [00:13<00:04,  1.33it/s]"
     ]
    },
    {
     "name": "stdout",
     "output_type": "stream",
     "text": [
      "theta_x: 0.2574\n",
      "theta_y: -0.2387\n",
      "theta_z: 0.0656\n",
      "phi: 0.0045\n",
      "gamma: -0.0048\n",
      "rho: 0.0047\n"
     ]
    },
    {
     "name": "stderr",
     "output_type": "stream",
     "text": [
      "\r",
      " 79%|████████████████████████████████████████████████████████████████▉                 | 19/24 [00:14<00:03,  1.31it/s]"
     ]
    },
    {
     "name": "stdout",
     "output_type": "stream",
     "text": [
      "theta_x: 0.2588\n",
      "theta_y: -0.2392\n",
      "theta_z: 0.0657\n",
      "phi: 0.0046\n",
      "gamma: -0.0048\n",
      "rho: 0.0048\n"
     ]
    },
    {
     "name": "stderr",
     "output_type": "stream",
     "text": [
      "\r",
      " 83%|████████████████████████████████████████████████████████████████████▎             | 20/24 [00:14<00:03,  1.33it/s]"
     ]
    },
    {
     "name": "stdout",
     "output_type": "stream",
     "text": [
      "theta_x: 0.2601\n",
      "theta_y: -0.2382\n",
      "theta_z: 0.0650\n",
      "phi: 0.0046\n",
      "gamma: -0.0048\n",
      "rho: 0.0047\n"
     ]
    },
    {
     "name": "stderr",
     "output_type": "stream",
     "text": [
      "\r",
      " 88%|███████████████████████████████████████████████████████████████████████▊          | 21/24 [00:15<00:02,  1.32it/s]"
     ]
    },
    {
     "name": "stdout",
     "output_type": "stream",
     "text": [
      "theta_x: 0.2615\n",
      "theta_y: -0.2383\n",
      "theta_z: 0.0643\n",
      "phi: 0.0046\n",
      "gamma: -0.0048\n",
      "rho: 0.0047\n"
     ]
    },
    {
     "name": "stderr",
     "output_type": "stream",
     "text": [
      "\r",
      " 92%|███████████████████████████████████████████████████████████████████████████▏      | 22/24 [00:16<00:01,  1.33it/s]"
     ]
    },
    {
     "name": "stdout",
     "output_type": "stream",
     "text": [
      "theta_x: 0.2633\n",
      "theta_y: -0.2387\n",
      "theta_z: 0.0637\n",
      "phi: 0.0047\n",
      "gamma: -0.0048\n",
      "rho: 0.0047\n"
     ]
    },
    {
     "name": "stderr",
     "output_type": "stream",
     "text": [
      "\r",
      " 96%|██████████████████████████████████████████████████████████████████████████████▌   | 23/24 [00:16<00:00,  1.35it/s]"
     ]
    },
    {
     "name": "stdout",
     "output_type": "stream",
     "text": [
      "theta_x: 0.2644\n",
      "theta_y: -0.2390\n",
      "theta_z: 0.0635\n",
      "phi: 0.0047\n",
      "gamma: -0.0048\n",
      "rho: 0.0047\n"
     ]
    },
    {
     "name": "stderr",
     "output_type": "stream",
     "text": [
      "100%|██████████████████████████████████████████████████████████████████████████████████| 24/24 [00:17<00:00,  1.36it/s]\n",
      "  0%|                                                                                           | 0/24 [00:00<?, ?it/s]"
     ]
    },
    {
     "name": "stdout",
     "output_type": "stream",
     "text": [
      "theta_x: 0.2656\n",
      "theta_y: -0.2389\n",
      "theta_z: 0.0640\n",
      "phi: 0.0047\n",
      "gamma: -0.0048\n",
      "rho: 0.0047\n",
      "Train Epoch: (3, 0) \tLR: 0.000100\tLoss: 2.016304\n"
     ]
    },
    {
     "name": "stderr",
     "output_type": "stream",
     "text": [
      "\r",
      "  4%|███▍                                                                               | 1/24 [00:00<00:17,  1.32it/s]"
     ]
    },
    {
     "name": "stdout",
     "output_type": "stream",
     "text": [
      "theta_x: 0.2661\n",
      "theta_y: -0.2391\n",
      "theta_z: 0.0640\n",
      "phi: 0.0047\n",
      "gamma: -0.0048\n",
      "rho: 0.0047\n"
     ]
    },
    {
     "name": "stderr",
     "output_type": "stream",
     "text": [
      "\r",
      "  8%|██████▉                                                                            | 2/24 [00:01<00:16,  1.34it/s]"
     ]
    },
    {
     "name": "stdout",
     "output_type": "stream",
     "text": [
      "theta_x: 0.2679\n",
      "theta_y: -0.2389\n",
      "theta_z: 0.0640\n",
      "phi: 0.0047\n",
      "gamma: -0.0049\n",
      "rho: 0.0047\n"
     ]
    },
    {
     "name": "stderr",
     "output_type": "stream",
     "text": [
      "\r",
      " 12%|██████████▍                                                                        | 3/24 [00:02<00:15,  1.35it/s]"
     ]
    },
    {
     "name": "stdout",
     "output_type": "stream",
     "text": [
      "theta_x: 0.2692\n",
      "theta_y: -0.2390\n",
      "theta_z: 0.0635\n",
      "phi: 0.0047\n",
      "gamma: -0.0049\n",
      "rho: 0.0047\n"
     ]
    },
    {
     "name": "stderr",
     "output_type": "stream",
     "text": [
      "\r",
      " 17%|█████████████▊                                                                     | 4/24 [00:02<00:14,  1.36it/s]"
     ]
    },
    {
     "name": "stdout",
     "output_type": "stream",
     "text": [
      "theta_x: 0.2715\n",
      "theta_y: -0.2379\n",
      "theta_z: 0.0634\n",
      "phi: 0.0048\n",
      "gamma: -0.0049\n",
      "rho: 0.0047\n"
     ]
    },
    {
     "name": "stderr",
     "output_type": "stream",
     "text": [
      "\r",
      " 21%|█████████████████▎                                                                 | 5/24 [00:03<00:13,  1.36it/s]"
     ]
    },
    {
     "name": "stdout",
     "output_type": "stream",
     "text": [
      "theta_x: 0.2717\n",
      "theta_y: -0.2379\n",
      "theta_z: 0.0634\n",
      "phi: 0.0048\n",
      "gamma: -0.0049\n",
      "rho: 0.0047\n"
     ]
    },
    {
     "name": "stderr",
     "output_type": "stream",
     "text": [
      "\r",
      " 25%|████████████████████▊                                                              | 6/24 [00:04<00:13,  1.37it/s]"
     ]
    },
    {
     "name": "stdout",
     "output_type": "stream",
     "text": [
      "theta_x: 0.2733\n",
      "theta_y: -0.2386\n",
      "theta_z: 0.0632\n",
      "phi: 0.0048\n",
      "gamma: -0.0049\n",
      "rho: 0.0047\n"
     ]
    },
    {
     "name": "stderr",
     "output_type": "stream",
     "text": [
      "\r",
      " 29%|████████████████████████▏                                                          | 7/24 [00:05<00:12,  1.37it/s]"
     ]
    },
    {
     "name": "stdout",
     "output_type": "stream",
     "text": [
      "theta_x: 0.2741\n",
      "theta_y: -0.2397\n",
      "theta_z: 0.0632\n",
      "phi: 0.0048\n",
      "gamma: -0.0049\n",
      "rho: 0.0047\n"
     ]
    },
    {
     "name": "stderr",
     "output_type": "stream",
     "text": [
      "\r",
      " 33%|███████████████████████████▋                                                       | 8/24 [00:05<00:11,  1.38it/s]"
     ]
    },
    {
     "name": "stdout",
     "output_type": "stream",
     "text": [
      "theta_x: 0.2742\n",
      "theta_y: -0.2394\n",
      "theta_z: 0.0631\n",
      "phi: 0.0048\n",
      "gamma: -0.0049\n",
      "rho: 0.0047\n"
     ]
    },
    {
     "name": "stderr",
     "output_type": "stream",
     "text": [
      "\r",
      " 38%|███████████████████████████████▏                                                   | 9/24 [00:06<00:10,  1.38it/s]"
     ]
    },
    {
     "name": "stdout",
     "output_type": "stream",
     "text": [
      "theta_x: 0.2754\n",
      "theta_y: -0.2392\n",
      "theta_z: 0.0632\n",
      "phi: 0.0049\n",
      "gamma: -0.0049\n",
      "rho: 0.0047\n"
     ]
    },
    {
     "name": "stderr",
     "output_type": "stream",
     "text": [
      "\r",
      " 42%|██████████████████████████████████▏                                               | 10/24 [00:07<00:10,  1.38it/s]"
     ]
    },
    {
     "name": "stdout",
     "output_type": "stream",
     "text": [
      "theta_x: 0.2769\n",
      "theta_y: -0.2395\n",
      "theta_z: 0.0637\n",
      "phi: 0.0049\n",
      "gamma: -0.0049\n",
      "rho: 0.0047\n"
     ]
    },
    {
     "name": "stderr",
     "output_type": "stream",
     "text": [
      "\r",
      " 46%|█████████████████████████████████████▌                                            | 11/24 [00:08<00:09,  1.35it/s]"
     ]
    },
    {
     "name": "stdout",
     "output_type": "stream",
     "text": [
      "theta_x: 0.2796\n",
      "theta_y: -0.2408\n",
      "theta_z: 0.0652\n",
      "phi: 0.0049\n",
      "gamma: -0.0049\n",
      "rho: 0.0047\n"
     ]
    },
    {
     "name": "stderr",
     "output_type": "stream",
     "text": [
      "\r",
      " 50%|█████████████████████████████████████████                                         | 12/24 [00:08<00:08,  1.36it/s]"
     ]
    },
    {
     "name": "stdout",
     "output_type": "stream",
     "text": [
      "theta_x: 0.2815\n",
      "theta_y: -0.2403\n",
      "theta_z: 0.0654\n",
      "phi: 0.0050\n",
      "gamma: -0.0049\n",
      "rho: 0.0047\n"
     ]
    },
    {
     "name": "stderr",
     "output_type": "stream",
     "text": [
      "\r",
      " 54%|████████████████████████████████████████████▍                                     | 13/24 [00:09<00:08,  1.37it/s]"
     ]
    }
   ],
   "source": [
    "import time\n",
    "%time\n",
    "\n",
    "\n",
    "n_epochs_list = [2]\n",
    "lr_list = [3e-4]\n",
    "batch_size = 16\n",
    "n = 4\n",
    "optimizer = None\n",
    "model = None\n",
    "\n",
    "\n",
    "train_loader = torch.utils.data.DataLoader(dataset, batch_size=batch_size, num_workers=0, sampler=train_sampler)\n",
    "dev_loader = torch.utils.data.DataLoader(dataset, batch_size=batch_size, num_workers=0, sampler=valid_sampler)\n",
    "\n",
    "fileName = None\n",
    "dev_history = pd.DataFrame(index=pd.MultiIndex.from_tuples((), names=['epoch', 'lr']), columns=['theta_x', 'theta_y', 'theta_z', 'dev_loss'])\n",
    "\n",
    "torch.cuda.empty_cache()\n",
    "gc.collect()\n",
    "\n",
    "for i_epoch in range(len(n_epochs_list)):\n",
    "    for i_lr in range(len(lr_list)):\n",
    "        n_epochs = n_epochs_list[i_epoch]\n",
    "        lr = lr_list[i_lr]\n",
    "        train_history = pd.DataFrame(index=pd.MultiIndex.from_tuples((), names=['zoom', 'epoch', 'batch_id']), columns=['theta_x', 'theta_y', 'theta_z', 'loss'])\n",
    "\n",
    "        model = create_model(CAMERA, n)\n",
    "        if fileName is not None:\n",
    "            state_dict = torch.load(fileName, map_location='cpu')\n",
    "            model.load_state_dict(state_dict, strict=False)\n",
    "            del state_dict\n",
    "            print(\"Loaded!!\")\n",
    "        model = model.to(device)\n",
    "\n",
    "        torch.cuda.empty_cache()\n",
    "\n",
    "        gc.collect()\n",
    "        optimizer = optim.SGD(list(model.parameters()), lr=lr)\n",
    "        scheduler = optim.lr_scheduler.StepLR(optimizer, step_size=n_epochs, gamma=.5)\n",
    "\n",
    "        torch.cuda.empty_cache()\n",
    "        gc.collect()\n",
    "\n",
    "        for i in range(n+1):\n",
    "            for epoch in range(n_epochs):\n",
    "                zoom = n-i\n",
    "                torch.cuda.empty_cache()\n",
    "                gc.collect()\n",
    "\n",
    "                loader = train_loader\n",
    "                train_loop_fn(loader, zoom, epoch, train_history)\n",
    "                \n",
    "                scheduler.step()\n",
    "\n",
    "        loader = dev_loader\n",
    "        start = time.time()*1000.0\n",
    "        evaluate_model(loader, (n_epochs, lr), dev_history)\n",
    "        t_interval = time.time()*1000.0 - start\n",
    "        print(\"Speed: {} ms/sample\".format(t_interval/(len(dev_loader)*batch_size)))\n",
    "\n",
    "        gc.collect()\n",
    "        optimizer = None\n",
    "        gc.collect()\n",
    "\n",
    "        train_history.to_csv('train_history_{}_{}.csv'.format(i_epoch, i_lr))\n",
    "        torch.save(model.state_dict(), \"./model_{}_{}.pth\".format(i_epoch, i_lr))\n",
    "dev_history.to_csv('dev_history.csv')"
   ]
  },
  {
   "cell_type": "markdown",
   "metadata": {},
   "source": [
    "# Result Visualization"
   ]
  },
  {
   "cell_type": "code",
   "execution_count": null,
   "metadata": {},
   "outputs": [],
   "source": [
    "for i_epoch in range(len(n_epochs_list)):\n",
    "    for i_lr in range(len(lr_list)):\n",
    "        train_history = pd.read_csv('train_history_{}_{}.csv'.format(i_epoch, i_lr))\n",
    "        train_history[['loss']].plot();\n",
    "        train_history[['theta_x', 'theta_y', 'theta_z']].plot();"
   ]
  },
  {
   "cell_type": "code",
   "execution_count": null,
   "metadata": {},
   "outputs": [],
   "source": [
    "for i_epoch in range(len(n_epochs_list)):\n",
    "    for i_lr in range(len(lr_list)):\n",
    "        train_history = pd.read_csv('train_history_{}_{}.csv'.format(i_epoch, i_lr))\n",
    "        train_history[['loss']].plot();\n",
    "        train_history[['phi', 'gamma', 'rho']].plot();"
   ]
  },
  {
   "cell_type": "code",
   "execution_count": null,
   "metadata": {},
   "outputs": [],
   "source": [
    "dev_history"
   ]
  },
  {
   "cell_type": "code",
   "execution_count": null,
   "metadata": {},
   "outputs": [],
   "source": [
    "for i_epoch in range(len(n_epochs_list)):\n",
    "    for i_lr in range(len(lr_list)):\n",
    "        train_history = pd.read_csv('train_history_{}_{}.csv'.format(i_epoch, i_lr))\n",
    "        ax = train_history[['theta_x', 'theta_y', 'theta_z']].plot()\n",
    "        fig = ax.get_figure()\n",
    "        fig.savefig('./position.png')"
   ]
  },
  {
   "cell_type": "code",
   "execution_count": null,
   "metadata": {},
   "outputs": [],
   "source": [
    "for i_epoch in range(len(n_epochs_list)):\n",
    "    for i_lr in range(len(lr_list)):\n",
    "        train_history = pd.read_csv('train_history_{}_{}.csv'.format(i_epoch, i_lr))\n",
    "        ax = train_history[['phi', 'gamma', 'rho']].plot()\n",
    "        fig = ax.get_figure()\n",
    "        fig.savefig('./orientation.png')"
   ]
  },
  {
   "cell_type": "code",
   "execution_count": null,
   "metadata": {},
   "outputs": [],
   "source": []
  },
  {
   "cell_type": "code",
   "execution_count": null,
   "metadata": {},
   "outputs": [],
   "source": []
  }
 ],
 "metadata": {
  "kernelspec": {
   "display_name": "Python 3",
   "language": "python",
   "name": "python3"
  },
  "language_info": {
   "codemirror_mode": {
    "name": "ipython",
    "version": 3
   },
   "file_extension": ".py",
   "mimetype": "text/x-python",
   "name": "python",
   "nbconvert_exporter": "python",
   "pygments_lexer": "ipython3",
   "version": "3.6.7"
  }
 },
 "nbformat": 4,
 "nbformat_minor": 4
}
