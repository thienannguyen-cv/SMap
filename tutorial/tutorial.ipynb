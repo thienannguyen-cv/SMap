{
 "cells": [
  {
   "cell_type": "markdown",
   "metadata": {},
   "source": [
    "# Data & Env Initialization"
   ]
  },
  {
   "cell_type": "code",
   "execution_count": 1,
   "metadata": {},
   "outputs": [],
   "source": [
    "import os, sys, gc\n",
    "\n",
    "import zipfile\n",
    "from os import path\n",
    "import numpy as np\n",
    "import pandas as pd\n",
    "from tqdm import tqdm\n",
    "import matplotlib.pyplot as plt\n",
    "\n",
    "zip_file = \"sample_data/Sky303.zip\"\n",
    "data_path = \"sample_data/Sky303/\"\n",
    "\n",
    "if not path.exists(data_path):\n",
    "    with zipfile.ZipFile(zip_file, 'r') as zip_ref:\n",
    "        zip_ref.extractall(\"sample_data/\")\n",
    "\n",
    "input_indice_path = data_path + \"input_indices_{}.npy\"\n",
    "input_data_path = data_path + \"input_data_{}.npy\"\n",
    "target_path = data_path + \"output_indices_{}.npy\""
   ]
  },
  {
   "cell_type": "markdown",
   "metadata": {},
   "source": [
    "# Constants"
   ]
  },
  {
   "cell_type": "code",
   "execution_count": 2,
   "metadata": {},
   "outputs": [],
   "source": [
    "N_CONFIGURATIONS = 4262 # number of configuration of the problem\n",
    "IMG_SHAPE = (1355, 3384, 3)\n",
    "H, W = 128, 256 # the window size\n",
    "\n",
    "CAMERA = np.array([[2304.5479, 0,  1686.2379], # the camera matrix\n",
    "                          [0, 2305.8757, -0.0151],\n",
    "                          [0, 0, 1.]], dtype=np.float32)"
   ]
  },
  {
   "cell_type": "markdown",
   "metadata": {},
   "source": [
    "# Data Viz & Utils"
   ]
  },
  {
   "cell_type": "code",
   "execution_count": 3,
   "metadata": {},
   "outputs": [
    {
     "data": {
      "text/plain": [
       "'1.3.1+cu92'"
      ]
     },
     "execution_count": 3,
     "metadata": {},
     "output_type": "execute_result"
    }
   ],
   "source": [
    "import torch\n",
    "from torch import nn\n",
    "from torch.utils.data import Dataset, DataLoader\n",
    "\n",
    "torch.manual_seed(42)\n",
    "torch.__version__"
   ]
  },
  {
   "cell_type": "code",
   "execution_count": 4,
   "metadata": {},
   "outputs": [],
   "source": [
    "class Sky303Dataset(Dataset):\n",
    "    \"\"\"Car dataset.\"\"\"\n",
    "\n",
    "    def __init__(self):\n",
    "        super(Sky303Dataset,self).__init__()\n",
    "\n",
    "    def __len__(self):\n",
    "        return N_CONFIGURATIONS\n",
    "\n",
    "    def __getitem__(self, idx):\n",
    "        if torch.is_tensor(idx):\n",
    "            idx = idx.tolist()\n",
    "            \n",
    "        indice_np = np.load(input_indice_path.format(idx))\n",
    "        input_np = np.load(input_data_path.format(idx))\n",
    "        target_np = np.load(target_path.format(idx))\n",
    "        \n",
    "        input_bin_mask = np.zeros([H, W, 1], dtype='float16')\n",
    "        input_bin_mask[indice_np[:,0],indice_np[:,1],:] = 1.\n",
    "        \n",
    "        input_2Drepr = np.zeros([H, W, 3], dtype='float16')\n",
    "        input_2Drepr[indice_np[:,0],indice_np[:,1],:] = input_np\n",
    "        \n",
    "        target_2Drepr = np.zeros([H, W, 1], dtype='float16')\n",
    "        target_2Drepr[target_np[:,0],target_np[:,1],:] = 1.\n",
    "        \n",
    "        input_bin_mask = np.rollaxis(input_bin_mask, 2, 0)\n",
    "        input_bin_mask = torch.from_numpy(input_bin_mask).float()\n",
    "        \n",
    "        input_2Drepr = np.rollaxis(input_2Drepr, 2, 0)\n",
    "        input_2Drepr = torch.from_numpy(input_2Drepr).float()\n",
    "        \n",
    "        target_2Drepr = np.rollaxis(target_2Drepr, 2, 0)\n",
    "        target_2Drepr = torch.from_numpy(target_2Drepr).float()\n",
    "        \n",
    "        return [input_bin_mask, input_2Drepr, target_2Drepr]"
   ]
  },
  {
   "cell_type": "code",
   "execution_count": 5,
   "metadata": {},
   "outputs": [
    {
     "data": {
      "image/png": "[encoded data removed]",
      "text/plain": [
       "<Figure size 576x576 with 1 Axes>"
      ]
     },
     "metadata": {
      "needs_background": "light"
     },
     "output_type": "display_data"
    },
    {
     "data": {
      "image/png": "[encoded data removed]",
      "text/plain": [
       "<Figure size 576x576 with 1 Axes>"
      ]
     },
     "metadata": {
      "needs_background": "light"
     },
     "output_type": "display_data"
    },
    {
     "data": {
      "image/png": "[encoded data removed]",
      "text/plain": [
       "<Figure size 576x576 with 1 Axes>"
      ]
     },
     "metadata": {
      "needs_background": "light"
     },
     "output_type": "display_data"
    }
   ],
   "source": [
    "dataset = Sky303Dataset()\n",
    "input_bin_mask, input_2Drepr, target_2Drepr = dataset[0]\n",
    "\n",
    "plt.figure(figsize=(8,8))\n",
    "plt.imshow((input_bin_mask.permute(1,2,0).numpy()[:,:,-1]).squeeze())\n",
    "plt.show()\n",
    "\n",
    "plt.figure(figsize=(8,8))\n",
    "plt.imshow(input_2Drepr.permute(1,2,0).numpy()[:,:,-1]/350.)\n",
    "plt.show()\n",
    "\n",
    "plt.figure(figsize=(8,8))\n",
    "plt.imshow((target_2Drepr.permute(1,2,0).numpy()[:,:,-1]).squeeze())\n",
    "plt.show()"
   ]
  },
  {
   "cell_type": "markdown",
   "metadata": {},
   "source": [
    "# Model"
   ]
  },
  {
   "cell_type": "code",
   "execution_count": 6,
   "metadata": {},
   "outputs": [
    {
     "name": "stdout",
     "output_type": "stream",
     "text": [
      "cuda\n"
     ]
    }
   ],
   "source": [
    "import torch.nn as nn\n",
    "import torch.optim as optim\n",
    "\n",
    "# importing the importlib.util module\n",
    "import importlib.util\n",
    "\n",
    "# Define the module path\n",
    "module_path = \"../smap/smap.py\"\n",
    "\n",
    "# Load the module using importlib.util\n",
    "spec = importlib.util.spec_from_file_location(\"smap\", module_path)\n",
    "smap_module = importlib.util.module_from_spec(spec)\n",
    "sys.modules[\"smap\"] = smap_module\n",
    "spec.loader.exec_module(smap_module)\n",
    "\n",
    "# Gets the GPU if there is one, otherwise the cpu\n",
    "device = torch.device(\"cuda\" if torch.cuda.is_available() else \"cpu\")\n",
    "print(device)"
   ]
  },
  {
   "cell_type": "code",
   "execution_count": 7,
   "metadata": {},
   "outputs": [],
   "source": [
    "class Model(nn.Module):\n",
    "    def __init__(self, camera_matrix, n=0):\n",
    "        super(Model,self).__init__()\n",
    "        self.n = n\n",
    "        self.camera_matrix = nn.Parameter(torch.from_numpy(camera_matrix), requires_grad=False)\n",
    "        self.camera_matrix_inv = nn.Parameter(torch.from_numpy(np.linalg.inv(camera_matrix)), requires_grad=False)\n",
    "        \n",
    "        self.phi = nn.Parameter(torch.from_numpy(np.array([.0])).float().reshape(1,1), requires_grad=True)\n",
    "        self.gamma = nn.Parameter(torch.from_numpy(np.array([.0])).float().reshape(1,1), requires_grad=True)\n",
    "        self.rho = nn.Parameter(torch.from_numpy(np.array([.0])).float().reshape(1,1), requires_grad=True)\n",
    "        self.theta = nn.Parameter(torch.from_numpy(np.array([0.,-0.,0.])).float().reshape(1,3,1,1), requires_grad=True)\n",
    "        self.smap_layer = smap_module.SMap(n, IMG_SHAPE[0], IMG_SHAPE[1], camera_matrix, device)\n",
    "        \n",
    "        self.I00 = nn.Parameter(torch.from_numpy(np.array([[1.,.0,.0],[.0,0.,.0],[.0,.0,0.]])).float().reshape(3,3), requires_grad=False)\n",
    "        self.I01 = nn.Parameter(torch.from_numpy(np.array([[0.,1.,.0],[.0,0.,.0],[.0,.0,0.]])).float().reshape(3,3), requires_grad=False)\n",
    "        self.I10 = nn.Parameter(torch.from_numpy(np.array([[0.,.0,.0],[1.,0.,.0],[.0,.0,0.]])).float().reshape(3,3), requires_grad=False)\n",
    "        self.I11 = nn.Parameter(torch.from_numpy(np.array([[0.,.0,.0],[.0,1.,.0],[.0,.0,0.]])).float().reshape(3,3), requires_grad=False)\n",
    "        self.I22 = nn.Parameter(torch.from_numpy(np.array([[0.,.0,.0],[.0,0.,.0],[.0,.0,1.]])).float().reshape(3,3), requires_grad=False)\n",
    "        \n",
    "    def to_3d(self, z, height, width, panels, original_size):\n",
    "        y_im, x_im = panels\n",
    "        y_im, x_im = torch.from_numpy(y_im).reshape(height, width), torch.from_numpy(x_im).reshape(height, width)\n",
    "        y_im = y_im * IMG_SHAPE[0] / original_size[0]\n",
    "        x_im = x_im * IMG_SHAPE[1] / original_size[1]\n",
    "        y_im, x_im = y_im.to(device), x_im.to(device)\n",
    "        \n",
    "        imp_co = torch.cat([torch.einsum('hw,bczhw->bczhw', x_im.float(), torch.ones_like(z.unsqueeze(2)).float()), torch.einsum('hw,bczhw->bczhw', y_im.float(), torch.ones_like(z.unsqueeze(2)).float()), torch.ones_like(z.unsqueeze(2))], 2)\n",
    "        imp_co = imp_co.reshape(z.size(0),z.size(1),3,height,width)\n",
    "        imp_co = torch.einsum('bchw,bczhw->bczhw', z.float(), imp_co.float()).reshape(z.size(0),z.size(1),3,-1)\n",
    "        regr_co = torch.einsum('xz,yz->xy', imp_co.reshape(z.size(0),z.size(1),3,-1).permute(0,1,3,2).reshape(-1,3).float(), self.camera_matrix_inv.float())\n",
    "        regr_co = regr_co.reshape(z.size(0),z.size(1),-1,3).permute(0,1,3,2).reshape(z.size(0),z.size(1),3,height*width)\n",
    "        return regr_co\n",
    "        \n",
    "    def forward(self, r_x, r_mask, target_2Dr=None, zoom=0):\n",
    "        mask = r_mask\n",
    "        \n",
    "        x = r_x[:,-1:,:,:]\n",
    "        height, width = x.size(-2), x.size(-1)\n",
    "        panels = list(np.where(np.ones([height, width])))\n",
    "        panels[0] = panels[0] + .5\n",
    "        panels[1] = panels[1] + .5\n",
    "        \n",
    "        x = self.to_3d(x[:,-1:,:,:].reshape(-1,1,height,width), height, width, panels, (height, width)).reshape(-1,3,height,width)\n",
    "        \n",
    "        phi = torch.tanh(3e-2*self.phi)*np.pi\n",
    "        gamma = torch.tanh(3e-2*self.gamma)*np.pi\n",
    "        rho = torch.tanh(3e-2*self.rho)*np.pi\n",
    "        r = torch.cos(phi)*self.I00-torch.sin(phi)*self.I01+torch.sin(phi)*self.I10+torch.cos(phi)*self.I11+self.I22\n",
    "        y = torch.cos(gamma)*self.I00-torch.sin(gamma)*self.I01+torch.sin(gamma)*self.I10+torch.cos(gamma)*self.I11+self.I22\n",
    "        p = torch.cos(rho)*self.I00-torch.sin(rho)*self.I01+torch.sin(rho)*self.I10+torch.cos(rho)*self.I11+self.I22\n",
    "        \n",
    "        x_r = torch.einsum('bdef,cd->bcef',x,r.detach())+torch.einsum('bdef,cd->bcef',torch.sign(x),(r-r.detach()))\n",
    "        x_r = torch.cat([x_r[:,1:,:,:],x_r[:,:1,:,:]],dim=1)\n",
    "        x_r = torch.einsum('bdef,cd->bcef',x_r,y.detach())+torch.einsum('bdef,cd->bcef',torch.sign(x_r),(y-y.detach()))\n",
    "        x_r = torch.cat([x_r[:,1:,:,:],x_r[:,:1,:,:]],dim=1)\n",
    "        x_r = torch.einsum('bdef,cd->bcef',x_r,p.detach())+torch.einsum('bdef,cd->bcef',torch.sign(x_r),(p-p.detach()))\n",
    "        x_r = torch.cat([x_r[:,1:,:,:],x_r[:,:1,:,:]],dim=1)\n",
    "        \n",
    "        x_t = x_r.detach()+self.theta\n",
    "        x_t = torch.where((x[:,-1:,:,:])>0.,x_t,x_t.detach())\n",
    "        x_t = torch.where((mask>.5),x_t,torch.zeros_like(x_t))\n",
    "        k_t = torch.where((x_t[:,-1:,:,:])>0.,5./(torch.abs(x_t[:,-1:,:,:])+1e-7),torch.ones_like(x_t[:,-1:,:,:]))\n",
    "        \n",
    "        x_r = x_r+(mask>.5).float()*self.theta.detach()\n",
    "\n",
    "        weights = self.smap_layer(torch.cat([k_t*x_t+(x_r-x_r.detach()), mask], dim=1), target_2Dr, zoom)\n",
    "\n",
    "        return phi, gamma, rho, mask, weights"
   ]
  },
  {
   "cell_type": "code",
   "execution_count": 8,
   "metadata": {},
   "outputs": [],
   "source": [
    "def create_model(camera_matrix, n):\n",
    "    return Model(camera_matrix, n)"
   ]
  },
  {
   "cell_type": "markdown",
   "metadata": {},
   "source": [
    "# Datasets"
   ]
  },
  {
   "cell_type": "code",
   "execution_count": 9,
   "metadata": {},
   "outputs": [],
   "source": [
    "from sklearn.model_selection import train_test_split\n",
    "from torch.utils.data import Dataset, DataLoader, SequentialSampler, SubsetRandomSampler"
   ]
  },
  {
   "cell_type": "code",
   "execution_count": 10,
   "metadata": {},
   "outputs": [],
   "source": [
    "train_idx, valid_idx= train_test_split(\n",
    "    np.random.choice(np.arange(N_CONFIGURATIONS), size=512, replace=False), test_size=0.25, random_state=0, shuffle=True)\n",
    "\n",
    "train_sampler = SubsetRandomSampler(train_idx)\n",
    "valid_sampler = SequentialSampler(valid_idx)"
   ]
  },
  {
   "cell_type": "markdown",
   "metadata": {},
   "source": [
    "# Training"
   ]
  },
  {
   "cell_type": "code",
   "execution_count": 11,
   "metadata": {},
   "outputs": [],
   "source": [
    "def l1_error(pred, target):\n",
    "    shapes = target.size()\n",
    "    m_batch_size, height, width = shapes[0], shapes[-2], shapes[-1]\n",
    "    \n",
    "    pred = pred.reshape(m_batch_size, -1, height*width)\n",
    "    pred_m = (torch.max(pred.reshape(m_batch_size, -1, height*width),dim=1,keepdim=True).values>.5).float()\n",
    "    target = target.reshape(m_batch_size, 1, -1)\n",
    "    target_m = target.reshape(m_batch_size, 1, -1)\n",
    "    \n",
    "    loss = torch.abs(pred-target)\n",
    "    loss_m = torch.abs(pred_m-target_m)*pred_m\n",
    "    \n",
    "    loss = loss.reshape(m_batch_size, -1).sum(dim=1)\n",
    "    loss_m = loss_m.reshape(m_batch_size, -1).sum(dim=1)\n",
    "    \n",
    "    loss = torch.mean(loss_m).detach()+(loss-loss.detach()).sum()\n",
    "    return loss\n",
    "\n",
    "def train_loop_fn(loader, zoom, epoch, history=None):\n",
    "    model.train()\n",
    "    for batch_idx, (r_mask_batch, input_2Dr_batch, target_2Dr_batch) in enumerate(tqdm(loader)):\n",
    "        m_batchsize, height, width = r_mask_batch.size(0), r_mask_batch.size(-2), r_mask_batch.size(-1)\n",
    "        if m_batchsize != batch_size:\n",
    "            break\n",
    "        else:\n",
    "            r_mask_batch, input_2Dr_batch, target_2Dr_batch = r_mask_batch.to(device), input_2Dr_batch.to(device), target_2Dr_batch.to(device)\n",
    "\n",
    "        optimizer.zero_grad()\n",
    "        \n",
    "        r, p, y, r_mask, weights = model(input_2Dr_batch, r_mask_batch, target_2Dr_batch, zoom)\n",
    "        \n",
    "        target_2Dr = target_2Dr_batch.reshape(m_batchsize,1,H//(2**zoom),(2**zoom),W//(2**zoom),(2**zoom)).permute(0,3,5,1,2,4).reshape(m_batchsize,(2**(zoom+zoom)),1,H//(2**zoom),W//(2**zoom))\n",
    "        target_2Dr, _ = torch.max(target_2Dr,dim=1,keepdim=False)\n",
    "        \n",
    "        r_mask = r_mask_batch.reshape(m_batchsize,1,H//(2**zoom),(2**zoom),W//(2**zoom),(2**zoom)).permute(0,3,5,1,2,4).reshape(m_batchsize,(2**(zoom+zoom)),1,H//(2**zoom),W//(2**zoom))\n",
    "        r_mask, _ = torch.max(r_mask,dim=1,keepdim=False)\n",
    "\n",
    "\n",
    "        loss = l1_error(weights, target_2Dr)\n",
    "        \n",
    "        loss.backward()\n",
    "        optimizer.step()\n",
    "        \n",
    "        p = torch.tanh(3e-2*model.phi)*np.pi\n",
    "        y = torch.tanh(3e-2*model.gamma)*np.pi\n",
    "        r = torch.tanh(3e-2*model.rho)*np.pi\n",
    "        print('theta_x: %.4f' % ((model.theta[0,0,0,0]).detach().cpu().numpy()))\n",
    "        print('theta_y: %.4f' % ((model.theta[0,1,0,0]).detach().cpu().numpy()))\n",
    "        print('theta_z: %.4f' % ((model.theta[0,2,0,0]).detach().cpu().numpy()))\n",
    "        print('phi: %.4f' % ((r[0,0]).detach().cpu().numpy()))\n",
    "        print('gamma: %.4f' % ((p[0,0]).detach().cpu().numpy()))\n",
    "        print('rho: %.4f' % ((y[0,0]).detach().cpu().numpy()))\n",
    "\n",
    "        loss_np = loss.detach().cpu().numpy()\n",
    "\n",
    "        history.loc[(zoom, epoch, batch_idx), 'theta_x'] = (model.theta[0,0,0,0]).detach().cpu().numpy()\n",
    "        history.loc[(zoom, epoch, batch_idx), 'theta_y'] = (model.theta[0,1,0,0]).detach().cpu().numpy()\n",
    "        history.loc[(zoom, epoch, batch_idx), 'theta_z'] = (model.theta[0,2,0,0]).detach().cpu().numpy()\n",
    "        history.loc[(zoom, epoch, batch_idx), 'phi'] = (r[0,0]).detach().cpu().numpy()\n",
    "        history.loc[(zoom, epoch, batch_idx), 'gamma'] = (p[0,0]).detach().cpu().numpy()\n",
    "        history.loc[(zoom, epoch, batch_idx), 'rho'] = (y[0,0]).detach().cpu().numpy()\n",
    "        history.loc[(zoom, epoch, batch_idx), 'loss'] = loss_np\n",
    "        \n",
    "    print('Train Epoch: ({}, {}) \\tLR: {:.6f}\\tLoss: {:.6f}'.format(\n",
    "            zoom, epoch,\n",
    "            optimizer.state_dict()['param_groups'][0]['lr'],\n",
    "            history['loss'].iloc[(-len(train_loader)+1):].mean()))\n",
    "    \n",
    "def evaluate_model(loader, key, history=None):\n",
    "    model.eval()\n",
    "    loss_np = 0.\n",
    "    count = 0.\n",
    "\n",
    "    with torch.no_grad():\n",
    "        for batch_idx, (r_mask_batch, input_2Dr_batch, target_2Dr_batch) in enumerate(tqdm(loader)):\n",
    "            m_batchsize = r_mask_batch.size(0)\n",
    "            if m_batchsize != batch_size:\n",
    "                break\n",
    "            r_mask_batch, input_2Dr_batch, target_2Dr_batch = r_mask_batch.to(device), input_2Dr_batch.to(device), target_2Dr_batch.to(device)\n",
    "\n",
    "            optimizer.zero_grad()\n",
    "\n",
    "            r, p, y, r_mask, weights = model(input_2Dr_batch, r_mask_batch, target_2Dr_batch)\n",
    "            \n",
    "            l1 = l1_error(weights, target_2Dr_batch)\n",
    "            loss_np += l1.detach().cpu().numpy()\n",
    "            count = count+1.\n",
    "    loss_np /= count\n",
    "    history.loc[key, 'theta_x'] = (model.theta[0,0,0,0]).detach().cpu().numpy()\n",
    "    history.loc[key, 'theta_y'] = (model.theta[0,1,0,0]).detach().cpu().numpy()\n",
    "    history.loc[key, 'theta_z'] = (model.theta[0,2,0,0]).detach().cpu().numpy()\n",
    "    history.loc[key, 'phi'] = (r[0,0]).detach().cpu().numpy()\n",
    "    history.loc[key, 'gamma'] = (p[0,0]).detach().cpu().numpy()\n",
    "    history.loc[key, 'rho'] = (y[0,0]).detach().cpu().numpy()\n",
    "    history.loc[key, 'dev_loss'] = loss_np\n",
    "    print(\"n_epochs: {} - lr: {}\".format(*key))\n",
    "    print('theta_x: {:.4f}'.format((model.theta[0,0,0,0]).detach().cpu().numpy()))\n",
    "    print('theta_y: {:.4f}'.format((model.theta[0,1,0,0]).detach().cpu().numpy()))\n",
    "    print('theta_z: {:.4f}'.format((model.theta[0,2,0,0]).detach().cpu().numpy()))\n",
    "    print('phi: {:.4f}'.format((r[0,0]).detach().cpu().numpy()))\n",
    "    print('gamma: {:.4f}'.format((p[0,0]).detach().cpu().numpy()))\n",
    "    print('rho: {:.4f}'.format((y[0,0]).detach().cpu().numpy()))\n",
    "    print('Dev loss: {:.4f}'.format(loss_np))"
   ]
  },
  {
   "cell_type": "code",
   "execution_count": 12,
   "metadata": {
    "scrolled": true
   },
   "outputs": [
    {
     "name": "stdout",
     "output_type": "stream",
     "text": [
      "Wall time: 0 ns\n"
     ]
    },
    {
     "name": "stderr",
     "output_type": "stream",
     "text": [
      "  4%|███▍                                                                               | 1/24 [00:00<00:19,  1.16it/s]"
     ]
    },
    {
     "name": "stdout",
     "output_type": "stream",
     "text": [
      "theta_x: 0.0134\n",
      "theta_y: -0.0375\n",
      "theta_z: 0.0127\n",
      "phi: 0.0002\n",
      "gamma: 0.0000\n",
      "rho: 0.0007\n"
     ]
    },
    {
     "name": "stderr",
     "output_type": "stream",
     "text": [
      "\r",
      "  8%|██████▉                                                                            | 2/24 [00:01<00:18,  1.21it/s]"
     ]
    },
    {
     "name": "stdout",
     "output_type": "stream",
     "text": [
      "theta_x: 0.0184\n",
      "theta_y: -0.0526\n",
      "theta_z: 0.0188\n",
      "phi: 0.0003\n",
      "gamma: -0.0000\n",
      "rho: 0.0011\n"
     ]
    },
    {
     "name": "stderr",
     "output_type": "stream",
     "text": [
      "\r",
      " 12%|██████████▍                                                                        | 3/24 [00:02<00:15,  1.32it/s]"
     ]
    },
    {
     "name": "stdout",
     "output_type": "stream",
     "text": [
      "theta_x: 0.0328\n",
      "theta_y: -0.0678\n",
      "theta_z: 0.0265\n",
      "phi: 0.0006\n",
      "gamma: -0.0002\n",
      "rho: 0.0014\n"
     ]
    },
    {
     "name": "stderr",
     "output_type": "stream",
     "text": [
      "\r",
      " 17%|█████████████▊                                                                     | 4/24 [00:02<00:14,  1.41it/s]"
     ]
    },
    {
     "name": "stdout",
     "output_type": "stream",
     "text": [
      "theta_x: 0.0441\n",
      "theta_y: -0.0800\n",
      "theta_z: 0.0270\n",
      "phi: 0.0007\n",
      "gamma: -0.0005\n",
      "rho: 0.0016\n"
     ]
    },
    {
     "name": "stderr",
     "output_type": "stream",
     "text": [
      "\r",
      " 21%|█████████████████▎                                                                 | 5/24 [00:03<00:13,  1.44it/s]"
     ]
    },
    {
     "name": "stdout",
     "output_type": "stream",
     "text": [
      "theta_x: 0.0490\n",
      "theta_y: -0.0868\n",
      "theta_z: 0.0312\n",
      "phi: 0.0009\n",
      "gamma: -0.0006\n",
      "rho: 0.0018\n"
     ]
    },
    {
     "name": "stderr",
     "output_type": "stream",
     "text": [
      "\r",
      " 25%|████████████████████▊                                                              | 6/24 [00:04<00:13,  1.35it/s]"
     ]
    },
    {
     "name": "stdout",
     "output_type": "stream",
     "text": [
      "theta_x: 0.0558\n",
      "theta_y: -0.1072\n",
      "theta_z: 0.0376\n",
      "phi: 0.0010\n",
      "gamma: -0.0007\n",
      "rho: 0.0023\n"
     ]
    },
    {
     "name": "stderr",
     "output_type": "stream",
     "text": [
      "\r",
      " 29%|████████████████████████▏                                                          | 7/24 [00:05<00:12,  1.33it/s]"
     ]
    },
    {
     "name": "stdout",
     "output_type": "stream",
     "text": [
      "theta_x: 0.0565\n",
      "theta_y: -0.1228\n",
      "theta_z: 0.0427\n",
      "phi: 0.0011\n",
      "gamma: -0.0009\n",
      "rho: 0.0027\n"
     ]
    },
    {
     "name": "stderr",
     "output_type": "stream",
     "text": [
      "\r",
      " 33%|███████████████████████████▋                                                       | 8/24 [00:05<00:11,  1.41it/s]"
     ]
    },
    {
     "name": "stdout",
     "output_type": "stream",
     "text": [
      "theta_x: 0.0633\n",
      "theta_y: -0.1335\n",
      "theta_z: 0.0453\n",
      "phi: 0.0012\n",
      "gamma: -0.0011\n",
      "rho: 0.0028\n"
     ]
    },
    {
     "name": "stderr",
     "output_type": "stream",
     "text": [
      "\r",
      " 38%|███████████████████████████████▏                                                   | 9/24 [00:06<00:10,  1.42it/s]"
     ]
    },
    {
     "name": "stdout",
     "output_type": "stream",
     "text": [
      "theta_x: 0.0639\n",
      "theta_y: -0.1406\n",
      "theta_z: 0.0481\n",
      "phi: 0.0012\n",
      "gamma: -0.0013\n",
      "rho: 0.0030\n"
     ]
    },
    {
     "name": "stderr",
     "output_type": "stream",
     "text": [
      "\r",
      " 42%|██████████████████████████████████▏                                               | 10/24 [00:07<00:09,  1.45it/s]"
     ]
    },
    {
     "name": "stdout",
     "output_type": "stream",
     "text": [
      "theta_x: 0.0749\n",
      "theta_y: -0.1547\n",
      "theta_z: 0.0533\n",
      "phi: 0.0015\n",
      "gamma: -0.0016\n",
      "rho: 0.0033\n"
     ]
    },
    {
     "name": "stderr",
     "output_type": "stream",
     "text": [
      "\r",
      " 46%|█████████████████████████████████████▌                                            | 11/24 [00:07<00:09,  1.41it/s]"
     ]
    },
    {
     "name": "stdout",
     "output_type": "stream",
     "text": [
      "theta_x: 0.0839\n",
      "theta_y: -0.1688\n",
      "theta_z: 0.0604\n",
      "phi: 0.0016\n",
      "gamma: -0.0019\n",
      "rho: 0.0036\n"
     ]
    },
    {
     "name": "stderr",
     "output_type": "stream",
     "text": [
      "\r",
      " 50%|█████████████████████████████████████████                                         | 12/24 [00:08<00:08,  1.46it/s]"
     ]
    },
    {
     "name": "stdout",
     "output_type": "stream",
     "text": [
      "theta_x: 0.0877\n",
      "theta_y: -0.1715\n",
      "theta_z: 0.0594\n",
      "phi: 0.0017\n",
      "gamma: -0.0020\n",
      "rho: 0.0037\n"
     ]
    },
    {
     "name": "stderr",
     "output_type": "stream",
     "text": [
      "\r",
      " 54%|████████████████████████████████████████████▍                                     | 13/24 [00:09<00:07,  1.49it/s]"
     ]
    },
    {
     "name": "stdout",
     "output_type": "stream",
     "text": [
      "theta_x: 0.0971\n",
      "theta_y: -0.1818\n",
      "theta_z: 0.0591\n",
      "phi: 0.0019\n",
      "gamma: -0.0020\n",
      "rho: 0.0039\n"
     ]
    },
    {
     "name": "stderr",
     "output_type": "stream",
     "text": [
      "\r",
      " 58%|███████████████████████████████████████████████▊                                  | 14/24 [00:09<00:06,  1.47it/s]"
     ]
    },
    {
     "name": "stdout",
     "output_type": "stream",
     "text": [
      "theta_x: 0.1103\n",
      "theta_y: -0.1807\n",
      "theta_z: 0.0627\n",
      "phi: 0.0020\n",
      "gamma: -0.0024\n",
      "rho: 0.0039\n"
     ]
    },
    {
     "name": "stderr",
     "output_type": "stream",
     "text": [
      "\r",
      " 62%|███████████████████████████████████████████████████▎                              | 15/24 [00:10<00:06,  1.50it/s]"
     ]
    },
    {
     "name": "stdout",
     "output_type": "stream",
     "text": [
      "theta_x: 0.1141\n",
      "theta_y: -0.1893\n",
      "theta_z: 0.0675\n",
      "phi: 0.0021\n",
      "gamma: -0.0023\n",
      "rho: 0.0041\n"
     ]
    },
    {
     "name": "stderr",
     "output_type": "stream",
     "text": [
      "\r",
      " 67%|██████████████████████████████████████████████████████▋                           | 16/24 [00:11<00:05,  1.42it/s]"
     ]
    },
    {
     "name": "stdout",
     "output_type": "stream",
     "text": [
      "theta_x: 0.1268\n",
      "theta_y: -0.1920\n",
      "theta_z: 0.0634\n",
      "phi: 0.0023\n",
      "gamma: -0.0025\n",
      "rho: 0.0041\n"
     ]
    },
    {
     "name": "stderr",
     "output_type": "stream",
     "text": [
      "\r",
      " 71%|██████████████████████████████████████████████████████████                        | 17/24 [00:11<00:04,  1.42it/s]"
     ]
    },
    {
     "name": "stdout",
     "output_type": "stream",
     "text": [
      "theta_x: 0.1309\n",
      "theta_y: -0.1993\n",
      "theta_z: 0.0641\n",
      "phi: 0.0024\n",
      "gamma: -0.0027\n",
      "rho: 0.0042\n"
     ]
    },
    {
     "name": "stderr",
     "output_type": "stream",
     "text": [
      "\r",
      " 75%|█████████████████████████████████████████████████████████████▌                    | 18/24 [00:12<00:04,  1.45it/s]"
     ]
    },
    {
     "name": "stdout",
     "output_type": "stream",
     "text": [
      "theta_x: 0.1372\n",
      "theta_y: -0.2073\n",
      "theta_z: 0.0691\n",
      "phi: 0.0025\n",
      "gamma: -0.0027\n",
      "rho: 0.0044\n"
     ]
    },
    {
     "name": "stderr",
     "output_type": "stream",
     "text": [
      "\r",
      " 79%|████████████████████████████████████████████████████████████████▉                 | 19/24 [00:13<00:03,  1.47it/s]"
     ]
    },
    {
     "name": "stdout",
     "output_type": "stream",
     "text": [
      "theta_x: 0.1382\n",
      "theta_y: -0.2101\n",
      "theta_z: 0.0696\n",
      "phi: 0.0025\n",
      "gamma: -0.0028\n",
      "rho: 0.0045\n"
     ]
    },
    {
     "name": "stderr",
     "output_type": "stream",
     "text": [
      "\r",
      " 83%|████████████████████████████████████████████████████████████████████▎             | 20/24 [00:13<00:02,  1.44it/s]"
     ]
    },
    {
     "name": "stdout",
     "output_type": "stream",
     "text": [
      "theta_x: 0.1418\n",
      "theta_y: -0.2095\n",
      "theta_z: 0.0674\n",
      "phi: 0.0026\n",
      "gamma: -0.0028\n",
      "rho: 0.0045\n"
     ]
    },
    {
     "name": "stderr",
     "output_type": "stream",
     "text": [
      "\r",
      " 88%|███████████████████████████████████████████████████████████████████████▊          | 21/24 [00:14<00:02,  1.34it/s]"
     ]
    },
    {
     "name": "stdout",
     "output_type": "stream",
     "text": [
      "theta_x: 0.1537\n",
      "theta_y: -0.2120\n",
      "theta_z: 0.0699\n",
      "phi: 0.0028\n",
      "gamma: -0.0030\n",
      "rho: 0.0045\n"
     ]
    },
    {
     "name": "stderr",
     "output_type": "stream",
     "text": [
      "\r",
      " 92%|███████████████████████████████████████████████████████████████████████████▏      | 22/24 [00:15<00:01,  1.32it/s]"
     ]
    },
    {
     "name": "stdout",
     "output_type": "stream",
     "text": [
      "theta_x: 0.1587\n",
      "theta_y: -0.2194\n",
      "theta_z: 0.0725\n",
      "phi: 0.0029\n",
      "gamma: -0.0032\n",
      "rho: 0.0046\n"
     ]
    },
    {
     "name": "stderr",
     "output_type": "stream",
     "text": [
      "\r",
      " 96%|██████████████████████████████████████████████████████████████████████████████▌   | 23/24 [00:16<00:00,  1.34it/s]"
     ]
    },
    {
     "name": "stdout",
     "output_type": "stream",
     "text": [
      "theta_x: 0.1594\n",
      "theta_y: -0.2196\n",
      "theta_z: 0.0724\n",
      "phi: 0.0029\n",
      "gamma: -0.0033\n",
      "rho: 0.0046\n"
     ]
    },
    {
     "name": "stderr",
     "output_type": "stream",
     "text": [
      "100%|██████████████████████████████████████████████████████████████████████████████████| 24/24 [00:17<00:00,  1.41it/s]\n",
      "  0%|                                                                                           | 0/24 [00:00<?, ?it/s]"
     ]
    },
    {
     "name": "stdout",
     "output_type": "stream",
     "text": [
      "theta_x: 0.1593\n",
      "theta_y: -0.2192\n",
      "theta_z: 0.0748\n",
      "phi: 0.0028\n",
      "gamma: -0.0031\n",
      "rho: 0.0045\n",
      "Train Epoch: (4, 0) \tLR: 0.000300\tLoss: 1.211957\n"
     ]
    },
    {
     "name": "stderr",
     "output_type": "stream",
     "text": [
      "\r",
      "  4%|███▍                                                                               | 1/24 [00:00<00:08,  2.75it/s]"
     ]
    },
    {
     "name": "stdout",
     "output_type": "stream",
     "text": [
      "theta_x: 0.1638\n",
      "theta_y: -0.2220\n",
      "theta_z: 0.0764\n",
      "phi: 0.0029\n",
      "gamma: -0.0034\n",
      "rho: 0.0046\n"
     ]
    },
    {
     "name": "stderr",
     "output_type": "stream",
     "text": [
      "\r",
      "  8%|██████▉                                                                            | 2/24 [00:00<00:07,  2.78it/s]"
     ]
    },
    {
     "name": "stdout",
     "output_type": "stream",
     "text": [
      "theta_x: 0.1677\n",
      "theta_y: -0.2229\n",
      "theta_z: 0.0777\n",
      "phi: 0.0030\n",
      "gamma: -0.0035\n",
      "rho: 0.0046\n"
     ]
    },
    {
     "name": "stderr",
     "output_type": "stream",
     "text": [
      "\r",
      " 12%|██████████▍                                                                        | 3/24 [00:01<00:07,  2.80it/s]"
     ]
    },
    {
     "name": "stdout",
     "output_type": "stream",
     "text": [
      "theta_x: 0.1783\n",
      "theta_y: -0.2283\n",
      "theta_z: 0.0820\n",
      "phi: 0.0031\n",
      "gamma: -0.0035\n",
      "rho: 0.0046\n"
     ]
    },
    {
     "name": "stderr",
     "output_type": "stream",
     "text": [
      "\r",
      " 17%|█████████████▊                                                                     | 4/24 [00:01<00:07,  2.83it/s]"
     ]
    },
    {
     "name": "stdout",
     "output_type": "stream",
     "text": [
      "theta_x: 0.1795\n",
      "theta_y: -0.2294\n",
      "theta_z: 0.0815\n",
      "phi: 0.0032\n",
      "gamma: -0.0036\n",
      "rho: 0.0046\n"
     ]
    },
    {
     "name": "stderr",
     "output_type": "stream",
     "text": [
      "\r",
      " 21%|█████████████████▎                                                                 | 5/24 [00:01<00:06,  2.85it/s]"
     ]
    },
    {
     "name": "stdout",
     "output_type": "stream",
     "text": [
      "theta_x: 0.1863\n",
      "theta_y: -0.2370\n",
      "theta_z: 0.0866\n",
      "phi: 0.0033\n",
      "gamma: -0.0037\n",
      "rho: 0.0047\n"
     ]
    },
    {
     "name": "stderr",
     "output_type": "stream",
     "text": [
      "\r",
      " 25%|████████████████████▊                                                              | 6/24 [00:02<00:06,  2.86it/s]"
     ]
    },
    {
     "name": "stdout",
     "output_type": "stream",
     "text": [
      "theta_x: 0.1941\n",
      "theta_y: -0.2388\n",
      "theta_z: 0.0905\n",
      "phi: 0.0033\n",
      "gamma: -0.0039\n",
      "rho: 0.0047\n"
     ]
    },
    {
     "name": "stderr",
     "output_type": "stream",
     "text": [
      "\r",
      " 29%|████████████████████████▏                                                          | 7/24 [00:02<00:05,  2.87it/s]"
     ]
    },
    {
     "name": "stdout",
     "output_type": "stream",
     "text": [
      "theta_x: 0.2014\n",
      "theta_y: -0.2396\n",
      "theta_z: 0.0931\n",
      "phi: 0.0034\n",
      "gamma: -0.0040\n",
      "rho: 0.0047\n"
     ]
    },
    {
     "name": "stderr",
     "output_type": "stream",
     "text": [
      "\r",
      " 33%|███████████████████████████▋                                                       | 8/24 [00:02<00:05,  2.87it/s]"
     ]
    },
    {
     "name": "stdout",
     "output_type": "stream",
     "text": [
      "theta_x: 0.2068\n",
      "theta_y: -0.2409\n",
      "theta_z: 0.0924\n",
      "phi: 0.0036\n",
      "gamma: -0.0041\n",
      "rho: 0.0046\n"
     ]
    },
    {
     "name": "stderr",
     "output_type": "stream",
     "text": [
      "\r",
      " 38%|███████████████████████████████▏                                                   | 9/24 [00:03<00:05,  2.87it/s]"
     ]
    },
    {
     "name": "stdout",
     "output_type": "stream",
     "text": [
      "theta_x: 0.2086\n",
      "theta_y: -0.2452\n",
      "theta_z: 0.0941\n",
      "phi: 0.0036\n",
      "gamma: -0.0042\n",
      "rho: 0.0047\n"
     ]
    },
    {
     "name": "stderr",
     "output_type": "stream",
     "text": [
      "\r",
      " 42%|██████████████████████████████████▏                                               | 10/24 [00:03<00:04,  2.84it/s]"
     ]
    },
    {
     "name": "stdout",
     "output_type": "stream",
     "text": [
      "theta_x: 0.2107\n",
      "theta_y: -0.2503\n",
      "theta_z: 0.0962\n",
      "phi: 0.0036\n",
      "gamma: -0.0043\n",
      "rho: 0.0048\n"
     ]
    },
    {
     "name": "stderr",
     "output_type": "stream",
     "text": [
      "\r",
      " 46%|█████████████████████████████████████▌                                            | 11/24 [00:03<00:04,  2.87it/s]"
     ]
    },
    {
     "name": "stdout",
     "output_type": "stream",
     "text": [
      "theta_x: 0.2170\n",
      "theta_y: -0.2486\n",
      "theta_z: 0.0921\n",
      "phi: 0.0037\n",
      "gamma: -0.0044\n",
      "rho: 0.0047\n"
     ]
    },
    {
     "name": "stderr",
     "output_type": "stream",
     "text": [
      "\r",
      " 50%|█████████████████████████████████████████                                         | 12/24 [00:04<00:04,  2.88it/s]"
     ]
    },
    {
     "name": "stdout",
     "output_type": "stream",
     "text": [
      "theta_x: 0.2169\n",
      "theta_y: -0.2485\n",
      "theta_z: 0.0921\n",
      "phi: 0.0037\n",
      "gamma: -0.0044\n",
      "rho: 0.0047\n"
     ]
    },
    {
     "name": "stderr",
     "output_type": "stream",
     "text": [
      "\r",
      " 54%|████████████████████████████████████████████▍                                     | 13/24 [00:04<00:03,  2.85it/s]"
     ]
    },
    {
     "name": "stdout",
     "output_type": "stream",
     "text": [
      "theta_x: 0.2215\n",
      "theta_y: -0.2545\n",
      "theta_z: 0.0933\n",
      "phi: 0.0038\n",
      "gamma: -0.0045\n",
      "rho: 0.0048\n"
     ]
    },
    {
     "name": "stderr",
     "output_type": "stream",
     "text": [
      "\r",
      " 58%|███████████████████████████████████████████████▊                                  | 14/24 [00:04<00:03,  2.85it/s]"
     ]
    },
    {
     "name": "stdout",
     "output_type": "stream",
     "text": [
      "theta_x: 0.2205\n",
      "theta_y: -0.2551\n",
      "theta_z: 0.0940\n",
      "phi: 0.0038\n",
      "gamma: -0.0045\n",
      "rho: 0.0048\n"
     ]
    },
    {
     "name": "stderr",
     "output_type": "stream",
     "text": [
      "\r",
      " 62%|███████████████████████████████████████████████████▎                              | 15/24 [00:05<00:03,  2.87it/s]"
     ]
    },
    {
     "name": "stdout",
     "output_type": "stream",
     "text": [
      "theta_x: 0.2239\n",
      "theta_y: -0.2537\n",
      "theta_z: 0.0933\n",
      "phi: 0.0038\n",
      "gamma: -0.0046\n",
      "rho: 0.0048\n"
     ]
    },
    {
     "name": "stderr",
     "output_type": "stream",
     "text": [
      "\r",
      " 67%|██████████████████████████████████████████████████████▋                           | 16/24 [00:05<00:02,  2.85it/s]"
     ]
    },
    {
     "name": "stdout",
     "output_type": "stream",
     "text": [
      "theta_x: 0.2255\n",
      "theta_y: -0.2520\n",
      "theta_z: 0.0920\n",
      "phi: 0.0038\n",
      "gamma: -0.0046\n",
      "rho: 0.0047\n"
     ]
    },
    {
     "name": "stderr",
     "output_type": "stream",
     "text": [
      "\r",
      " 71%|██████████████████████████████████████████████████████████                        | 17/24 [00:05<00:02,  2.86it/s]"
     ]
    },
    {
     "name": "stdout",
     "output_type": "stream",
     "text": [
      "theta_x: 0.2275\n",
      "theta_y: -0.2513\n",
      "theta_z: 0.0902\n",
      "phi: 0.0038\n",
      "gamma: -0.0046\n",
      "rho: 0.0047\n"
     ]
    },
    {
     "name": "stderr",
     "output_type": "stream",
     "text": [
      "\r",
      " 75%|█████████████████████████████████████████████████████████████▌                    | 18/24 [00:06<00:02,  2.86it/s]"
     ]
    },
    {
     "name": "stdout",
     "output_type": "stream",
     "text": [
      "theta_x: 0.2317\n",
      "theta_y: -0.2589\n",
      "theta_z: 0.0938\n",
      "phi: 0.0039\n",
      "gamma: -0.0046\n",
      "rho: 0.0048\n"
     ]
    },
    {
     "name": "stderr",
     "output_type": "stream",
     "text": [
      "\r",
      " 79%|████████████████████████████████████████████████████████████████▉                 | 19/24 [00:06<00:01,  2.88it/s]"
     ]
    },
    {
     "name": "stdout",
     "output_type": "stream",
     "text": [
      "theta_x: 0.2318\n",
      "theta_y: -0.2586\n",
      "theta_z: 0.0936\n",
      "phi: 0.0039\n",
      "gamma: -0.0047\n",
      "rho: 0.0047\n"
     ]
    },
    {
     "name": "stderr",
     "output_type": "stream",
     "text": [
      "\r",
      " 83%|████████████████████████████████████████████████████████████████████▎             | 20/24 [00:06<00:01,  2.88it/s]"
     ]
    },
    {
     "name": "stdout",
     "output_type": "stream",
     "text": [
      "theta_x: 0.2315\n",
      "theta_y: -0.2579\n",
      "theta_z: 0.0936\n",
      "phi: 0.0039\n",
      "gamma: -0.0047\n",
      "rho: 0.0046\n"
     ]
    },
    {
     "name": "stderr",
     "output_type": "stream",
     "text": [
      "\r",
      " 88%|███████████████████████████████████████████████████████████████████████▊          | 21/24 [00:07<00:01,  2.88it/s]"
     ]
    },
    {
     "name": "stdout",
     "output_type": "stream",
     "text": [
      "theta_x: 0.2353\n",
      "theta_y: -0.2579\n",
      "theta_z: 0.0923\n",
      "phi: 0.0039\n",
      "gamma: -0.0048\n",
      "rho: 0.0046\n"
     ]
    },
    {
     "name": "stderr",
     "output_type": "stream",
     "text": [
      "\r",
      " 92%|███████████████████████████████████████████████████████████████████████████▏      | 22/24 [00:07<00:00,  2.89it/s]"
     ]
    },
    {
     "name": "stdout",
     "output_type": "stream",
     "text": [
      "theta_x: 0.2353\n",
      "theta_y: -0.2585\n",
      "theta_z: 0.0925\n",
      "phi: 0.0039\n",
      "gamma: -0.0048\n",
      "rho: 0.0046\n"
     ]
    },
    {
     "name": "stderr",
     "output_type": "stream",
     "text": [
      "\r",
      " 96%|██████████████████████████████████████████████████████████████████████████████▌   | 23/24 [00:08<00:00,  2.87it/s]"
     ]
    },
    {
     "name": "stdout",
     "output_type": "stream",
     "text": [
      "theta_x: 0.2355\n",
      "theta_y: -0.2578\n",
      "theta_z: 0.0923\n",
      "phi: 0.0039\n",
      "gamma: -0.0048\n",
      "rho: 0.0045\n"
     ]
    },
    {
     "name": "stderr",
     "output_type": "stream",
     "text": [
      "100%|██████████████████████████████████████████████████████████████████████████████████| 24/24 [00:08<00:00,  2.86it/s]\n",
      "  0%|                                                                                           | 0/24 [00:00<?, ?it/s]"
     ]
    },
    {
     "name": "stdout",
     "output_type": "stream",
     "text": [
      "theta_x: 0.2401\n",
      "theta_y: -0.2573\n",
      "theta_z: 0.0897\n",
      "phi: 0.0040\n",
      "gamma: -0.0050\n",
      "rho: 0.0045\n",
      "Train Epoch: (4, 1) \tLR: 0.000300\tLoss: 0.915761\n"
     ]
    },
    {
     "name": "stderr",
     "output_type": "stream",
     "text": [
      "\r",
      "  4%|███▍                                                                               | 1/24 [00:00<00:17,  1.33it/s]"
     ]
    },
    {
     "name": "stdout",
     "output_type": "stream",
     "text": [
      "theta_x: 0.2464\n",
      "theta_y: -0.2564\n",
      "theta_z: 0.0884\n",
      "phi: 0.0041\n",
      "gamma: -0.0051\n",
      "rho: 0.0044\n"
     ]
    },
    {
     "name": "stderr",
     "output_type": "stream",
     "text": [
      "\r",
      "  8%|██████▉                                                                            | 2/24 [00:01<00:16,  1.34it/s]"
     ]
    },
    {
     "name": "stdout",
     "output_type": "stream",
     "text": [
      "theta_x: 0.2499\n",
      "theta_y: -0.2552\n",
      "theta_z: 0.0868\n",
      "phi: 0.0042\n",
      "gamma: -0.0051\n",
      "rho: 0.0044\n"
     ]
    },
    {
     "name": "stderr",
     "output_type": "stream",
     "text": [
      "\r",
      " 12%|██████████▍                                                                        | 3/24 [00:02<00:15,  1.35it/s]"
     ]
    },
    {
     "name": "stdout",
     "output_type": "stream",
     "text": [
      "theta_x: 0.2516\n",
      "theta_y: -0.2543\n",
      "theta_z: 0.0870\n",
      "phi: 0.0042\n",
      "gamma: -0.0051\n",
      "rho: 0.0044\n"
     ]
    },
    {
     "name": "stderr",
     "output_type": "stream",
     "text": [
      "\r",
      " 17%|█████████████▊                                                                     | 4/24 [00:02<00:14,  1.36it/s]"
     ]
    },
    {
     "name": "stdout",
     "output_type": "stream",
     "text": [
      "theta_x: 0.2533\n",
      "theta_y: -0.2545\n",
      "theta_z: 0.0867\n",
      "phi: 0.0042\n",
      "gamma: -0.0050\n",
      "rho: 0.0044\n"
     ]
    },
    {
     "name": "stderr",
     "output_type": "stream",
     "text": [
      "\r",
      " 21%|█████████████████▎                                                                 | 5/24 [00:03<00:13,  1.36it/s]"
     ]
    },
    {
     "name": "stdout",
     "output_type": "stream",
     "text": [
      "theta_x: 0.2562\n",
      "theta_y: -0.2535\n",
      "theta_z: 0.0856\n",
      "phi: 0.0043\n",
      "gamma: -0.0051\n",
      "rho: 0.0043\n"
     ]
    },
    {
     "name": "stderr",
     "output_type": "stream",
     "text": [
      "\r",
      " 25%|████████████████████▊                                                              | 6/24 [00:04<00:13,  1.37it/s]"
     ]
    },
    {
     "name": "stdout",
     "output_type": "stream",
     "text": [
      "theta_x: 0.2576\n",
      "theta_y: -0.2532\n",
      "theta_z: 0.0851\n",
      "phi: 0.0043\n",
      "gamma: -0.0051\n",
      "rho: 0.0043\n"
     ]
    },
    {
     "name": "stderr",
     "output_type": "stream",
     "text": [
      "\r",
      " 29%|████████████████████████▏                                                          | 7/24 [00:05<00:12,  1.37it/s]"
     ]
    },
    {
     "name": "stdout",
     "output_type": "stream",
     "text": [
      "theta_x: 0.2622\n",
      "theta_y: -0.2526\n",
      "theta_z: 0.0851\n",
      "phi: 0.0044\n",
      "gamma: -0.0051\n",
      "rho: 0.0043\n"
     ]
    },
    {
     "name": "stderr",
     "output_type": "stream",
     "text": [
      "\r",
      " 33%|███████████████████████████▋                                                       | 8/24 [00:05<00:11,  1.37it/s]"
     ]
    },
    {
     "name": "stdout",
     "output_type": "stream",
     "text": [
      "theta_x: 0.2634\n",
      "theta_y: -0.2529\n",
      "theta_z: 0.0847\n",
      "phi: 0.0044\n",
      "gamma: -0.0051\n",
      "rho: 0.0043\n"
     ]
    },
    {
     "name": "stderr",
     "output_type": "stream",
     "text": [
      "\r",
      " 38%|███████████████████████████████▏                                                   | 9/24 [00:06<00:10,  1.38it/s]"
     ]
    },
    {
     "name": "stdout",
     "output_type": "stream",
     "text": [
      "theta_x: 0.2639\n",
      "theta_y: -0.2525\n",
      "theta_z: 0.0845\n",
      "phi: 0.0044\n",
      "gamma: -0.0051\n",
      "rho: 0.0043\n"
     ]
    },
    {
     "name": "stderr",
     "output_type": "stream",
     "text": [
      "\r",
      " 42%|██████████████████████████████████▏                                               | 10/24 [00:07<00:10,  1.38it/s]"
     ]
    },
    {
     "name": "stdout",
     "output_type": "stream",
     "text": [
      "theta_x: 0.2651\n",
      "theta_y: -0.2519\n",
      "theta_z: 0.0841\n",
      "phi: 0.0044\n",
      "gamma: -0.0051\n",
      "rho: 0.0042\n"
     ]
    },
    {
     "name": "stderr",
     "output_type": "stream",
     "text": [
      "\r",
      " 46%|█████████████████████████████████████▌                                            | 11/24 [00:08<00:09,  1.38it/s]"
     ]
    },
    {
     "name": "stdout",
     "output_type": "stream",
     "text": [
      "theta_x: 0.2682\n",
      "theta_y: -0.2517\n",
      "theta_z: 0.0824\n",
      "phi: 0.0045\n",
      "gamma: -0.0052\n",
      "rho: 0.0042\n"
     ]
    },
    {
     "name": "stderr",
     "output_type": "stream",
     "text": [
      "\r",
      " 50%|█████████████████████████████████████████                                         | 12/24 [00:08<00:08,  1.38it/s]"
     ]
    },
    {
     "name": "stdout",
     "output_type": "stream",
     "text": [
      "theta_x: 0.2738\n",
      "theta_y: -0.2540\n",
      "theta_z: 0.0833\n",
      "phi: 0.0046\n",
      "gamma: -0.0052\n",
      "rho: 0.0043\n"
     ]
    },
    {
     "name": "stderr",
     "output_type": "stream",
     "text": [
      "\r",
      " 54%|████████████████████████████████████████████▍                                     | 13/24 [00:09<00:07,  1.38it/s]"
     ]
    },
    {
     "name": "stdout",
     "output_type": "stream",
     "text": [
      "theta_x: 0.2752\n",
      "theta_y: -0.2534\n",
      "theta_z: 0.0833\n",
      "phi: 0.0046\n",
      "gamma: -0.0052\n",
      "rho: 0.0042\n"
     ]
    },
    {
     "name": "stderr",
     "output_type": "stream",
     "text": [
      "\r",
      " 58%|███████████████████████████████████████████████▊                                  | 14/24 [00:10<00:07,  1.38it/s]"
     ]
    },
    {
     "name": "stdout",
     "output_type": "stream",
     "text": [
      "theta_x: 0.2801\n",
      "theta_y: -0.2541\n",
      "theta_z: 0.0821\n",
      "phi: 0.0047\n",
      "gamma: -0.0053\n",
      "rho: 0.0043\n"
     ]
    },
    {
     "name": "stderr",
     "output_type": "stream",
     "text": [
      "\r",
      " 62%|███████████████████████████████████████████████████▎                              | 15/24 [00:10<00:06,  1.38it/s]"
     ]
    },
    {
     "name": "stdout",
     "output_type": "stream",
     "text": [
      "theta_x: 0.2863\n",
      "theta_y: -0.2539\n",
      "theta_z: 0.0801\n",
      "phi: 0.0048\n",
      "gamma: -0.0053\n",
      "rho: 0.0043\n"
     ]
    },
    {
     "name": "stderr",
     "output_type": "stream",
     "text": [
      "\r",
      " 67%|██████████████████████████████████████████████████████▋                           | 16/24 [00:11<00:05,  1.38it/s]"
     ]
    },
    {
     "name": "stdout",
     "output_type": "stream",
     "text": [
      "theta_x: 0.2863\n",
      "theta_y: -0.2554\n",
      "theta_z: 0.0805\n",
      "phi: 0.0048\n",
      "gamma: -0.0053\n",
      "rho: 0.0043\n"
     ]
    },
    {
     "name": "stderr",
     "output_type": "stream",
     "text": [
      "\r",
      " 71%|██████████████████████████████████████████████████████████                        | 17/24 [00:12<00:05,  1.38it/s]"
     ]
    },
    {
     "name": "stdout",
     "output_type": "stream",
     "text": [
      "theta_x: 0.2868\n",
      "theta_y: -0.2558\n",
      "theta_z: 0.0802\n",
      "phi: 0.0047\n",
      "gamma: -0.0053\n",
      "rho: 0.0043\n"
     ]
    },
    {
     "name": "stderr",
     "output_type": "stream",
     "text": [
      "\r",
      " 75%|█████████████████████████████████████████████████████████████▌                    | 18/24 [00:13<00:04,  1.38it/s]"
     ]
    },
    {
     "name": "stdout",
     "output_type": "stream",
     "text": [
      "theta_x: 0.2879\n",
      "theta_y: -0.2545\n",
      "theta_z: 0.0797\n",
      "phi: 0.0048\n",
      "gamma: -0.0053\n",
      "rho: 0.0043\n"
     ]
    },
    {
     "name": "stderr",
     "output_type": "stream",
     "text": [
      "\r",
      " 79%|████████████████████████████████████████████████████████████████▉                 | 19/24 [00:13<00:03,  1.38it/s]"
     ]
    },
    {
     "name": "stdout",
     "output_type": "stream",
     "text": [
      "theta_x: 0.2921\n",
      "theta_y: -0.2524\n",
      "theta_z: 0.0800\n",
      "phi: 0.0048\n",
      "gamma: -0.0054\n",
      "rho: 0.0042\n"
     ]
    },
    {
     "name": "stderr",
     "output_type": "stream",
     "text": [
      "\r",
      " 83%|████████████████████████████████████████████████████████████████████▎             | 20/24 [00:14<00:02,  1.38it/s]"
     ]
    },
    {
     "name": "stdout",
     "output_type": "stream",
     "text": [
      "theta_x: 0.2927\n",
      "theta_y: -0.2530\n",
      "theta_z: 0.0801\n",
      "phi: 0.0048\n",
      "gamma: -0.0054\n",
      "rho: 0.0042\n"
     ]
    },
    {
     "name": "stderr",
     "output_type": "stream",
     "text": [
      "\r",
      " 88%|███████████████████████████████████████████████████████████████████████▊          | 21/24 [00:15<00:02,  1.38it/s]"
     ]
    },
    {
     "name": "stdout",
     "output_type": "stream",
     "text": [
      "theta_x: 0.2953\n",
      "theta_y: -0.2534\n",
      "theta_z: 0.0793\n",
      "phi: 0.0049\n",
      "gamma: -0.0054\n",
      "rho: 0.0042\n"
     ]
    },
    {
     "name": "stderr",
     "output_type": "stream",
     "text": [
      "\r",
      " 92%|███████████████████████████████████████████████████████████████████████████▏      | 22/24 [00:15<00:01,  1.38it/s]"
     ]
    },
    {
     "name": "stdout",
     "output_type": "stream",
     "text": [
      "theta_x: 0.2969\n",
      "theta_y: -0.2530\n",
      "theta_z: 0.0783\n",
      "phi: 0.0049\n",
      "gamma: -0.0054\n",
      "rho: 0.0042\n"
     ]
    },
    {
     "name": "stderr",
     "output_type": "stream",
     "text": [
      "\r",
      " 96%|██████████████████████████████████████████████████████████████████████████████▌   | 23/24 [00:16<00:00,  1.38it/s]"
     ]
    },
    {
     "name": "stdout",
     "output_type": "stream",
     "text": [
      "theta_x: 0.2974\n",
      "theta_y: -0.2526\n",
      "theta_z: 0.0783\n",
      "phi: 0.0049\n",
      "gamma: -0.0054\n",
      "rho: 0.0041\n"
     ]
    },
    {
     "name": "stderr",
     "output_type": "stream",
     "text": [
      "100%|██████████████████████████████████████████████████████████████████████████████████| 24/24 [00:17<00:00,  1.38it/s]\n",
      "  0%|                                                                                           | 0/24 [00:00<?, ?it/s]"
     ]
    },
    {
     "name": "stdout",
     "output_type": "stream",
     "text": [
      "theta_x: 0.2976\n",
      "theta_y: -0.2519\n",
      "theta_z: 0.0779\n",
      "phi: 0.0049\n",
      "gamma: -0.0054\n",
      "rho: 0.0041\n",
      "Train Epoch: (3, 0) \tLR: 0.000150\tLoss: 1.793478\n"
     ]
    },
    {
     "name": "stderr",
     "output_type": "stream",
     "text": [
      "\r",
      "  4%|███▍                                                                               | 1/24 [00:00<00:17,  1.33it/s]"
     ]
    },
    {
     "name": "stdout",
     "output_type": "stream",
     "text": [
      "theta_x: 0.3040\n",
      "theta_y: -0.2500\n",
      "theta_z: 0.0737\n",
      "phi: 0.0050\n",
      "gamma: -0.0054\n",
      "rho: 0.0041\n"
     ]
    },
    {
     "name": "stderr",
     "output_type": "stream",
     "text": [
      "\r",
      "  8%|██████▉                                                                            | 2/24 [00:01<00:16,  1.34it/s]"
     ]
    },
    {
     "name": "stdout",
     "output_type": "stream",
     "text": [
      "theta_x: 0.3057\n",
      "theta_y: -0.2486\n",
      "theta_z: 0.0727\n",
      "phi: 0.0050\n",
      "gamma: -0.0054\n",
      "rho: 0.0040\n"
     ]
    },
    {
     "name": "stderr",
     "output_type": "stream",
     "text": [
      "\r",
      " 12%|██████████▍                                                                        | 3/24 [00:02<00:15,  1.35it/s]"
     ]
    },
    {
     "name": "stdout",
     "output_type": "stream",
     "text": [
      "theta_x: 0.3066\n",
      "theta_y: -0.2482\n",
      "theta_z: 0.0724\n",
      "phi: 0.0050\n",
      "gamma: -0.0054\n",
      "rho: 0.0040\n"
     ]
    },
    {
     "name": "stderr",
     "output_type": "stream",
     "text": [
      "\r",
      " 17%|█████████████▊                                                                     | 4/24 [00:02<00:14,  1.36it/s]"
     ]
    },
    {
     "name": "stdout",
     "output_type": "stream",
     "text": [
      "theta_x: 0.3073\n",
      "theta_y: -0.2480\n",
      "theta_z: 0.0725\n",
      "phi: 0.0051\n",
      "gamma: -0.0054\n",
      "rho: 0.0040\n"
     ]
    },
    {
     "name": "stderr",
     "output_type": "stream",
     "text": [
      "\r",
      " 21%|█████████████████▎                                                                 | 5/24 [00:03<00:13,  1.37it/s]"
     ]
    },
    {
     "name": "stdout",
     "output_type": "stream",
     "text": [
      "theta_x: 0.3079\n",
      "theta_y: -0.2481\n",
      "theta_z: 0.0723\n",
      "phi: 0.0051\n",
      "gamma: -0.0054\n",
      "rho: 0.0040\n"
     ]
    },
    {
     "name": "stderr",
     "output_type": "stream",
     "text": [
      "\r",
      " 25%|████████████████████▊                                                              | 6/24 [00:04<00:13,  1.37it/s]"
     ]
    },
    {
     "name": "stdout",
     "output_type": "stream",
     "text": [
      "theta_x: 0.3087\n",
      "theta_y: -0.2475\n",
      "theta_z: 0.0721\n",
      "phi: 0.0051\n",
      "gamma: -0.0054\n",
      "rho: 0.0039\n"
     ]
    },
    {
     "name": "stderr",
     "output_type": "stream",
     "text": [
      "\r",
      " 29%|████████████████████████▏                                                          | 7/24 [00:05<00:12,  1.36it/s]"
     ]
    },
    {
     "name": "stdout",
     "output_type": "stream",
     "text": [
      "theta_x: 0.3101\n",
      "theta_y: -0.2478\n",
      "theta_z: 0.0718\n",
      "phi: 0.0051\n",
      "gamma: -0.0054\n",
      "rho: 0.0039\n"
     ]
    },
    {
     "name": "stderr",
     "output_type": "stream",
     "text": [
      "\r",
      " 33%|███████████████████████████▋                                                       | 8/24 [00:05<00:11,  1.37it/s]"
     ]
    },
    {
     "name": "stdout",
     "output_type": "stream",
     "text": [
      "theta_x: 0.3113\n",
      "theta_y: -0.2472\n",
      "theta_z: 0.0708\n",
      "phi: 0.0051\n",
      "gamma: -0.0054\n",
      "rho: 0.0039\n"
     ]
    },
    {
     "name": "stderr",
     "output_type": "stream",
     "text": [
      "\r",
      " 38%|███████████████████████████████▏                                                   | 9/24 [00:06<00:10,  1.37it/s]"
     ]
    },
    {
     "name": "stdout",
     "output_type": "stream",
     "text": [
      "theta_x: 0.3121\n",
      "theta_y: -0.2480\n",
      "theta_z: 0.0712\n",
      "phi: 0.0051\n",
      "gamma: -0.0054\n",
      "rho: 0.0039\n"
     ]
    },
    {
     "name": "stderr",
     "output_type": "stream",
     "text": [
      "\r",
      " 42%|██████████████████████████████████▏                                               | 10/24 [00:07<00:10,  1.37it/s]"
     ]
    },
    {
     "name": "stdout",
     "output_type": "stream",
     "text": [
      "theta_x: 0.3139\n",
      "theta_y: -0.2480\n",
      "theta_z: 0.0705\n",
      "phi: 0.0052\n",
      "gamma: -0.0054\n",
      "rho: 0.0039\n"
     ]
    },
    {
     "name": "stderr",
     "output_type": "stream",
     "text": [
      "\r",
      " 46%|█████████████████████████████████████▌                                            | 11/24 [00:08<00:09,  1.37it/s]"
     ]
    },
    {
     "name": "stdout",
     "output_type": "stream",
     "text": [
      "theta_x: 0.3144\n",
      "theta_y: -0.2479\n",
      "theta_z: 0.0706\n",
      "phi: 0.0052\n",
      "gamma: -0.0054\n",
      "rho: 0.0039\n"
     ]
    },
    {
     "name": "stderr",
     "output_type": "stream",
     "text": [
      "\r",
      " 50%|█████████████████████████████████████████                                         | 12/24 [00:08<00:08,  1.37it/s]"
     ]
    },
    {
     "name": "stdout",
     "output_type": "stream",
     "text": [
      "theta_x: 0.3173\n",
      "theta_y: -0.2469\n",
      "theta_z: 0.0715\n",
      "phi: 0.0052\n",
      "gamma: -0.0055\n",
      "rho: 0.0039\n"
     ]
    },
    {
     "name": "stderr",
     "output_type": "stream",
     "text": [
      "\r",
      " 54%|████████████████████████████████████████████▍                                     | 13/24 [00:09<00:08,  1.37it/s]"
     ]
    },
    {
     "name": "stdout",
     "output_type": "stream",
     "text": [
      "theta_x: 0.3186\n",
      "theta_y: -0.2474\n",
      "theta_z: 0.0712\n",
      "phi: 0.0052\n",
      "gamma: -0.0055\n",
      "rho: 0.0039\n"
     ]
    },
    {
     "name": "stderr",
     "output_type": "stream",
     "text": [
      "\r",
      " 58%|███████████████████████████████████████████████▊                                  | 14/24 [00:10<00:07,  1.37it/s]"
     ]
    },
    {
     "name": "stdout",
     "output_type": "stream",
     "text": [
      "theta_x: 0.3185\n",
      "theta_y: -0.2478\n",
      "theta_z: 0.0712\n",
      "phi: 0.0052\n",
      "gamma: -0.0055\n",
      "rho: 0.0039\n"
     ]
    },
    {
     "name": "stderr",
     "output_type": "stream",
     "text": [
      "\r",
      " 62%|███████████████████████████████████████████████████▎                              | 15/24 [00:10<00:06,  1.37it/s]"
     ]
    },
    {
     "name": "stdout",
     "output_type": "stream",
     "text": [
      "theta_x: 0.3188\n",
      "theta_y: -0.2473\n",
      "theta_z: 0.0710\n",
      "phi: 0.0053\n",
      "gamma: -0.0054\n",
      "rho: 0.0039\n"
     ]
    },
    {
     "name": "stderr",
     "output_type": "stream",
     "text": [
      "\r",
      " 67%|██████████████████████████████████████████████████████▋                           | 16/24 [00:11<00:05,  1.37it/s]"
     ]
    },
    {
     "name": "stdout",
     "output_type": "stream",
     "text": [
      "theta_x: 0.3189\n",
      "theta_y: -0.2470\n",
      "theta_z: 0.0710\n",
      "phi: 0.0053\n",
      "gamma: -0.0054\n",
      "rho: 0.0039\n"
     ]
    },
    {
     "name": "stderr",
     "output_type": "stream",
     "text": [
      "\r",
      " 71%|██████████████████████████████████████████████████████████                        | 17/24 [00:12<00:05,  1.38it/s]"
     ]
    },
    {
     "name": "stdout",
     "output_type": "stream",
     "text": [
      "theta_x: 0.3193\n",
      "theta_y: -0.2470\n",
      "theta_z: 0.0710\n",
      "phi: 0.0053\n",
      "gamma: -0.0054\n",
      "rho: 0.0038\n"
     ]
    },
    {
     "name": "stderr",
     "output_type": "stream",
     "text": [
      "\r",
      " 75%|█████████████████████████████████████████████████████████████▌                    | 18/24 [00:13<00:04,  1.38it/s]"
     ]
    },
    {
     "name": "stdout",
     "output_type": "stream",
     "text": [
      "theta_x: 0.3253\n",
      "theta_y: -0.2473\n",
      "theta_z: 0.0695\n",
      "phi: 0.0053\n",
      "gamma: -0.0055\n",
      "rho: 0.0038\n"
     ]
    },
    {
     "name": "stderr",
     "output_type": "stream",
     "text": [
      "\r",
      " 79%|████████████████████████████████████████████████████████████████▉                 | 19/24 [00:13<00:03,  1.38it/s]"
     ]
    },
    {
     "name": "stdout",
     "output_type": "stream",
     "text": [
      "theta_x: 0.3252\n",
      "theta_y: -0.2480\n",
      "theta_z: 0.0698\n",
      "phi: 0.0053\n",
      "gamma: -0.0055\n",
      "rho: 0.0038\n"
     ]
    },
    {
     "name": "stderr",
     "output_type": "stream",
     "text": [
      "\r",
      " 83%|████████████████████████████████████████████████████████████████████▎             | 20/24 [00:14<00:02,  1.38it/s]"
     ]
    },
    {
     "name": "stdout",
     "output_type": "stream",
     "text": [
      "theta_x: 0.3248\n",
      "theta_y: -0.2482\n",
      "theta_z: 0.0700\n",
      "phi: 0.0053\n",
      "gamma: -0.0054\n",
      "rho: 0.0038\n"
     ]
    },
    {
     "name": "stderr",
     "output_type": "stream",
     "text": [
      "\r",
      " 88%|███████████████████████████████████████████████████████████████████████▊          | 21/24 [00:15<00:02,  1.38it/s]"
     ]
    },
    {
     "name": "stdout",
     "output_type": "stream",
     "text": [
      "theta_x: 0.3251\n",
      "theta_y: -0.2479\n",
      "theta_z: 0.0699\n",
      "phi: 0.0053\n",
      "gamma: -0.0054\n",
      "rho: 0.0038\n"
     ]
    },
    {
     "name": "stderr",
     "output_type": "stream",
     "text": [
      "\r",
      " 92%|███████████████████████████████████████████████████████████████████████████▏      | 22/24 [00:16<00:01,  1.38it/s]"
     ]
    },
    {
     "name": "stdout",
     "output_type": "stream",
     "text": [
      "theta_x: 0.3257\n",
      "theta_y: -0.2480\n",
      "theta_z: 0.0696\n",
      "phi: 0.0053\n",
      "gamma: -0.0054\n",
      "rho: 0.0038\n"
     ]
    },
    {
     "name": "stderr",
     "output_type": "stream",
     "text": [
      "\r",
      " 96%|██████████████████████████████████████████████████████████████████████████████▌   | 23/24 [00:16<00:00,  1.38it/s]"
     ]
    },
    {
     "name": "stdout",
     "output_type": "stream",
     "text": [
      "theta_x: 0.3266\n",
      "theta_y: -0.2477\n",
      "theta_z: 0.0695\n",
      "phi: 0.0053\n",
      "gamma: -0.0054\n",
      "rho: 0.0038\n"
     ]
    },
    {
     "name": "stderr",
     "output_type": "stream",
     "text": [
      "100%|██████████████████████████████████████████████████████████████████████████████████| 24/24 [00:17<00:00,  1.37it/s]\n",
      "  0%|                                                                                           | 0/24 [00:00<?, ?it/s]"
     ]
    },
    {
     "name": "stdout",
     "output_type": "stream",
     "text": [
      "theta_x: 0.3272\n",
      "theta_y: -0.2474\n",
      "theta_z: 0.0693\n",
      "phi: 0.0053\n",
      "gamma: -0.0054\n",
      "rho: 0.0038\n",
      "Train Epoch: (3, 1) \tLR: 0.000150\tLoss: 1.440217\n"
     ]
    },
    {
     "name": "stderr",
     "output_type": "stream",
     "text": [
      "\r",
      "  4%|███▍                                                                               | 1/24 [00:01<00:27,  1.18s/it]"
     ]
    },
    {
     "name": "stdout",
     "output_type": "stream",
     "text": [
      "theta_x: 0.3295\n",
      "theta_y: -0.2468\n",
      "theta_z: 0.0685\n",
      "phi: 0.0054\n",
      "gamma: -0.0055\n",
      "rho: 0.0037\n"
     ]
    },
    {
     "name": "stderr",
     "output_type": "stream",
     "text": [
      "\r",
      "  8%|██████▉                                                                            | 2/24 [00:02<00:25,  1.16s/it]"
     ]
    },
    {
     "name": "stdout",
     "output_type": "stream",
     "text": [
      "theta_x: 0.3311\n",
      "theta_y: -0.2469\n",
      "theta_z: 0.0686\n",
      "phi: 0.0054\n",
      "gamma: -0.0054\n",
      "rho: 0.0037\n"
     ]
    },
    {
     "name": "stderr",
     "output_type": "stream",
     "text": [
      "\r",
      " 12%|██████████▍                                                                        | 3/24 [00:03<00:24,  1.16s/it]"
     ]
    },
    {
     "name": "stdout",
     "output_type": "stream",
     "text": [
      "theta_x: 0.3320\n",
      "theta_y: -0.2462\n",
      "theta_z: 0.0687\n",
      "phi: 0.0054\n",
      "gamma: -0.0054\n",
      "rho: 0.0037\n"
     ]
    },
    {
     "name": "stderr",
     "output_type": "stream",
     "text": [
      "\r",
      " 17%|█████████████▊                                                                     | 4/24 [00:04<00:22,  1.15s/it]"
     ]
    },
    {
     "name": "stdout",
     "output_type": "stream",
     "text": [
      "theta_x: 0.3337\n",
      "theta_y: -0.2463\n",
      "theta_z: 0.0684\n",
      "phi: 0.0055\n",
      "gamma: -0.0055\n",
      "rho: 0.0037\n"
     ]
    },
    {
     "name": "stderr",
     "output_type": "stream",
     "text": [
      "\r",
      " 21%|█████████████████▎                                                                 | 5/24 [00:05<00:21,  1.15s/it]"
     ]
    },
    {
     "name": "stdout",
     "output_type": "stream",
     "text": [
      "theta_x: 0.3337\n",
      "theta_y: -0.2460\n",
      "theta_z: 0.0684\n",
      "phi: 0.0054\n",
      "gamma: -0.0054\n",
      "rho: 0.0037\n"
     ]
    },
    {
     "name": "stderr",
     "output_type": "stream",
     "text": [
      "\r",
      " 25%|████████████████████▊                                                              | 6/24 [00:06<00:20,  1.14s/it]"
     ]
    },
    {
     "name": "stdout",
     "output_type": "stream",
     "text": [
      "theta_x: 0.3360\n",
      "theta_y: -0.2454\n",
      "theta_z: 0.0672\n",
      "phi: 0.0055\n",
      "gamma: -0.0054\n",
      "rho: 0.0036\n"
     ]
    },
    {
     "name": "stderr",
     "output_type": "stream",
     "text": [
      "\r",
      " 29%|████████████████████████▏                                                          | 7/24 [00:07<00:19,  1.14s/it]"
     ]
    },
    {
     "name": "stdout",
     "output_type": "stream",
     "text": [
      "theta_x: 0.3361\n",
      "theta_y: -0.2450\n",
      "theta_z: 0.0670\n",
      "phi: 0.0055\n",
      "gamma: -0.0054\n",
      "rho: 0.0036\n"
     ]
    },
    {
     "name": "stderr",
     "output_type": "stream",
     "text": [
      "\r",
      " 33%|███████████████████████████▋                                                       | 8/24 [00:09<00:18,  1.14s/it]"
     ]
    },
    {
     "name": "stdout",
     "output_type": "stream",
     "text": [
      "theta_x: 0.3373\n",
      "theta_y: -0.2450\n",
      "theta_z: 0.0670\n",
      "phi: 0.0055\n",
      "gamma: -0.0054\n",
      "rho: 0.0036\n"
     ]
    },
    {
     "name": "stderr",
     "output_type": "stream",
     "text": [
      "\r",
      " 38%|███████████████████████████████▏                                                   | 9/24 [00:10<00:17,  1.14s/it]"
     ]
    },
    {
     "name": "stdout",
     "output_type": "stream",
     "text": [
      "theta_x: 0.3396\n",
      "theta_y: -0.2453\n",
      "theta_z: 0.0661\n",
      "phi: 0.0055\n",
      "gamma: -0.0055\n",
      "rho: 0.0036\n"
     ]
    },
    {
     "name": "stderr",
     "output_type": "stream",
     "text": [
      "\r",
      " 42%|██████████████████████████████████▏                                               | 10/24 [00:11<00:15,  1.14s/it]"
     ]
    },
    {
     "name": "stdout",
     "output_type": "stream",
     "text": [
      "theta_x: 0.3399\n",
      "theta_y: -0.2449\n",
      "theta_z: 0.0658\n",
      "phi: 0.0055\n",
      "gamma: -0.0055\n",
      "rho: 0.0035\n"
     ]
    },
    {
     "name": "stderr",
     "output_type": "stream",
     "text": [
      "\r",
      " 46%|█████████████████████████████████████▌                                            | 11/24 [00:12<00:14,  1.14s/it]"
     ]
    },
    {
     "name": "stdout",
     "output_type": "stream",
     "text": [
      "theta_x: 0.3430\n",
      "theta_y: -0.2446\n",
      "theta_z: 0.0652\n",
      "phi: 0.0055\n",
      "gamma: -0.0055\n",
      "rho: 0.0035\n"
     ]
    },
    {
     "name": "stderr",
     "output_type": "stream",
     "text": [
      "\r",
      " 50%|█████████████████████████████████████████                                         | 12/24 [00:13<00:13,  1.14s/it]"
     ]
    },
    {
     "name": "stdout",
     "output_type": "stream",
     "text": [
      "theta_x: 0.3447\n",
      "theta_y: -0.2443\n",
      "theta_z: 0.0662\n",
      "phi: 0.0056\n",
      "gamma: -0.0055\n",
      "rho: 0.0035\n"
     ]
    },
    {
     "name": "stderr",
     "output_type": "stream",
     "text": [
      "\r",
      " 54%|████████████████████████████████████████████▍                                     | 13/24 [00:14<00:12,  1.14s/it]"
     ]
    },
    {
     "name": "stdout",
     "output_type": "stream",
     "text": [
      "theta_x: 0.3455\n",
      "theta_y: -0.2444\n",
      "theta_z: 0.0662\n",
      "phi: 0.0055\n",
      "gamma: -0.0055\n",
      "rho: 0.0035\n"
     ]
    },
    {
     "name": "stderr",
     "output_type": "stream",
     "text": [
      "\r",
      " 58%|███████████████████████████████████████████████▊                                  | 14/24 [00:15<00:11,  1.14s/it]"
     ]
    },
    {
     "name": "stdout",
     "output_type": "stream",
     "text": [
      "theta_x: 0.3466\n",
      "theta_y: -0.2446\n",
      "theta_z: 0.0664\n",
      "phi: 0.0056\n",
      "gamma: -0.0055\n",
      "rho: 0.0034\n"
     ]
    },
    {
     "name": "stderr",
     "output_type": "stream",
     "text": [
      "\r",
      " 62%|███████████████████████████████████████████████████▎                              | 15/24 [00:17<00:10,  1.14s/it]"
     ]
    },
    {
     "name": "stdout",
     "output_type": "stream",
     "text": [
      "theta_x: 0.3468\n",
      "theta_y: -0.2444\n",
      "theta_z: 0.0663\n",
      "phi: 0.0056\n",
      "gamma: -0.0055\n",
      "rho: 0.0034\n"
     ]
    },
    {
     "name": "stderr",
     "output_type": "stream",
     "text": [
      "\r",
      " 67%|██████████████████████████████████████████████████████▋                           | 16/24 [00:18<00:09,  1.14s/it]"
     ]
    },
    {
     "name": "stdout",
     "output_type": "stream",
     "text": [
      "theta_x: 0.3481\n",
      "theta_y: -0.2438\n",
      "theta_z: 0.0660\n",
      "phi: 0.0056\n",
      "gamma: -0.0054\n",
      "rho: 0.0034\n"
     ]
    },
    {
     "name": "stderr",
     "output_type": "stream",
     "text": [
      "\r",
      " 71%|██████████████████████████████████████████████████████████                        | 17/24 [00:19<00:07,  1.14s/it]"
     ]
    },
    {
     "name": "stdout",
     "output_type": "stream",
     "text": [
      "theta_x: 0.3486\n",
      "theta_y: -0.2441\n",
      "theta_z: 0.0655\n",
      "phi: 0.0055\n",
      "gamma: -0.0054\n",
      "rho: 0.0034\n"
     ]
    },
    {
     "name": "stderr",
     "output_type": "stream",
     "text": [
      "\r",
      " 75%|█████████████████████████████████████████████████████████████▌                    | 18/24 [00:20<00:06,  1.14s/it]"
     ]
    },
    {
     "name": "stdout",
     "output_type": "stream",
     "text": [
      "theta_x: 0.3489\n",
      "theta_y: -0.2439\n",
      "theta_z: 0.0650\n",
      "phi: 0.0055\n",
      "gamma: -0.0054\n",
      "rho: 0.0033\n"
     ]
    },
    {
     "name": "stderr",
     "output_type": "stream",
     "text": [
      "\r",
      " 79%|████████████████████████████████████████████████████████████████▉                 | 19/24 [00:21<00:05,  1.13s/it]"
     ]
    },
    {
     "name": "stdout",
     "output_type": "stream",
     "text": [
      "theta_x: 0.3497\n",
      "theta_y: -0.2433\n",
      "theta_z: 0.0645\n",
      "phi: 0.0055\n",
      "gamma: -0.0054\n",
      "rho: 0.0033\n"
     ]
    },
    {
     "name": "stderr",
     "output_type": "stream",
     "text": [
      "\r",
      " 83%|████████████████████████████████████████████████████████████████████▎             | 20/24 [00:22<00:04,  1.13s/it]"
     ]
    },
    {
     "name": "stdout",
     "output_type": "stream",
     "text": [
      "theta_x: 0.3503\n",
      "theta_y: -0.2434\n",
      "theta_z: 0.0647\n",
      "phi: 0.0056\n",
      "gamma: -0.0054\n",
      "rho: 0.0033\n"
     ]
    },
    {
     "name": "stderr",
     "output_type": "stream",
     "text": [
      "\r",
      " 88%|███████████████████████████████████████████████████████████████████████▊          | 21/24 [00:23<00:03,  1.13s/it]"
     ]
    },
    {
     "name": "stdout",
     "output_type": "stream",
     "text": [
      "theta_x: 0.3502\n",
      "theta_y: -0.2432\n",
      "theta_z: 0.0645\n",
      "phi: 0.0055\n",
      "gamma: -0.0053\n",
      "rho: 0.0033\n"
     ]
    },
    {
     "name": "stderr",
     "output_type": "stream",
     "text": [
      "\r",
      " 92%|███████████████████████████████████████████████████████████████████████████▏      | 22/24 [00:25<00:02,  1.13s/it]"
     ]
    },
    {
     "name": "stdout",
     "output_type": "stream",
     "text": [
      "theta_x: 0.3517\n",
      "theta_y: -0.2436\n",
      "theta_z: 0.0646\n",
      "phi: 0.0056\n",
      "gamma: -0.0053\n",
      "rho: 0.0032\n"
     ]
    },
    {
     "name": "stderr",
     "output_type": "stream",
     "text": [
      "\r",
      " 96%|██████████████████████████████████████████████████████████████████████████████▌   | 23/24 [00:26<00:01,  1.13s/it]"
     ]
    },
    {
     "name": "stdout",
     "output_type": "stream",
     "text": [
      "theta_x: 0.3523\n",
      "theta_y: -0.2436\n",
      "theta_z: 0.0643\n",
      "phi: 0.0056\n",
      "gamma: -0.0053\n",
      "rho: 0.0032\n"
     ]
    },
    {
     "name": "stderr",
     "output_type": "stream",
     "text": [
      "100%|██████████████████████████████████████████████████████████████████████████████████| 24/24 [00:27<00:00,  1.14s/it]\n",
      "  0%|                                                                                           | 0/24 [00:00<?, ?it/s]"
     ]
    },
    {
     "name": "stdout",
     "output_type": "stream",
     "text": [
      "theta_x: 0.3533\n",
      "theta_y: -0.2433\n",
      "theta_z: 0.0639\n",
      "phi: 0.0056\n",
      "gamma: -0.0053\n",
      "rho: 0.0032\n",
      "Train Epoch: (2, 0) \tLR: 0.000075\tLoss: 4.263587\n"
     ]
    },
    {
     "name": "stderr",
     "output_type": "stream",
     "text": [
      "\r",
      "  4%|███▍                                                                               | 1/24 [00:01<00:27,  1.18s/it]"
     ]
    },
    {
     "name": "stdout",
     "output_type": "stream",
     "text": [
      "theta_x: 0.3533\n",
      "theta_y: -0.2428\n",
      "theta_z: 0.0638\n",
      "phi: 0.0056\n",
      "gamma: -0.0052\n",
      "rho: 0.0032\n"
     ]
    },
    {
     "name": "stderr",
     "output_type": "stream",
     "text": [
      "\r",
      "  8%|██████▉                                                                            | 2/24 [00:02<00:25,  1.17s/it]"
     ]
    },
    {
     "name": "stdout",
     "output_type": "stream",
     "text": [
      "theta_x: 0.3545\n",
      "theta_y: -0.2419\n",
      "theta_z: 0.0636\n",
      "phi: 0.0056\n",
      "gamma: -0.0052\n",
      "rho: 0.0031\n"
     ]
    },
    {
     "name": "stderr",
     "output_type": "stream",
     "text": [
      "\r",
      " 12%|██████████▍                                                                        | 3/24 [00:03<00:24,  1.16s/it]"
     ]
    },
    {
     "name": "stdout",
     "output_type": "stream",
     "text": [
      "theta_x: 0.3562\n",
      "theta_y: -0.2422\n",
      "theta_z: 0.0635\n",
      "phi: 0.0056\n",
      "gamma: -0.0052\n",
      "rho: 0.0032\n"
     ]
    },
    {
     "name": "stderr",
     "output_type": "stream",
     "text": [
      "\r",
      " 17%|█████████████▊                                                                     | 4/24 [00:04<00:23,  1.15s/it]"
     ]
    },
    {
     "name": "stdout",
     "output_type": "stream",
     "text": [
      "theta_x: 0.3567\n",
      "theta_y: -0.2417\n",
      "theta_z: 0.0632\n",
      "phi: 0.0056\n",
      "gamma: -0.0052\n",
      "rho: 0.0031\n"
     ]
    },
    {
     "name": "stderr",
     "output_type": "stream",
     "text": [
      "\r",
      " 21%|█████████████████▎                                                                 | 5/24 [00:05<00:21,  1.15s/it]"
     ]
    },
    {
     "name": "stdout",
     "output_type": "stream",
     "text": [
      "theta_x: 0.3581\n",
      "theta_y: -0.2417\n",
      "theta_z: 0.0630\n",
      "phi: 0.0056\n",
      "gamma: -0.0052\n",
      "rho: 0.0031\n"
     ]
    },
    {
     "name": "stderr",
     "output_type": "stream",
     "text": [
      "\r",
      " 25%|████████████████████▊                                                              | 6/24 [00:06<00:20,  1.15s/it]"
     ]
    },
    {
     "name": "stdout",
     "output_type": "stream",
     "text": [
      "theta_x: 0.3585\n",
      "theta_y: -0.2418\n",
      "theta_z: 0.0627\n",
      "phi: 0.0056\n",
      "gamma: -0.0052\n",
      "rho: 0.0031\n"
     ]
    },
    {
     "name": "stderr",
     "output_type": "stream",
     "text": [
      "\r",
      " 29%|████████████████████████▏                                                          | 7/24 [00:08<00:19,  1.14s/it]"
     ]
    },
    {
     "name": "stdout",
     "output_type": "stream",
     "text": [
      "theta_x: 0.3594\n",
      "theta_y: -0.2417\n",
      "theta_z: 0.0621\n",
      "phi: 0.0056\n",
      "gamma: -0.0052\n",
      "rho: 0.0031\n"
     ]
    },
    {
     "name": "stderr",
     "output_type": "stream",
     "text": [
      "\r",
      " 33%|███████████████████████████▋                                                       | 8/24 [00:09<00:18,  1.14s/it]"
     ]
    },
    {
     "name": "stdout",
     "output_type": "stream",
     "text": [
      "theta_x: 0.3593\n",
      "theta_y: -0.2416\n",
      "theta_z: 0.0621\n",
      "phi: 0.0056\n",
      "gamma: -0.0051\n",
      "rho: 0.0031\n"
     ]
    },
    {
     "name": "stderr",
     "output_type": "stream",
     "text": [
      "\r",
      " 38%|███████████████████████████████▏                                                   | 9/24 [00:10<00:17,  1.14s/it]"
     ]
    },
    {
     "name": "stdout",
     "output_type": "stream",
     "text": [
      "theta_x: 0.3604\n",
      "theta_y: -0.2415\n",
      "theta_z: 0.0618\n",
      "phi: 0.0056\n",
      "gamma: -0.0052\n",
      "rho: 0.0031\n"
     ]
    },
    {
     "name": "stderr",
     "output_type": "stream",
     "text": [
      "\r",
      " 42%|██████████████████████████████████▏                                               | 10/24 [00:11<00:15,  1.14s/it]"
     ]
    },
    {
     "name": "stdout",
     "output_type": "stream",
     "text": [
      "theta_x: 0.3615\n",
      "theta_y: -0.2417\n",
      "theta_z: 0.0614\n",
      "phi: 0.0056\n",
      "gamma: -0.0051\n",
      "rho: 0.0031\n"
     ]
    },
    {
     "name": "stderr",
     "output_type": "stream",
     "text": [
      "\r",
      " 46%|█████████████████████████████████████▌                                            | 11/24 [00:12<00:14,  1.14s/it]"
     ]
    },
    {
     "name": "stdout",
     "output_type": "stream",
     "text": [
      "theta_x: 0.3617\n",
      "theta_y: -0.2414\n",
      "theta_z: 0.0614\n",
      "phi: 0.0056\n",
      "gamma: -0.0051\n",
      "rho: 0.0030\n"
     ]
    },
    {
     "name": "stderr",
     "output_type": "stream",
     "text": [
      "\r",
      " 50%|█████████████████████████████████████████                                         | 12/24 [00:13<00:13,  1.14s/it]"
     ]
    },
    {
     "name": "stdout",
     "output_type": "stream",
     "text": [
      "theta_x: 0.3627\n",
      "theta_y: -0.2422\n",
      "theta_z: 0.0617\n",
      "phi: 0.0056\n",
      "gamma: -0.0051\n",
      "rho: 0.0030\n"
     ]
    },
    {
     "name": "stderr",
     "output_type": "stream",
     "text": [
      "\r",
      " 54%|████████████████████████████████████████████▍                                     | 13/24 [00:14<00:12,  1.14s/it]"
     ]
    },
    {
     "name": "stdout",
     "output_type": "stream",
     "text": [
      "theta_x: 0.3625\n",
      "theta_y: -0.2421\n",
      "theta_z: 0.0615\n",
      "phi: 0.0056\n",
      "gamma: -0.0051\n",
      "rho: 0.0030\n"
     ]
    },
    {
     "name": "stderr",
     "output_type": "stream",
     "text": [
      "\r",
      " 58%|███████████████████████████████████████████████▊                                  | 14/24 [00:15<00:11,  1.14s/it]"
     ]
    },
    {
     "name": "stdout",
     "output_type": "stream",
     "text": [
      "theta_x: 0.3628\n",
      "theta_y: -0.2423\n",
      "theta_z: 0.0614\n",
      "phi: 0.0056\n",
      "gamma: -0.0051\n",
      "rho: 0.0030\n"
     ]
    },
    {
     "name": "stderr",
     "output_type": "stream",
     "text": [
      "\r",
      " 62%|███████████████████████████████████████████████████▎                              | 15/24 [00:17<00:10,  1.14s/it]"
     ]
    },
    {
     "name": "stdout",
     "output_type": "stream",
     "text": [
      "theta_x: 0.3640\n",
      "theta_y: -0.2422\n",
      "theta_z: 0.0608\n",
      "phi: 0.0056\n",
      "gamma: -0.0051\n",
      "rho: 0.0030\n"
     ]
    },
    {
     "name": "stderr",
     "output_type": "stream",
     "text": [
      "\r",
      " 67%|██████████████████████████████████████████████████████▋                           | 16/24 [00:18<00:09,  1.14s/it]"
     ]
    },
    {
     "name": "stdout",
     "output_type": "stream",
     "text": [
      "theta_x: 0.3646\n",
      "theta_y: -0.2421\n",
      "theta_z: 0.0609\n",
      "phi: 0.0056\n",
      "gamma: -0.0051\n",
      "rho: 0.0030\n"
     ]
    },
    {
     "name": "stderr",
     "output_type": "stream",
     "text": [
      "\r",
      " 71%|██████████████████████████████████████████████████████████                        | 17/24 [00:19<00:07,  1.14s/it]"
     ]
    },
    {
     "name": "stdout",
     "output_type": "stream",
     "text": [
      "theta_x: 0.3658\n",
      "theta_y: -0.2422\n",
      "theta_z: 0.0603\n",
      "phi: 0.0056\n",
      "gamma: -0.0051\n",
      "rho: 0.0030\n"
     ]
    },
    {
     "name": "stderr",
     "output_type": "stream",
     "text": [
      "\r",
      " 75%|█████████████████████████████████████████████████████████████▌                    | 18/24 [00:20<00:06,  1.14s/it]"
     ]
    },
    {
     "name": "stdout",
     "output_type": "stream",
     "text": [
      "theta_x: 0.3660\n",
      "theta_y: -0.2426\n",
      "theta_z: 0.0603\n",
      "phi: 0.0056\n",
      "gamma: -0.0050\n",
      "rho: 0.0030\n"
     ]
    },
    {
     "name": "stderr",
     "output_type": "stream",
     "text": [
      "\r",
      " 79%|████████████████████████████████████████████████████████████████▉                 | 19/24 [00:21<00:05,  1.14s/it]"
     ]
    },
    {
     "name": "stdout",
     "output_type": "stream",
     "text": [
      "theta_x: 0.3661\n",
      "theta_y: -0.2427\n",
      "theta_z: 0.0603\n",
      "phi: 0.0056\n",
      "gamma: -0.0050\n",
      "rho: 0.0030\n"
     ]
    },
    {
     "name": "stderr",
     "output_type": "stream",
     "text": [
      "\r",
      " 83%|████████████████████████████████████████████████████████████████████▎             | 20/24 [00:22<00:04,  1.14s/it]"
     ]
    },
    {
     "name": "stdout",
     "output_type": "stream",
     "text": [
      "theta_x: 0.3664\n",
      "theta_y: -0.2427\n",
      "theta_z: 0.0605\n",
      "phi: 0.0056\n",
      "gamma: -0.0050\n",
      "rho: 0.0029\n"
     ]
    },
    {
     "name": "stderr",
     "output_type": "stream",
     "text": [
      "\r",
      " 88%|███████████████████████████████████████████████████████████████████████▊          | 21/24 [00:23<00:03,  1.14s/it]"
     ]
    },
    {
     "name": "stdout",
     "output_type": "stream",
     "text": [
      "theta_x: 0.3675\n",
      "theta_y: -0.2429\n",
      "theta_z: 0.0599\n",
      "phi: 0.0056\n",
      "gamma: -0.0050\n",
      "rho: 0.0029\n"
     ]
    },
    {
     "name": "stderr",
     "output_type": "stream",
     "text": [
      "\r",
      " 92%|███████████████████████████████████████████████████████████████████████████▏      | 22/24 [00:25<00:02,  1.14s/it]"
     ]
    },
    {
     "name": "stdout",
     "output_type": "stream",
     "text": [
      "theta_x: 0.3676\n",
      "theta_y: -0.2429\n",
      "theta_z: 0.0598\n",
      "phi: 0.0056\n",
      "gamma: -0.0050\n",
      "rho: 0.0029\n"
     ]
    },
    {
     "name": "stderr",
     "output_type": "stream",
     "text": [
      "\r",
      " 96%|██████████████████████████████████████████████████████████████████████████████▌   | 23/24 [00:26<00:01,  1.14s/it]"
     ]
    },
    {
     "name": "stdout",
     "output_type": "stream",
     "text": [
      "theta_x: 0.3684\n",
      "theta_y: -0.2430\n",
      "theta_z: 0.0597\n",
      "phi: 0.0056\n",
      "gamma: -0.0050\n",
      "rho: 0.0029\n"
     ]
    },
    {
     "name": "stderr",
     "output_type": "stream",
     "text": [
      "100%|██████████████████████████████████████████████████████████████████████████████████| 24/24 [00:27<00:00,  1.14s/it]\n",
      "  0%|                                                                                           | 0/24 [00:00<?, ?it/s]"
     ]
    },
    {
     "name": "stdout",
     "output_type": "stream",
     "text": [
      "theta_x: 0.3687\n",
      "theta_y: -0.2430\n",
      "theta_z: 0.0595\n",
      "phi: 0.0056\n",
      "gamma: -0.0050\n",
      "rho: 0.0029\n",
      "Train Epoch: (2, 1) \tLR: 0.000075\tLoss: 3.923913\n"
     ]
    },
    {
     "name": "stderr",
     "output_type": "stream",
     "text": [
      "\r",
      "  4%|███▍                                                                               | 1/24 [00:01<00:36,  1.60s/it]"
     ]
    },
    {
     "name": "stdout",
     "output_type": "stream",
     "text": [
      "theta_x: 0.3693\n",
      "theta_y: -0.2431\n",
      "theta_z: 0.0599\n",
      "phi: 0.0056\n",
      "gamma: -0.0049\n",
      "rho: 0.0029\n"
     ]
    },
    {
     "name": "stderr",
     "output_type": "stream",
     "text": [
      "\r",
      "  8%|██████▉                                                                            | 2/24 [00:03<00:34,  1.59s/it]"
     ]
    },
    {
     "name": "stdout",
     "output_type": "stream",
     "text": [
      "theta_x: 0.3707\n",
      "theta_y: -0.2430\n",
      "theta_z: 0.0598\n",
      "phi: 0.0055\n",
      "gamma: -0.0049\n",
      "rho: 0.0028\n"
     ]
    },
    {
     "name": "stderr",
     "output_type": "stream",
     "text": [
      "\r",
      " 12%|██████████▍                                                                        | 3/24 [00:04<00:33,  1.58s/it]"
     ]
    },
    {
     "name": "stdout",
     "output_type": "stream",
     "text": [
      "theta_x: 0.3703\n",
      "theta_y: -0.2431\n",
      "theta_z: 0.0598\n",
      "phi: 0.0055\n",
      "gamma: -0.0048\n",
      "rho: 0.0028\n"
     ]
    },
    {
     "name": "stderr",
     "output_type": "stream",
     "text": [
      "\r",
      " 17%|█████████████▊                                                                     | 4/24 [00:06<00:31,  1.57s/it]"
     ]
    },
    {
     "name": "stdout",
     "output_type": "stream",
     "text": [
      "theta_x: 0.3708\n",
      "theta_y: -0.2427\n",
      "theta_z: 0.0593\n",
      "phi: 0.0055\n",
      "gamma: -0.0047\n",
      "rho: 0.0028\n"
     ]
    },
    {
     "name": "stderr",
     "output_type": "stream",
     "text": [
      "\r",
      " 21%|█████████████████▎                                                                 | 5/24 [00:07<00:29,  1.57s/it]"
     ]
    },
    {
     "name": "stdout",
     "output_type": "stream",
     "text": [
      "theta_x: 0.3707\n",
      "theta_y: -0.2418\n",
      "theta_z: 0.0590\n",
      "phi: 0.0054\n",
      "gamma: -0.0046\n",
      "rho: 0.0027\n"
     ]
    },
    {
     "name": "stderr",
     "output_type": "stream",
     "text": [
      "\r",
      " 25%|████████████████████▊                                                              | 6/24 [00:09<00:28,  1.57s/it]"
     ]
    },
    {
     "name": "stdout",
     "output_type": "stream",
     "text": [
      "theta_x: 0.3723\n",
      "theta_y: -0.2427\n",
      "theta_z: 0.0591\n",
      "phi: 0.0054\n",
      "gamma: -0.0046\n",
      "rho: 0.0027\n"
     ]
    },
    {
     "name": "stderr",
     "output_type": "stream",
     "text": [
      "\r",
      " 29%|████████████████████████▏                                                          | 7/24 [00:10<00:26,  1.56s/it]"
     ]
    },
    {
     "name": "stdout",
     "output_type": "stream",
     "text": [
      "theta_x: 0.3727\n",
      "theta_y: -0.2430\n",
      "theta_z: 0.0594\n",
      "phi: 0.0053\n",
      "gamma: -0.0045\n",
      "rho: 0.0027\n"
     ]
    },
    {
     "name": "stderr",
     "output_type": "stream",
     "text": [
      "\r",
      " 33%|███████████████████████████▋                                                       | 8/24 [00:12<00:25,  1.56s/it]"
     ]
    },
    {
     "name": "stdout",
     "output_type": "stream",
     "text": [
      "theta_x: 0.3734\n",
      "theta_y: -0.2430\n",
      "theta_z: 0.0595\n",
      "phi: 0.0053\n",
      "gamma: -0.0045\n",
      "rho: 0.0027\n"
     ]
    },
    {
     "name": "stderr",
     "output_type": "stream",
     "text": [
      "\r",
      " 38%|███████████████████████████████▏                                                   | 9/24 [00:14<00:23,  1.56s/it]"
     ]
    },
    {
     "name": "stdout",
     "output_type": "stream",
     "text": [
      "theta_x: 0.3742\n",
      "theta_y: -0.2432\n",
      "theta_z: 0.0592\n",
      "phi: 0.0053\n",
      "gamma: -0.0044\n",
      "rho: 0.0027\n"
     ]
    },
    {
     "name": "stderr",
     "output_type": "stream",
     "text": [
      "\r",
      " 42%|██████████████████████████████████▏                                               | 10/24 [00:15<00:21,  1.56s/it]"
     ]
    },
    {
     "name": "stdout",
     "output_type": "stream",
     "text": [
      "theta_x: 0.3749\n",
      "theta_y: -0.2433\n",
      "theta_z: 0.0593\n",
      "phi: 0.0053\n",
      "gamma: -0.0043\n",
      "rho: 0.0026\n"
     ]
    },
    {
     "name": "stderr",
     "output_type": "stream",
     "text": [
      "\r",
      " 46%|█████████████████████████████████████▌                                            | 11/24 [00:17<00:20,  1.56s/it]"
     ]
    },
    {
     "name": "stdout",
     "output_type": "stream",
     "text": [
      "theta_x: 0.3745\n",
      "theta_y: -0.2429\n",
      "theta_z: 0.0590\n",
      "phi: 0.0052\n",
      "gamma: -0.0043\n",
      "rho: 0.0026\n"
     ]
    },
    {
     "name": "stderr",
     "output_type": "stream",
     "text": [
      "\r",
      " 50%|█████████████████████████████████████████                                         | 12/24 [00:18<00:18,  1.56s/it]"
     ]
    },
    {
     "name": "stdout",
     "output_type": "stream",
     "text": [
      "theta_x: 0.3756\n",
      "theta_y: -0.2430\n",
      "theta_z: 0.0586\n",
      "phi: 0.0052\n",
      "gamma: -0.0042\n",
      "rho: 0.0026\n"
     ]
    },
    {
     "name": "stderr",
     "output_type": "stream",
     "text": [
      "\r",
      " 54%|████████████████████████████████████████████▍                                     | 13/24 [00:20<00:17,  1.55s/it]"
     ]
    },
    {
     "name": "stdout",
     "output_type": "stream",
     "text": [
      "theta_x: 0.3762\n",
      "theta_y: -0.2424\n",
      "theta_z: 0.0578\n",
      "phi: 0.0052\n",
      "gamma: -0.0042\n",
      "rho: 0.0026\n"
     ]
    },
    {
     "name": "stderr",
     "output_type": "stream",
     "text": [
      "\r",
      " 58%|███████████████████████████████████████████████▊                                  | 14/24 [00:21<00:15,  1.55s/it]"
     ]
    },
    {
     "name": "stdout",
     "output_type": "stream",
     "text": [
      "theta_x: 0.3769\n",
      "theta_y: -0.2430\n",
      "theta_z: 0.0575\n",
      "phi: 0.0052\n",
      "gamma: -0.0041\n",
      "rho: 0.0026\n"
     ]
    },
    {
     "name": "stderr",
     "output_type": "stream",
     "text": [
      "\r",
      " 62%|███████████████████████████████████████████████████▎                              | 15/24 [00:23<00:13,  1.55s/it]"
     ]
    },
    {
     "name": "stdout",
     "output_type": "stream",
     "text": [
      "theta_x: 0.3788\n",
      "theta_y: -0.2430\n",
      "theta_z: 0.0568\n",
      "phi: 0.0052\n",
      "gamma: -0.0041\n",
      "rho: 0.0025\n"
     ]
    },
    {
     "name": "stderr",
     "output_type": "stream",
     "text": [
      "\r",
      " 67%|██████████████████████████████████████████████████████▋                           | 16/24 [00:24<00:12,  1.55s/it]"
     ]
    },
    {
     "name": "stdout",
     "output_type": "stream",
     "text": [
      "theta_x: 0.3792\n",
      "theta_y: -0.2426\n",
      "theta_z: 0.0563\n",
      "phi: 0.0052\n",
      "gamma: -0.0041\n",
      "rho: 0.0025\n"
     ]
    },
    {
     "name": "stderr",
     "output_type": "stream",
     "text": [
      "\r",
      " 71%|██████████████████████████████████████████████████████████                        | 17/24 [00:26<00:10,  1.56s/it]"
     ]
    },
    {
     "name": "stdout",
     "output_type": "stream",
     "text": [
      "theta_x: 0.3789\n",
      "theta_y: -0.2428\n",
      "theta_z: 0.0562\n",
      "phi: 0.0051\n",
      "gamma: -0.0040\n",
      "rho: 0.0025\n"
     ]
    },
    {
     "name": "stderr",
     "output_type": "stream",
     "text": [
      "\r",
      " 75%|█████████████████████████████████████████████████████████████▌                    | 18/24 [00:28<00:09,  1.56s/it]"
     ]
    },
    {
     "name": "stdout",
     "output_type": "stream",
     "text": [
      "theta_x: 0.3791\n",
      "theta_y: -0.2428\n",
      "theta_z: 0.0560\n",
      "phi: 0.0051\n",
      "gamma: -0.0040\n",
      "rho: 0.0025\n"
     ]
    },
    {
     "name": "stderr",
     "output_type": "stream",
     "text": [
      "\r",
      " 79%|████████████████████████████████████████████████████████████████▉                 | 19/24 [00:29<00:07,  1.55s/it]"
     ]
    },
    {
     "name": "stdout",
     "output_type": "stream",
     "text": [
      "theta_x: 0.3798\n",
      "theta_y: -0.2430\n",
      "theta_z: 0.0560\n",
      "phi: 0.0051\n",
      "gamma: -0.0039\n",
      "rho: 0.0025\n"
     ]
    },
    {
     "name": "stderr",
     "output_type": "stream",
     "text": [
      "\r",
      " 83%|████████████████████████████████████████████████████████████████████▎             | 20/24 [00:31<00:06,  1.56s/it]"
     ]
    },
    {
     "name": "stdout",
     "output_type": "stream",
     "text": [
      "theta_x: 0.3804\n",
      "theta_y: -0.2432\n",
      "theta_z: 0.0559\n",
      "phi: 0.0051\n",
      "gamma: -0.0039\n",
      "rho: 0.0025\n"
     ]
    },
    {
     "name": "stderr",
     "output_type": "stream",
     "text": [
      "\r",
      " 88%|███████████████████████████████████████████████████████████████████████▊          | 21/24 [00:32<00:04,  1.56s/it]"
     ]
    },
    {
     "name": "stdout",
     "output_type": "stream",
     "text": [
      "theta_x: 0.3818\n",
      "theta_y: -0.2439\n",
      "theta_z: 0.0564\n",
      "phi: 0.0050\n",
      "gamma: -0.0039\n",
      "rho: 0.0024\n"
     ]
    },
    {
     "name": "stderr",
     "output_type": "stream",
     "text": [
      "\r",
      " 92%|███████████████████████████████████████████████████████████████████████████▏      | 22/24 [00:34<00:03,  1.56s/it]"
     ]
    },
    {
     "name": "stdout",
     "output_type": "stream",
     "text": [
      "theta_x: 0.3821\n",
      "theta_y: -0.2440\n",
      "theta_z: 0.0561\n",
      "phi: 0.0050\n",
      "gamma: -0.0038\n",
      "rho: 0.0024\n"
     ]
    },
    {
     "name": "stderr",
     "output_type": "stream",
     "text": [
      "\r",
      " 96%|██████████████████████████████████████████████████████████████████████████████▌   | 23/24 [00:35<00:01,  1.56s/it]"
     ]
    },
    {
     "name": "stdout",
     "output_type": "stream",
     "text": [
      "theta_x: 0.3828\n",
      "theta_y: -0.2437\n",
      "theta_z: 0.0553\n",
      "phi: 0.0050\n",
      "gamma: -0.0037\n",
      "rho: 0.0024\n"
     ]
    },
    {
     "name": "stderr",
     "output_type": "stream",
     "text": [
      "100%|██████████████████████████████████████████████████████████████████████████████████| 24/24 [00:37<00:00,  1.56s/it]\n",
      "  0%|                                                                                           | 0/24 [00:00<?, ?it/s]"
     ]
    },
    {
     "name": "stdout",
     "output_type": "stream",
     "text": [
      "theta_x: 0.3838\n",
      "theta_y: -0.2437\n",
      "theta_z: 0.0556\n",
      "phi: 0.0050\n",
      "gamma: -0.0037\n",
      "rho: 0.0024\n",
      "Train Epoch: (1, 0) \tLR: 0.000037\tLoss: 12.184783\n"
     ]
    },
    {
     "name": "stderr",
     "output_type": "stream",
     "text": [
      "\r",
      "  4%|███▍                                                                               | 1/24 [00:01<00:36,  1.61s/it]"
     ]
    },
    {
     "name": "stdout",
     "output_type": "stream",
     "text": [
      "theta_x: 0.3846\n",
      "theta_y: -0.2434\n",
      "theta_z: 0.0553\n",
      "phi: 0.0050\n",
      "gamma: -0.0037\n",
      "rho: 0.0023\n"
     ]
    },
    {
     "name": "stderr",
     "output_type": "stream",
     "text": [
      "\r",
      "  8%|██████▉                                                                            | 2/24 [00:03<00:35,  1.59s/it]"
     ]
    },
    {
     "name": "stdout",
     "output_type": "stream",
     "text": [
      "theta_x: 0.3849\n",
      "theta_y: -0.2438\n",
      "theta_z: 0.0549\n",
      "phi: 0.0049\n",
      "gamma: -0.0036\n",
      "rho: 0.0023\n"
     ]
    },
    {
     "name": "stderr",
     "output_type": "stream",
     "text": [
      "\r",
      " 12%|██████████▍                                                                        | 3/24 [00:04<00:33,  1.58s/it]"
     ]
    },
    {
     "name": "stdout",
     "output_type": "stream",
     "text": [
      "theta_x: 0.3847\n",
      "theta_y: -0.2439\n",
      "theta_z: 0.0549\n",
      "phi: 0.0049\n",
      "gamma: -0.0036\n",
      "rho: 0.0023\n"
     ]
    },
    {
     "name": "stderr",
     "output_type": "stream",
     "text": [
      "\r",
      " 17%|█████████████▊                                                                     | 4/24 [00:06<00:31,  1.58s/it]"
     ]
    },
    {
     "name": "stdout",
     "output_type": "stream",
     "text": [
      "theta_x: 0.3856\n",
      "theta_y: -0.2447\n",
      "theta_z: 0.0547\n",
      "phi: 0.0049\n",
      "gamma: -0.0036\n",
      "rho: 0.0023\n"
     ]
    },
    {
     "name": "stderr",
     "output_type": "stream",
     "text": [
      "\r",
      " 21%|█████████████████▎                                                                 | 5/24 [00:07<00:29,  1.58s/it]"
     ]
    },
    {
     "name": "stdout",
     "output_type": "stream",
     "text": [
      "theta_x: 0.3858\n",
      "theta_y: -0.2451\n",
      "theta_z: 0.0547\n",
      "phi: 0.0049\n",
      "gamma: -0.0035\n",
      "rho: 0.0023\n"
     ]
    },
    {
     "name": "stderr",
     "output_type": "stream",
     "text": [
      "\r",
      " 25%|████████████████████▊                                                              | 6/24 [00:09<00:28,  1.57s/it]"
     ]
    },
    {
     "name": "stdout",
     "output_type": "stream",
     "text": [
      "theta_x: 0.3860\n",
      "theta_y: -0.2456\n",
      "theta_z: 0.0546\n",
      "phi: 0.0048\n",
      "gamma: -0.0035\n",
      "rho: 0.0023\n"
     ]
    },
    {
     "name": "stderr",
     "output_type": "stream",
     "text": [
      "\r",
      " 29%|████████████████████████▏                                                          | 7/24 [00:10<00:26,  1.57s/it]"
     ]
    },
    {
     "name": "stdout",
     "output_type": "stream",
     "text": [
      "theta_x: 0.3868\n",
      "theta_y: -0.2454\n",
      "theta_z: 0.0544\n",
      "phi: 0.0048\n",
      "gamma: -0.0034\n",
      "rho: 0.0023\n"
     ]
    },
    {
     "name": "stderr",
     "output_type": "stream",
     "text": [
      "\r",
      " 33%|███████████████████████████▋                                                       | 8/24 [00:12<00:25,  1.57s/it]"
     ]
    },
    {
     "name": "stdout",
     "output_type": "stream",
     "text": [
      "theta_x: 0.3871\n",
      "theta_y: -0.2453\n",
      "theta_z: 0.0543\n",
      "phi: 0.0048\n",
      "gamma: -0.0034\n",
      "rho: 0.0023\n"
     ]
    },
    {
     "name": "stderr",
     "output_type": "stream",
     "text": [
      "\r",
      " 38%|███████████████████████████████▏                                                   | 9/24 [00:14<00:23,  1.57s/it]"
     ]
    },
    {
     "name": "stdout",
     "output_type": "stream",
     "text": [
      "theta_x: 0.3879\n",
      "theta_y: -0.2450\n",
      "theta_z: 0.0538\n",
      "phi: 0.0048\n",
      "gamma: -0.0033\n",
      "rho: 0.0023\n"
     ]
    },
    {
     "name": "stderr",
     "output_type": "stream",
     "text": [
      "\r",
      " 42%|██████████████████████████████████▏                                               | 10/24 [00:15<00:21,  1.57s/it]"
     ]
    },
    {
     "name": "stdout",
     "output_type": "stream",
     "text": [
      "theta_x: 0.3879\n",
      "theta_y: -0.2452\n",
      "theta_z: 0.0536\n",
      "phi: 0.0048\n",
      "gamma: -0.0033\n",
      "rho: 0.0022\n"
     ]
    },
    {
     "name": "stderr",
     "output_type": "stream",
     "text": [
      "\r",
      " 46%|█████████████████████████████████████▌                                            | 11/24 [00:17<00:20,  1.57s/it]"
     ]
    },
    {
     "name": "stdout",
     "output_type": "stream",
     "text": [
      "theta_x: 0.3896\n",
      "theta_y: -0.2456\n",
      "theta_z: 0.0534\n",
      "phi: 0.0048\n",
      "gamma: -0.0033\n",
      "rho: 0.0023\n"
     ]
    },
    {
     "name": "stderr",
     "output_type": "stream",
     "text": [
      "\r",
      " 50%|█████████████████████████████████████████                                         | 12/24 [00:18<00:18,  1.57s/it]"
     ]
    },
    {
     "name": "stdout",
     "output_type": "stream",
     "text": [
      "theta_x: 0.3898\n",
      "theta_y: -0.2459\n",
      "theta_z: 0.0534\n",
      "phi: 0.0047\n",
      "gamma: -0.0033\n",
      "rho: 0.0022\n"
     ]
    },
    {
     "name": "stderr",
     "output_type": "stream",
     "text": [
      "\r",
      " 54%|████████████████████████████████████████████▍                                     | 13/24 [00:20<00:17,  1.57s/it]"
     ]
    },
    {
     "name": "stdout",
     "output_type": "stream",
     "text": [
      "theta_x: 0.3900\n",
      "theta_y: -0.2458\n",
      "theta_z: 0.0531\n",
      "phi: 0.0047\n",
      "gamma: -0.0032\n",
      "rho: 0.0022\n"
     ]
    },
    {
     "name": "stderr",
     "output_type": "stream",
     "text": [
      "\r",
      " 58%|███████████████████████████████████████████████▊                                  | 14/24 [00:21<00:15,  1.56s/it]"
     ]
    },
    {
     "name": "stdout",
     "output_type": "stream",
     "text": [
      "theta_x: 0.3912\n",
      "theta_y: -0.2466\n",
      "theta_z: 0.0539\n",
      "phi: 0.0047\n",
      "gamma: -0.0032\n",
      "rho: 0.0022\n"
     ]
    },
    {
     "name": "stderr",
     "output_type": "stream",
     "text": [
      "\r",
      " 62%|███████████████████████████████████████████████████▎                              | 15/24 [00:23<00:14,  1.56s/it]"
     ]
    },
    {
     "name": "stdout",
     "output_type": "stream",
     "text": [
      "theta_x: 0.3929\n",
      "theta_y: -0.2476\n",
      "theta_z: 0.0545\n",
      "phi: 0.0047\n",
      "gamma: -0.0032\n",
      "rho: 0.0022\n"
     ]
    },
    {
     "name": "stderr",
     "output_type": "stream",
     "text": [
      "\r",
      " 67%|██████████████████████████████████████████████████████▋                           | 16/24 [00:25<00:12,  1.56s/it]"
     ]
    },
    {
     "name": "stdout",
     "output_type": "stream",
     "text": [
      "theta_x: 0.3934\n",
      "theta_y: -0.2480\n",
      "theta_z: 0.0544\n",
      "phi: 0.0047\n",
      "gamma: -0.0031\n",
      "rho: 0.0022\n"
     ]
    },
    {
     "name": "stderr",
     "output_type": "stream",
     "text": [
      "\r",
      " 71%|██████████████████████████████████████████████████████████                        | 17/24 [00:26<00:10,  1.56s/it]"
     ]
    },
    {
     "name": "stdout",
     "output_type": "stream",
     "text": [
      "theta_x: 0.3946\n",
      "theta_y: -0.2483\n",
      "theta_z: 0.0541\n",
      "phi: 0.0047\n",
      "gamma: -0.0031\n",
      "rho: 0.0022\n"
     ]
    },
    {
     "name": "stderr",
     "output_type": "stream",
     "text": [
      "\r",
      " 75%|█████████████████████████████████████████████████████████████▌                    | 18/24 [00:28<00:09,  1.56s/it]"
     ]
    },
    {
     "name": "stdout",
     "output_type": "stream",
     "text": [
      "theta_x: 0.3952\n",
      "theta_y: -0.2481\n",
      "theta_z: 0.0537\n",
      "phi: 0.0047\n",
      "gamma: -0.0031\n",
      "rho: 0.0022\n"
     ]
    },
    {
     "name": "stderr",
     "output_type": "stream",
     "text": [
      "\r",
      " 79%|████████████████████████████████████████████████████████████████▉                 | 19/24 [00:29<00:07,  1.56s/it]"
     ]
    },
    {
     "name": "stdout",
     "output_type": "stream",
     "text": [
      "theta_x: 0.3951\n",
      "theta_y: -0.2478\n",
      "theta_z: 0.0533\n",
      "phi: 0.0046\n",
      "gamma: -0.0030\n",
      "rho: 0.0022\n"
     ]
    },
    {
     "name": "stderr",
     "output_type": "stream",
     "text": [
      "\r",
      " 83%|████████████████████████████████████████████████████████████████████▎             | 20/24 [00:31<00:06,  1.56s/it]"
     ]
    },
    {
     "name": "stdout",
     "output_type": "stream",
     "text": [
      "theta_x: 0.3967\n",
      "theta_y: -0.2483\n",
      "theta_z: 0.0533\n",
      "phi: 0.0046\n",
      "gamma: -0.0030\n",
      "rho: 0.0022\n"
     ]
    },
    {
     "name": "stderr",
     "output_type": "stream",
     "text": [
      "\r",
      " 88%|███████████████████████████████████████████████████████████████████████▊          | 21/24 [00:32<00:04,  1.56s/it]"
     ]
    },
    {
     "name": "stdout",
     "output_type": "stream",
     "text": [
      "theta_x: 0.3969\n",
      "theta_y: -0.2481\n",
      "theta_z: 0.0531\n",
      "phi: 0.0046\n",
      "gamma: -0.0030\n",
      "rho: 0.0021\n"
     ]
    },
    {
     "name": "stderr",
     "output_type": "stream",
     "text": [
      "\r",
      " 92%|███████████████████████████████████████████████████████████████████████████▏      | 22/24 [00:34<00:03,  1.56s/it]"
     ]
    },
    {
     "name": "stdout",
     "output_type": "stream",
     "text": [
      "theta_x: 0.3967\n",
      "theta_y: -0.2481\n",
      "theta_z: 0.0531\n",
      "phi: 0.0045\n",
      "gamma: -0.0029\n",
      "rho: 0.0021\n"
     ]
    },
    {
     "name": "stderr",
     "output_type": "stream",
     "text": [
      "\r",
      " 96%|██████████████████████████████████████████████████████████████████████████████▌   | 23/24 [00:35<00:01,  1.56s/it]"
     ]
    },
    {
     "name": "stdout",
     "output_type": "stream",
     "text": [
      "theta_x: 0.3970\n",
      "theta_y: -0.2477\n",
      "theta_z: 0.0528\n",
      "phi: 0.0045\n",
      "gamma: -0.0029\n",
      "rho: 0.0021\n"
     ]
    },
    {
     "name": "stderr",
     "output_type": "stream",
     "text": [
      "100%|██████████████████████████████████████████████████████████████████████████████████| 24/24 [00:37<00:00,  1.57s/it]\n",
      "  0%|                                                                                           | 0/24 [00:00<?, ?it/s]"
     ]
    },
    {
     "name": "stdout",
     "output_type": "stream",
     "text": [
      "theta_x: 0.3969\n",
      "theta_y: -0.2479\n",
      "theta_z: 0.0529\n",
      "phi: 0.0045\n",
      "gamma: -0.0028\n",
      "rho: 0.0021\n",
      "Train Epoch: (1, 1) \tLR: 0.000037\tLoss: 10.932065\n"
     ]
    },
    {
     "name": "stderr",
     "output_type": "stream",
     "text": [
      "\r",
      "  4%|███▍                                                                               | 1/24 [00:02<00:47,  2.06s/it]"
     ]
    },
    {
     "name": "stdout",
     "output_type": "stream",
     "text": [
      "theta_x: 0.3968\n",
      "theta_y: -0.2477\n",
      "theta_z: 0.0526\n",
      "phi: 0.0044\n",
      "gamma: -0.0027\n",
      "rho: 0.0021\n"
     ]
    },
    {
     "name": "stderr",
     "output_type": "stream",
     "text": [
      "\r",
      "  8%|██████▉                                                                            | 2/24 [00:04<00:44,  2.04s/it]"
     ]
    },
    {
     "name": "stdout",
     "output_type": "stream",
     "text": [
      "theta_x: 0.3965\n",
      "theta_y: -0.2472\n",
      "theta_z: 0.0523\n",
      "phi: 0.0043\n",
      "gamma: -0.0026\n",
      "rho: 0.0020\n"
     ]
    },
    {
     "name": "stderr",
     "output_type": "stream",
     "text": [
      "\r",
      " 12%|██████████▍                                                                        | 3/24 [00:06<00:42,  2.03s/it]"
     ]
    },
    {
     "name": "stdout",
     "output_type": "stream",
     "text": [
      "theta_x: 0.3962\n",
      "theta_y: -0.2469\n",
      "theta_z: 0.0521\n",
      "phi: 0.0043\n",
      "gamma: -0.0025\n",
      "rho: 0.0020\n"
     ]
    },
    {
     "name": "stderr",
     "output_type": "stream",
     "text": [
      "\r",
      " 17%|█████████████▊                                                                     | 4/24 [00:08<00:40,  2.01s/it]"
     ]
    },
    {
     "name": "stdout",
     "output_type": "stream",
     "text": [
      "theta_x: 0.3969\n",
      "theta_y: -0.2470\n",
      "theta_z: 0.0517\n",
      "phi: 0.0042\n",
      "gamma: -0.0025\n",
      "rho: 0.0019\n"
     ]
    },
    {
     "name": "stderr",
     "output_type": "stream",
     "text": [
      "\r",
      " 21%|█████████████████▎                                                                 | 5/24 [00:10<00:38,  2.01s/it]"
     ]
    },
    {
     "name": "stdout",
     "output_type": "stream",
     "text": [
      "theta_x: 0.3967\n",
      "theta_y: -0.2470\n",
      "theta_z: 0.0514\n",
      "phi: 0.0042\n",
      "gamma: -0.0024\n",
      "rho: 0.0019\n"
     ]
    },
    {
     "name": "stderr",
     "output_type": "stream",
     "text": [
      "\r",
      " 25%|████████████████████▊                                                              | 6/24 [00:12<00:35,  2.00s/it]"
     ]
    },
    {
     "name": "stdout",
     "output_type": "stream",
     "text": [
      "theta_x: 0.3968\n",
      "theta_y: -0.2470\n",
      "theta_z: 0.0513\n",
      "phi: 0.0041\n",
      "gamma: -0.0024\n",
      "rho: 0.0019\n"
     ]
    },
    {
     "name": "stderr",
     "output_type": "stream",
     "text": [
      "\r",
      " 29%|████████████████████████▏                                                          | 7/24 [00:13<00:33,  2.00s/it]"
     ]
    },
    {
     "name": "stdout",
     "output_type": "stream",
     "text": [
      "theta_x: 0.3968\n",
      "theta_y: -0.2468\n",
      "theta_z: 0.0510\n",
      "phi: 0.0041\n",
      "gamma: -0.0023\n",
      "rho: 0.0019\n"
     ]
    },
    {
     "name": "stderr",
     "output_type": "stream",
     "text": [
      "\r",
      " 33%|███████████████████████████▋                                                       | 8/24 [00:15<00:31,  1.99s/it]"
     ]
    },
    {
     "name": "stdout",
     "output_type": "stream",
     "text": [
      "theta_x: 0.3977\n",
      "theta_y: -0.2475\n",
      "theta_z: 0.0509\n",
      "phi: 0.0041\n",
      "gamma: -0.0023\n",
      "rho: 0.0019\n"
     ]
    },
    {
     "name": "stderr",
     "output_type": "stream",
     "text": [
      "\r",
      " 38%|███████████████████████████████▏                                                   | 9/24 [00:17<00:29,  1.99s/it]"
     ]
    },
    {
     "name": "stdout",
     "output_type": "stream",
     "text": [
      "theta_x: 0.3983\n",
      "theta_y: -0.2478\n",
      "theta_z: 0.0509\n",
      "phi: 0.0040\n",
      "gamma: -0.0022\n",
      "rho: 0.0018\n"
     ]
    },
    {
     "name": "stderr",
     "output_type": "stream",
     "text": [
      "\r",
      " 42%|██████████████████████████████████▏                                               | 10/24 [00:19<00:27,  1.99s/it]"
     ]
    },
    {
     "name": "stdout",
     "output_type": "stream",
     "text": [
      "theta_x: 0.3983\n",
      "theta_y: -0.2478\n",
      "theta_z: 0.0507\n",
      "phi: 0.0040\n",
      "gamma: -0.0021\n",
      "rho: 0.0018\n"
     ]
    },
    {
     "name": "stderr",
     "output_type": "stream",
     "text": [
      "\r",
      " 46%|█████████████████████████████████████▌                                            | 11/24 [00:21<00:25,  1.99s/it]"
     ]
    },
    {
     "name": "stdout",
     "output_type": "stream",
     "text": [
      "theta_x: 0.3985\n",
      "theta_y: -0.2482\n",
      "theta_z: 0.0508\n",
      "phi: 0.0039\n",
      "gamma: -0.0021\n",
      "rho: 0.0018\n"
     ]
    },
    {
     "name": "stderr",
     "output_type": "stream",
     "text": [
      "\r",
      " 50%|█████████████████████████████████████████                                         | 12/24 [00:23<00:23,  1.99s/it]"
     ]
    },
    {
     "name": "stdout",
     "output_type": "stream",
     "text": [
      "theta_x: 0.3992\n",
      "theta_y: -0.2484\n",
      "theta_z: 0.0508\n",
      "phi: 0.0039\n",
      "gamma: -0.0020\n",
      "rho: 0.0018\n"
     ]
    },
    {
     "name": "stderr",
     "output_type": "stream",
     "text": [
      "\r",
      " 54%|████████████████████████████████████████████▍                                     | 13/24 [00:25<00:21,  1.99s/it]"
     ]
    },
    {
     "name": "stdout",
     "output_type": "stream",
     "text": [
      "theta_x: 0.4002\n",
      "theta_y: -0.2489\n",
      "theta_z: 0.0508\n",
      "phi: 0.0039\n",
      "gamma: -0.0020\n",
      "rho: 0.0018\n"
     ]
    },
    {
     "name": "stderr",
     "output_type": "stream",
     "text": [
      "\r",
      " 58%|███████████████████████████████████████████████▊                                  | 14/24 [00:27<00:19,  1.99s/it]"
     ]
    },
    {
     "name": "stdout",
     "output_type": "stream",
     "text": [
      "theta_x: 0.4007\n",
      "theta_y: -0.2494\n",
      "theta_z: 0.0509\n",
      "phi: 0.0038\n",
      "gamma: -0.0019\n",
      "rho: 0.0018\n"
     ]
    },
    {
     "name": "stderr",
     "output_type": "stream",
     "text": [
      "\r",
      " 62%|███████████████████████████████████████████████████▎                              | 15/24 [00:29<00:17,  1.99s/it]"
     ]
    },
    {
     "name": "stdout",
     "output_type": "stream",
     "text": [
      "theta_x: 0.4012\n",
      "theta_y: -0.2494\n",
      "theta_z: 0.0507\n",
      "phi: 0.0038\n",
      "gamma: -0.0019\n",
      "rho: 0.0017\n"
     ]
    },
    {
     "name": "stderr",
     "output_type": "stream",
     "text": [
      "\r",
      " 67%|██████████████████████████████████████████████████████▋                           | 16/24 [00:31<00:15,  1.99s/it]"
     ]
    },
    {
     "name": "stdout",
     "output_type": "stream",
     "text": [
      "theta_x: 0.4013\n",
      "theta_y: -0.2495\n",
      "theta_z: 0.0507\n",
      "phi: 0.0038\n",
      "gamma: -0.0018\n",
      "rho: 0.0017\n"
     ]
    },
    {
     "name": "stderr",
     "output_type": "stream",
     "text": [
      "\r",
      " 71%|██████████████████████████████████████████████████████████                        | 17/24 [00:33<00:13,  1.99s/it]"
     ]
    },
    {
     "name": "stdout",
     "output_type": "stream",
     "text": [
      "theta_x: 0.4016\n",
      "theta_y: -0.2498\n",
      "theta_z: 0.0507\n",
      "phi: 0.0037\n",
      "gamma: -0.0018\n",
      "rho: 0.0017\n"
     ]
    },
    {
     "name": "stderr",
     "output_type": "stream",
     "text": [
      "\r",
      " 75%|█████████████████████████████████████████████████████████████▌                    | 18/24 [00:35<00:12,  2.00s/it]"
     ]
    },
    {
     "name": "stdout",
     "output_type": "stream",
     "text": [
      "theta_x: 0.4018\n",
      "theta_y: -0.2496\n",
      "theta_z: 0.0506\n",
      "phi: 0.0037\n",
      "gamma: -0.0017\n",
      "rho: 0.0017\n"
     ]
    },
    {
     "name": "stderr",
     "output_type": "stream",
     "text": [
      "\r",
      " 79%|████████████████████████████████████████████████████████████████▉                 | 19/24 [00:37<00:09,  2.00s/it]"
     ]
    },
    {
     "name": "stdout",
     "output_type": "stream",
     "text": [
      "theta_x: 0.4023\n",
      "theta_y: -0.2499\n",
      "theta_z: 0.0504\n",
      "phi: 0.0037\n",
      "gamma: -0.0017\n",
      "rho: 0.0017\n"
     ]
    },
    {
     "name": "stderr",
     "output_type": "stream",
     "text": [
      "\r",
      " 83%|████████████████████████████████████████████████████████████████████▎             | 20/24 [00:39<00:07,  1.99s/it]"
     ]
    },
    {
     "name": "stdout",
     "output_type": "stream",
     "text": [
      "theta_x: 0.4026\n",
      "theta_y: -0.2498\n",
      "theta_z: 0.0502\n",
      "phi: 0.0036\n",
      "gamma: -0.0016\n",
      "rho: 0.0016\n"
     ]
    },
    {
     "name": "stderr",
     "output_type": "stream",
     "text": [
      "\r",
      " 88%|███████████████████████████████████████████████████████████████████████▊          | 21/24 [00:41<00:05,  2.00s/it]"
     ]
    },
    {
     "name": "stdout",
     "output_type": "stream",
     "text": [
      "theta_x: 0.4030\n",
      "theta_y: -0.2501\n",
      "theta_z: 0.0502\n",
      "phi: 0.0036\n",
      "gamma: -0.0016\n",
      "rho: 0.0016\n"
     ]
    },
    {
     "name": "stderr",
     "output_type": "stream",
     "text": [
      "\r",
      " 92%|███████████████████████████████████████████████████████████████████████████▏      | 22/24 [00:43<00:03,  1.99s/it]"
     ]
    },
    {
     "name": "stdout",
     "output_type": "stream",
     "text": [
      "theta_x: 0.4034\n",
      "theta_y: -0.2502\n",
      "theta_z: 0.0498\n",
      "phi: 0.0035\n",
      "gamma: -0.0015\n",
      "rho: 0.0016\n"
     ]
    },
    {
     "name": "stderr",
     "output_type": "stream",
     "text": [
      "\r",
      " 96%|██████████████████████████████████████████████████████████████████████████████▌   | 23/24 [00:45<00:01,  1.99s/it]"
     ]
    },
    {
     "name": "stdout",
     "output_type": "stream",
     "text": [
      "theta_x: 0.4043\n",
      "theta_y: -0.2508\n",
      "theta_z: 0.0498\n",
      "phi: 0.0035\n",
      "gamma: -0.0015\n",
      "rho: 0.0016\n"
     ]
    },
    {
     "name": "stderr",
     "output_type": "stream",
     "text": [
      "100%|██████████████████████████████████████████████████████████████████████████████████| 24/24 [00:47<00:00,  1.99s/it]\n",
      "  0%|                                                                                           | 0/24 [00:00<?, ?it/s]"
     ]
    },
    {
     "name": "stdout",
     "output_type": "stream",
     "text": [
      "theta_x: 0.4049\n",
      "theta_y: -0.2509\n",
      "theta_z: 0.0494\n",
      "phi: 0.0035\n",
      "gamma: -0.0015\n",
      "rho: 0.0016\n",
      "Train Epoch: (0, 0) \tLR: 0.000019\tLoss: 29.220109\n"
     ]
    },
    {
     "name": "stderr",
     "output_type": "stream",
     "text": [
      "\r",
      "  4%|███▍                                                                               | 1/24 [00:02<00:47,  2.05s/it]"
     ]
    },
    {
     "name": "stdout",
     "output_type": "stream",
     "text": [
      "theta_x: 0.4053\n",
      "theta_y: -0.2514\n",
      "theta_z: 0.0493\n",
      "phi: 0.0035\n",
      "gamma: -0.0014\n",
      "rho: 0.0016\n"
     ]
    },
    {
     "name": "stderr",
     "output_type": "stream",
     "text": [
      "\r",
      "  8%|██████▉                                                                            | 2/24 [00:04<00:44,  2.03s/it]"
     ]
    },
    {
     "name": "stdout",
     "output_type": "stream",
     "text": [
      "theta_x: 0.4061\n",
      "theta_y: -0.2516\n",
      "theta_z: 0.0489\n",
      "phi: 0.0035\n",
      "gamma: -0.0014\n",
      "rho: 0.0015\n"
     ]
    },
    {
     "name": "stderr",
     "output_type": "stream",
     "text": [
      "\r",
      " 12%|██████████▍                                                                        | 3/24 [00:06<00:42,  2.02s/it]"
     ]
    },
    {
     "name": "stdout",
     "output_type": "stream",
     "text": [
      "theta_x: 0.4068\n",
      "theta_y: -0.2517\n",
      "theta_z: 0.0485\n",
      "phi: 0.0034\n",
      "gamma: -0.0014\n",
      "rho: 0.0015\n"
     ]
    },
    {
     "name": "stderr",
     "output_type": "stream",
     "text": [
      "\r",
      " 17%|█████████████▊                                                                     | 4/24 [00:08<00:40,  2.01s/it]"
     ]
    },
    {
     "name": "stdout",
     "output_type": "stream",
     "text": [
      "theta_x: 0.4072\n",
      "theta_y: -0.2519\n",
      "theta_z: 0.0483\n",
      "phi: 0.0034\n",
      "gamma: -0.0014\n",
      "rho: 0.0015\n"
     ]
    },
    {
     "name": "stderr",
     "output_type": "stream",
     "text": [
      "\r",
      " 21%|█████████████████▎                                                                 | 5/24 [00:10<00:38,  2.01s/it]"
     ]
    },
    {
     "name": "stdout",
     "output_type": "stream",
     "text": [
      "theta_x: 0.4080\n",
      "theta_y: -0.2520\n",
      "theta_z: 0.0481\n",
      "phi: 0.0034\n",
      "gamma: -0.0013\n",
      "rho: 0.0015\n"
     ]
    },
    {
     "name": "stderr",
     "output_type": "stream",
     "text": [
      "\r",
      " 25%|████████████████████▊                                                              | 6/24 [00:12<00:36,  2.00s/it]"
     ]
    },
    {
     "name": "stdout",
     "output_type": "stream",
     "text": [
      "theta_x: 0.4090\n",
      "theta_y: -0.2524\n",
      "theta_z: 0.0483\n",
      "phi: 0.0034\n",
      "gamma: -0.0013\n",
      "rho: 0.0015\n"
     ]
    },
    {
     "name": "stderr",
     "output_type": "stream",
     "text": [
      "\r",
      " 29%|████████████████████████▏                                                          | 7/24 [00:14<00:34,  2.00s/it]"
     ]
    },
    {
     "name": "stdout",
     "output_type": "stream",
     "text": [
      "theta_x: 0.4094\n",
      "theta_y: -0.2526\n",
      "theta_z: 0.0481\n",
      "phi: 0.0033\n",
      "gamma: -0.0013\n",
      "rho: 0.0015\n"
     ]
    },
    {
     "name": "stderr",
     "output_type": "stream",
     "text": [
      "\r",
      " 33%|███████████████████████████▋                                                       | 8/24 [00:16<00:32,  2.00s/it]"
     ]
    },
    {
     "name": "stdout",
     "output_type": "stream",
     "text": [
      "theta_x: 0.4104\n",
      "theta_y: -0.2531\n",
      "theta_z: 0.0482\n",
      "phi: 0.0033\n",
      "gamma: -0.0013\n",
      "rho: 0.0015\n"
     ]
    },
    {
     "name": "stderr",
     "output_type": "stream",
     "text": [
      "\r",
      " 38%|███████████████████████████████▏                                                   | 9/24 [00:18<00:29,  2.00s/it]"
     ]
    },
    {
     "name": "stdout",
     "output_type": "stream",
     "text": [
      "theta_x: 0.4106\n",
      "theta_y: -0.2531\n",
      "theta_z: 0.0481\n",
      "phi: 0.0033\n",
      "gamma: -0.0012\n",
      "rho: 0.0014\n"
     ]
    },
    {
     "name": "stderr",
     "output_type": "stream",
     "text": [
      "\r",
      " 42%|██████████████████████████████████▏                                               | 10/24 [00:20<00:27,  2.00s/it]"
     ]
    },
    {
     "name": "stdout",
     "output_type": "stream",
     "text": [
      "theta_x: 0.4111\n",
      "theta_y: -0.2532\n",
      "theta_z: 0.0480\n",
      "phi: 0.0033\n",
      "gamma: -0.0012\n",
      "rho: 0.0014\n"
     ]
    },
    {
     "name": "stderr",
     "output_type": "stream",
     "text": [
      "\r",
      " 46%|█████████████████████████████████████▌                                            | 11/24 [00:21<00:25,  2.00s/it]"
     ]
    },
    {
     "name": "stdout",
     "output_type": "stream",
     "text": [
      "theta_x: 0.4112\n",
      "theta_y: -0.2531\n",
      "theta_z: 0.0478\n",
      "phi: 0.0033\n",
      "gamma: -0.0012\n",
      "rho: 0.0014\n"
     ]
    },
    {
     "name": "stderr",
     "output_type": "stream",
     "text": [
      "\r",
      " 50%|█████████████████████████████████████████                                         | 12/24 [00:24<00:24,  2.01s/it]"
     ]
    },
    {
     "name": "stdout",
     "output_type": "stream",
     "text": [
      "theta_x: 0.4124\n",
      "theta_y: -0.2536\n",
      "theta_z: 0.0477\n",
      "phi: 0.0032\n",
      "gamma: -0.0012\n",
      "rho: 0.0014\n"
     ]
    },
    {
     "name": "stderr",
     "output_type": "stream",
     "text": [
      "\r",
      " 54%|████████████████████████████████████████████▍                                     | 13/24 [00:26<00:22,  2.02s/it]"
     ]
    },
    {
     "name": "stdout",
     "output_type": "stream",
     "text": [
      "theta_x: 0.4129\n",
      "theta_y: -0.2540\n",
      "theta_z: 0.0476\n",
      "phi: 0.0032\n",
      "gamma: -0.0012\n",
      "rho: 0.0014\n"
     ]
    },
    {
     "name": "stderr",
     "output_type": "stream",
     "text": [
      "\r",
      " 58%|███████████████████████████████████████████████▊                                  | 14/24 [00:28<00:20,  2.04s/it]"
     ]
    },
    {
     "name": "stdout",
     "output_type": "stream",
     "text": [
      "theta_x: 0.4132\n",
      "theta_y: -0.2545\n",
      "theta_z: 0.0476\n",
      "phi: 0.0032\n",
      "gamma: -0.0011\n",
      "rho: 0.0014\n"
     ]
    },
    {
     "name": "stderr",
     "output_type": "stream",
     "text": [
      "\r",
      " 62%|███████████████████████████████████████████████████▎                              | 15/24 [00:30<00:18,  2.03s/it]"
     ]
    },
    {
     "name": "stdout",
     "output_type": "stream",
     "text": [
      "theta_x: 0.4132\n",
      "theta_y: -0.2545\n",
      "theta_z: 0.0477\n",
      "phi: 0.0032\n",
      "gamma: -0.0011\n",
      "rho: 0.0013\n"
     ]
    },
    {
     "name": "stderr",
     "output_type": "stream",
     "text": [
      "\r",
      " 67%|██████████████████████████████████████████████████████▋                           | 16/24 [00:32<00:16,  2.01s/it]"
     ]
    },
    {
     "name": "stdout",
     "output_type": "stream",
     "text": [
      "theta_x: 0.4140\n",
      "theta_y: -0.2551\n",
      "theta_z: 0.0475\n",
      "phi: 0.0032\n",
      "gamma: -0.0011\n",
      "rho: 0.0013\n"
     ]
    },
    {
     "name": "stderr",
     "output_type": "stream",
     "text": [
      "\r",
      " 71%|██████████████████████████████████████████████████████████                        | 17/24 [00:34<00:14,  2.01s/it]"
     ]
    },
    {
     "name": "stdout",
     "output_type": "stream",
     "text": [
      "theta_x: 0.4144\n",
      "theta_y: -0.2553\n",
      "theta_z: 0.0474\n",
      "phi: 0.0032\n",
      "gamma: -0.0010\n",
      "rho: 0.0013\n"
     ]
    },
    {
     "name": "stderr",
     "output_type": "stream",
     "text": [
      "\r",
      " 75%|█████████████████████████████████████████████████████████████▌                    | 18/24 [00:36<00:12,  2.01s/it]"
     ]
    },
    {
     "name": "stdout",
     "output_type": "stream",
     "text": [
      "theta_x: 0.4149\n",
      "theta_y: -0.2555\n",
      "theta_z: 0.0476\n",
      "phi: 0.0031\n",
      "gamma: -0.0010\n",
      "rho: 0.0013\n"
     ]
    },
    {
     "name": "stderr",
     "output_type": "stream",
     "text": [
      "\r",
      " 79%|████████████████████████████████████████████████████████████████▉                 | 19/24 [00:38<00:10,  2.01s/it]"
     ]
    },
    {
     "name": "stdout",
     "output_type": "stream",
     "text": [
      "theta_x: 0.4156\n",
      "theta_y: -0.2558\n",
      "theta_z: 0.0475\n",
      "phi: 0.0031\n",
      "gamma: -0.0010\n",
      "rho: 0.0013\n"
     ]
    },
    {
     "name": "stderr",
     "output_type": "stream",
     "text": [
      "\r",
      " 83%|████████████████████████████████████████████████████████████████████▎             | 20/24 [00:40<00:08,  2.01s/it]"
     ]
    },
    {
     "name": "stdout",
     "output_type": "stream",
     "text": [
      "theta_x: 0.4164\n",
      "theta_y: -0.2562\n",
      "theta_z: 0.0474\n",
      "phi: 0.0031\n",
      "gamma: -0.0010\n",
      "rho: 0.0013\n"
     ]
    },
    {
     "name": "stderr",
     "output_type": "stream",
     "text": [
      "\r",
      " 88%|███████████████████████████████████████████████████████████████████████▊          | 21/24 [00:42<00:06,  2.01s/it]"
     ]
    },
    {
     "name": "stdout",
     "output_type": "stream",
     "text": [
      "theta_x: 0.4170\n",
      "theta_y: -0.2566\n",
      "theta_z: 0.0476\n",
      "phi: 0.0031\n",
      "gamma: -0.0010\n",
      "rho: 0.0013\n"
     ]
    },
    {
     "name": "stderr",
     "output_type": "stream",
     "text": [
      "\r",
      " 92%|███████████████████████████████████████████████████████████████████████████▏      | 22/24 [00:44<00:04,  2.01s/it]"
     ]
    },
    {
     "name": "stdout",
     "output_type": "stream",
     "text": [
      "theta_x: 0.4181\n",
      "theta_y: -0.2571\n",
      "theta_z: 0.0474\n",
      "phi: 0.0031\n",
      "gamma: -0.0010\n",
      "rho: 0.0013\n"
     ]
    },
    {
     "name": "stderr",
     "output_type": "stream",
     "text": [
      "\r",
      " 96%|██████████████████████████████████████████████████████████████████████████████▌   | 23/24 [00:46<00:02,  2.01s/it]"
     ]
    },
    {
     "name": "stdout",
     "output_type": "stream",
     "text": [
      "theta_x: 0.4189\n",
      "theta_y: -0.2571\n",
      "theta_z: 0.0473\n",
      "phi: 0.0031\n",
      "gamma: -0.0010\n",
      "rho: 0.0013\n"
     ]
    },
    {
     "name": "stderr",
     "output_type": "stream",
     "text": [
      "100%|██████████████████████████████████████████████████████████████████████████████████| 24/24 [00:48<00:00,  2.01s/it]\n",
      "  0%|                                                                                            | 0/8 [00:00<?, ?it/s]"
     ]
    },
    {
     "name": "stdout",
     "output_type": "stream",
     "text": [
      "theta_x: 0.4195\n",
      "theta_y: -0.2573\n",
      "theta_z: 0.0473\n",
      "phi: 0.0030\n",
      "gamma: -0.0009\n",
      "rho: 0.0012\n",
      "Train Epoch: (0, 1) \tLR: 0.000019\tLoss: 22.847826\n"
     ]
    },
    {
     "name": "stderr",
     "output_type": "stream",
     "text": [
      "100%|████████████████████████████████████████████████████████████████████████████████████| 8/8 [00:10<00:00,  1.31s/it]"
     ]
    },
    {
     "name": "stdout",
     "output_type": "stream",
     "text": [
      "n_epochs: 2 - lr: 0.0003\n",
      "theta_x: 0.4195\n",
      "theta_y: -0.2573\n",
      "theta_z: 0.0473\n",
      "phi: -0.0009\n",
      "gamma: 0.0012\n",
      "rho: 0.0030\n",
      "Dev loss: 19.2422\n",
      "Speed: 81.81248092651367 ms/sample\n"
     ]
    },
    {
     "name": "stderr",
     "output_type": "stream",
     "text": [
      "\n"
     ]
    }
   ],
   "source": [
    "import time\n",
    "%time\n",
    "\n",
    "\n",
    "n_epochs_list = [2]\n",
    "lr_list = [3e-4]\n",
    "batch_size = 16\n",
    "n = 4\n",
    "optimizer = None\n",
    "model = None\n",
    "\n",
    "\n",
    "train_loader = torch.utils.data.DataLoader(dataset, batch_size=batch_size, num_workers=0, sampler=train_sampler)\n",
    "dev_loader = torch.utils.data.DataLoader(dataset, batch_size=batch_size, num_workers=0, sampler=valid_sampler)\n",
    "\n",
    "fileName = None\n",
    "dev_history = pd.DataFrame(index=pd.MultiIndex.from_tuples((), names=['epoch', 'lr']), columns=['theta_x', 'theta_y', 'theta_z', 'dev_loss'])\n",
    "\n",
    "torch.cuda.empty_cache()\n",
    "gc.collect()\n",
    "\n",
    "for i_epoch in range(len(n_epochs_list)):\n",
    "    for i_lr in range(len(lr_list)):\n",
    "        n_epochs = n_epochs_list[i_epoch]\n",
    "        lr = lr_list[i_lr]\n",
    "        train_history = pd.DataFrame(index=pd.MultiIndex.from_tuples((), names=['zoom', 'epoch', 'batch_id']), columns=['theta_x', 'theta_y', 'theta_z', 'loss'])\n",
    "\n",
    "        model = create_model(CAMERA, n)\n",
    "        if fileName is not None:\n",
    "            state_dict = torch.load(fileName, map_location='cpu')\n",
    "            model.load_state_dict(state_dict, strict=False)\n",
    "            del state_dict\n",
    "            print(\"Loaded!!\")\n",
    "        model = model.to(device)\n",
    "\n",
    "        torch.cuda.empty_cache()\n",
    "\n",
    "        gc.collect()\n",
    "        optimizer = optim.SGD(list(model.parameters()), lr=lr)\n",
    "        scheduler = optim.lr_scheduler.StepLR(optimizer, step_size=n_epochs, gamma=.75)\n",
    "\n",
    "        torch.cuda.empty_cache()\n",
    "        gc.collect()\n",
    "\n",
    "        for i in range(n+1):\n",
    "            for epoch in range(n_epochs):\n",
    "                zoom = n-i\n",
    "                torch.cuda.empty_cache()\n",
    "                gc.collect()\n",
    "\n",
    "                loader = train_loader\n",
    "                train_loop_fn(loader, zoom, epoch, train_history)\n",
    "                \n",
    "                scheduler.step()\n",
    "\n",
    "        loader = dev_loader\n",
    "        start = time.time()*1000.0\n",
    "        evaluate_model(loader, (n_epochs, lr), dev_history)\n",
    "        t_interval = time.time()*1000.0 - start\n",
    "        print(\"Speed: {} ms/sample\".format(t_interval/(len(dev_loader)*batch_size)))\n",
    "\n",
    "        gc.collect()\n",
    "        optimizer = None\n",
    "        gc.collect()\n",
    "\n",
    "        train_history.to_csv('train_history_{}_{}.csv'.format(i_epoch, i_lr))\n",
    "        torch.save(model.state_dict(), \"./model_{}_{}.pth\".format(i_epoch, i_lr))\n",
    "dev_history.to_csv('dev_history.csv')"
   ]
  },
  {
   "cell_type": "markdown",
   "metadata": {},
   "source": [
    "# Result Visualization"
   ]
  },
  {
   "cell_type": "code",
   "execution_count": 13,
   "metadata": {},
   "outputs": [
    {
     "data": {
      "image/png": "[encoded data removed]",
      "text/plain": [
       "<Figure size 432x288 with 1 Axes>"
      ]
     },
     "metadata": {
      "needs_background": "light"
     },
     "output_type": "display_data"
    },
    {
     "data": {
      "image/png": "[encoded data removed]",
      "text/plain": [
       "<Figure size 432x288 with 1 Axes>"
      ]
     },
     "metadata": {
      "needs_background": "light"
     },
     "output_type": "display_data"
    }
   ],
   "source": [
    "for i_epoch in range(len(n_epochs_list)):\n",
    "    for i_lr in range(len(lr_list)):\n",
    "        train_history = pd.read_csv('train_history_{}_{}.csv'.format(i_epoch, i_lr))\n",
    "        train_history[['loss']].plot();\n",
    "        train_history[['theta_x', 'theta_y', 'theta_z']].plot();"
   ]
  },
  {
   "cell_type": "code",
   "execution_count": 14,
   "metadata": {},
   "outputs": [
    {
     "data": {
      "image/png": "[encoded data removed]",
      "text/plain": [
       "<Figure size 432x288 with 1 Axes>"
      ]
     },
     "metadata": {
      "needs_background": "light"
     },
     "output_type": "display_data"
    },
    {
     "data": {
      "image/png": "[encoded data removed]",
      "text/plain": [
       "<Figure size 432x288 with 1 Axes>"
      ]
     },
     "metadata": {
      "needs_background": "light"
     },
     "output_type": "display_data"
    }
   ],
   "source": [
    "for i_epoch in range(len(n_epochs_list)):\n",
    "    for i_lr in range(len(lr_list)):\n",
    "        train_history = pd.read_csv('train_history_{}_{}.csv'.format(i_epoch, i_lr))\n",
    "        train_history[['loss']].plot();\n",
    "        train_history[['phi', 'gamma', 'rho']].plot();"
   ]
  },
  {
   "cell_type": "code",
   "execution_count": 15,
   "metadata": {},
   "outputs": [
    {
     "data": {
      "text/html": [
       "<div>\n",
       "<style scoped>\n",
       "    .dataframe tbody tr th:only-of-type {\n",
       "        vertical-align: middle;\n",
       "    }\n",
       "\n",
       "    .dataframe tbody tr th {\n",
       "        vertical-align: top;\n",
       "    }\n",
       "\n",
       "    .dataframe thead th {\n",
       "        text-align: right;\n",
       "    }\n",
       "</style>\n",
       "<table border=\"1\" class=\"dataframe\">\n",
       "  <thead>\n",
       "    <tr style=\"text-align: right;\">\n",
       "      <th></th>\n",
       "      <th></th>\n",
       "      <th>theta_x</th>\n",
       "      <th>theta_y</th>\n",
       "      <th>theta_z</th>\n",
       "      <th>dev_loss</th>\n",
       "      <th>phi</th>\n",
       "      <th>gamma</th>\n",
       "      <th>rho</th>\n",
       "    </tr>\n",
       "    <tr>\n",
       "      <th>epoch</th>\n",
       "      <th>lr</th>\n",
       "      <th></th>\n",
       "      <th></th>\n",
       "      <th></th>\n",
       "      <th></th>\n",
       "      <th></th>\n",
       "      <th></th>\n",
       "      <th></th>\n",
       "    </tr>\n",
       "  </thead>\n",
       "  <tbody>\n",
       "    <tr>\n",
       "      <th>2</th>\n",
       "      <th>0.0003</th>\n",
       "      <td>0.41951972</td>\n",
       "      <td>-0.25728774</td>\n",
       "      <td>0.047286995</td>\n",
       "      <td>19.2422</td>\n",
       "      <td>-0.000913</td>\n",
       "      <td>0.001247</td>\n",
       "      <td>0.003041</td>\n",
       "    </tr>\n",
       "  </tbody>\n",
       "</table>\n",
       "</div>"
      ],
      "text/plain": [
       "                 theta_x      theta_y      theta_z dev_loss       phi  \\\n",
       "epoch lr                                                                \n",
       "2     0.0003  0.41951972  -0.25728774  0.047286995  19.2422 -0.000913   \n",
       "\n",
       "                 gamma       rho  \n",
       "epoch lr                          \n",
       "2     0.0003  0.001247  0.003041  "
      ]
     },
     "execution_count": 15,
     "metadata": {},
     "output_type": "execute_result"
    }
   ],
   "source": [
    "dev_history"
   ]
  },
  {
   "cell_type": "code",
   "execution_count": 16,
   "metadata": {},
   "outputs": [
    {
     "data": {
      "image/png": "[encoded data removed]",
      "text/plain": [
       "<Figure size 432x288 with 1 Axes>"
      ]
     },
     "metadata": {
      "needs_background": "light"
     },
     "output_type": "display_data"
    }
   ],
   "source": [
    "for i_epoch in range(len(n_epochs_list)):\n",
    "    for i_lr in range(len(lr_list)):\n",
    "        train_history = pd.read_csv('train_history_{}_{}.csv'.format(i_epoch, i_lr))\n",
    "        ax = train_history[['theta_x', 'theta_y', 'theta_z']].plot()\n",
    "        fig = ax.get_figure()\n",
    "        fig.savefig('./position.png')"
   ]
  },
  {
   "cell_type": "code",
   "execution_count": 17,
   "metadata": {},
   "outputs": [
    {
     "data": {
      "image/png": "[encoded data removed]",
      "text/plain": [
       "<Figure size 432x288 with 1 Axes>"
      ]
     },
     "metadata": {
      "needs_background": "light"
     },
     "output_type": "display_data"
    }
   ],
   "source": [
    "for i_epoch in range(len(n_epochs_list)):\n",
    "    for i_lr in range(len(lr_list)):\n",
    "        train_history = pd.read_csv('train_history_{}_{}.csv'.format(i_epoch, i_lr))\n",
    "        ax = train_history[['phi', 'gamma', 'rho']].plot()\n",
    "        fig = ax.get_figure()\n",
    "        fig.savefig('./orientation.png')"
   ]
  },
  {
   "cell_type": "code",
   "execution_count": null,
   "metadata": {},
   "outputs": [],
   "source": []
  },
  {
   "cell_type": "code",
   "execution_count": null,
   "metadata": {},
   "outputs": [],
   "source": []
  }
 ],
 "metadata": {
  "kernelspec": {
   "display_name": "Python 3",
   "language": "python",
   "name": "python3"
  },
  "language_info": {
   "codemirror_mode": {
    "name": "ipython",
    "version": 3
   },
   "file_extension": ".py",
   "mimetype": "text/x-python",
   "name": "python",
   "nbconvert_exporter": "python",
   "pygments_lexer": "ipython3",
   "version": "3.6.7"
  }
 },
 "nbformat": 4,
 "nbformat_minor": 4
}
