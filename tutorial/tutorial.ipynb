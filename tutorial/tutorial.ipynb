{
 "cells": [
  {
   "cell_type": "markdown",
   "metadata": {},
   "source": [
    "# Data & Env Initialization"
   ]
  },
  {
   "cell_type": "code",
   "execution_count": 1,
   "metadata": {},
   "outputs": [],
   "source": [
    "import os, sys, gc\n",
    "\n",
    "import zipfile\n",
    "from os import path\n",
    "import numpy as np\n",
    "import pandas as pd\n",
    "from tqdm import tqdm\n",
    "import matplotlib.pyplot as plt\n",
    "\n",
    "zip_file = \"sample_data/Sky303.zip\"\n",
    "data_path = \"sample_data/Sky303/\"\n",
    "\n",
    "if not path.exists(data_path):\n",
    "    with zipfile.ZipFile(zip_file, 'r') as zip_ref:\n",
    "        zip_ref.extractall(\"sample_data/\")\n",
    "\n",
    "input_indice_path = data_path + \"input_indices_{}.npy\"\n",
    "input_data_path = data_path + \"input_data_{}.npy\"\n",
    "target_path = data_path + \"output_indices_{}.npy\""
   ]
  },
  {
   "cell_type": "markdown",
   "metadata": {},
   "source": [
    "# Constants"
   ]
  },
  {
   "cell_type": "code",
   "execution_count": 2,
   "metadata": {},
   "outputs": [],
   "source": [
    "N_CONFIGURATIONS = 4262 # number of configuration of the problem\n",
    "IMG_SHAPE = (1355, 3384, 3)\n",
    "H, W = 128, 256 # the window size\n",
    "\n",
    "CAMERA = np.array([[2304.5479, 0,  1686.2379], # the camera matrix\n",
    "                          [0, 2305.8757, -0.0151],\n",
    "                          [0, 0, 1.]], dtype=np.float32)"
   ]
  },
  {
   "cell_type": "markdown",
   "metadata": {},
   "source": [
    "# Data Viz & Utils"
   ]
  },
  {
   "cell_type": "code",
   "execution_count": 3,
   "metadata": {},
   "outputs": [
    {
     "data": {
      "text/plain": [
       "'1.3.1+cu92'"
      ]
     },
     "execution_count": 3,
     "metadata": {},
     "output_type": "execute_result"
    }
   ],
   "source": [
    "import torch\n",
    "from torch import nn\n",
    "from torch.utils.data import Dataset, DataLoader\n",
    "\n",
    "torch.manual_seed(42)\n",
    "torch.__version__"
   ]
  },
  {
   "cell_type": "code",
   "execution_count": 4,
   "metadata": {},
   "outputs": [],
   "source": [
    "class Sky303Dataset(Dataset):\n",
    "    \"\"\"Car dataset.\"\"\"\n",
    "\n",
    "    def __init__(self):\n",
    "        super(Sky303Dataset,self).__init__()\n",
    "\n",
    "    def __len__(self):\n",
    "        return N_CONFIGURATIONS\n",
    "\n",
    "    def __getitem__(self, idx):\n",
    "        if torch.is_tensor(idx):\n",
    "            idx = idx.tolist()\n",
    "            \n",
    "        indice_np = np.load(input_indice_path.format(idx))\n",
    "        input_np = np.load(input_data_path.format(idx))\n",
    "        target_np = np.load(target_path.format(idx))\n",
    "        \n",
    "        input_bin_mask = np.zeros([H, W, 1], dtype='float16')\n",
    "        input_bin_mask[indice_np[:,0],indice_np[:,1],:] = 1.\n",
    "        \n",
    "        input_2Drepr = np.zeros([H, W, 3], dtype='float16')\n",
    "        input_2Drepr[indice_np[:,0],indice_np[:,1],:] = input_np\n",
    "        \n",
    "        target_2Drepr = np.zeros([H, W, 1], dtype='float16')\n",
    "        target_2Drepr[target_np[:,0],target_np[:,1],:] = 1.\n",
    "        \n",
    "        input_bin_mask = np.rollaxis(input_bin_mask, 2, 0)\n",
    "        input_bin_mask = torch.from_numpy(input_bin_mask).float()\n",
    "        \n",
    "        input_2Drepr = np.rollaxis(input_2Drepr, 2, 0)\n",
    "        input_2Drepr = torch.from_numpy(input_2Drepr).float()\n",
    "        \n",
    "        target_2Drepr = np.rollaxis(target_2Drepr, 2, 0)\n",
    "        target_2Drepr = torch.from_numpy(target_2Drepr).float()\n",
    "        \n",
    "        return [input_bin_mask, input_2Drepr, target_2Drepr]"
   ]
  },
  {
   "cell_type": "code",
   "execution_count": 5,
   "metadata": {},
   "outputs": [
    {
     "data": {
      "image/png": "[encoded data removed]",
      "text/plain": [
       "<Figure size 576x576 with 1 Axes>"
      ]
     },
     "metadata": {
      "needs_background": "light"
     },
     "output_type": "display_data"
    },
    {
     "data": {
      "image/png": "[encoded data removed]",
      "text/plain": [
       "<Figure size 576x576 with 1 Axes>"
      ]
     },
     "metadata": {
      "needs_background": "light"
     },
     "output_type": "display_data"
    },
    {
     "data": {
      "image/png": "[encoded data removed]",
      "text/plain": [
       "<Figure size 576x576 with 1 Axes>"
      ]
     },
     "metadata": {
      "needs_background": "light"
     },
     "output_type": "display_data"
    }
   ],
   "source": [
    "dataset = Sky303Dataset()\n",
    "input_bin_mask, input_2Drepr, target_2Drepr = dataset[0]\n",
    "\n",
    "plt.figure(figsize=(8,8))\n",
    "plt.imshow((input_bin_mask.permute(1,2,0).numpy()[:,:,-1]).squeeze())\n",
    "plt.show()\n",
    "\n",
    "plt.figure(figsize=(8,8))\n",
    "plt.imshow(input_2Drepr.permute(1,2,0).numpy()[:,:,-1]/350.)\n",
    "plt.show()\n",
    "\n",
    "plt.figure(figsize=(8,8))\n",
    "plt.imshow((target_2Drepr.permute(1,2,0).numpy()[:,:,-1]).squeeze())\n",
    "plt.show()"
   ]
  },
  {
   "cell_type": "markdown",
   "metadata": {},
   "source": [
    "# Model"
   ]
  },
  {
   "cell_type": "code",
   "execution_count": 6,
   "metadata": {},
   "outputs": [
    {
     "name": "stdout",
     "output_type": "stream",
     "text": [
      "cuda\n"
     ]
    }
   ],
   "source": [
    "import torch.nn as nn\n",
    "import torch.nn.functional as F\n",
    "import torch.optim as optim\n",
    "\n",
    "# importing the importlib.util module\n",
    "import importlib.util\n",
    "\n",
    "# Define the module path\n",
    "module_path = \"../smap/smap.py\"\n",
    "\n",
    "# Load the module using importlib.util\n",
    "spec = importlib.util.spec_from_file_location(\"smap\", module_path)\n",
    "smap_module = importlib.util.module_from_spec(spec)\n",
    "sys.modules[\"smap\"] = smap_module\n",
    "spec.loader.exec_module(smap_module)\n",
    "\n",
    "# Gets the GPU if there is one, otherwise the cpu\n",
    "device = torch.device(\"cuda\" if torch.cuda.is_available() else \"cpu\")\n",
    "print(device)"
   ]
  },
  {
   "cell_type": "code",
   "execution_count": 13,
   "metadata": {},
   "outputs": [],
   "source": [
    "class Model(nn.Module):\n",
    "    def __init__(self, camera_matrix, n=0):\n",
    "        super(Model,self).__init__()\n",
    "        self.n = n\n",
    "        self.camera_matrix = nn.Parameter(torch.from_numpy(camera_matrix), requires_grad=False)\n",
    "        self.camera_matrix_inv = nn.Parameter(torch.from_numpy(np.linalg.inv(camera_matrix)), requires_grad=False)\n",
    "        \n",
    "        self.phi = nn.Parameter(torch.from_numpy(np.array([.0])).float().reshape(1,1), requires_grad=True)\n",
    "        self.gamma = nn.Parameter(torch.from_numpy(np.array([.0])).float().reshape(1,1), requires_grad=True)\n",
    "        self.rho = nn.Parameter(torch.from_numpy(np.array([.0])).float().reshape(1,1), requires_grad=True)\n",
    "        self.theta = nn.Parameter(torch.from_numpy(np.array([0.,-0.,0.])).float().reshape(1,3,1,1), requires_grad=True)\n",
    "        self.smap_layer = smap_module.SMap(n, camera_matrix)\n",
    "        \n",
    "        self.I00 = nn.Parameter(torch.from_numpy(np.array([[1.,.0,.0],[.0,0.,.0],[.0,.0,0.]])).float().reshape(3,3), requires_grad=False)\n",
    "        self.I01 = nn.Parameter(torch.from_numpy(np.array([[0.,1.,.0],[.0,0.,.0],[.0,.0,0.]])).float().reshape(3,3), requires_grad=False)\n",
    "        self.I10 = nn.Parameter(torch.from_numpy(np.array([[0.,.0,.0],[1.,0.,.0],[.0,.0,0.]])).float().reshape(3,3), requires_grad=False)\n",
    "        self.I11 = nn.Parameter(torch.from_numpy(np.array([[0.,.0,.0],[.0,1.,.0],[.0,.0,0.]])).float().reshape(3,3), requires_grad=False)\n",
    "        self.I22 = nn.Parameter(torch.from_numpy(np.array([[0.,.0,.0],[.0,0.,.0],[.0,.0,1.]])).float().reshape(3,3), requires_grad=False)\n",
    "        \n",
    "    def to_3d(self, z, height, width, panels, original_size):\n",
    "        y_im, x_im = panels\n",
    "        y_im, x_im = torch.from_numpy(y_im).reshape(height, width), torch.from_numpy(x_im).reshape(height, width)\n",
    "        y_im = y_im * IMG_SHAPE[0] / original_size[0]\n",
    "        x_im = x_im * IMG_SHAPE[1] / original_size[1]\n",
    "        y_im, x_im = y_im.to(device), x_im.to(device)\n",
    "        \n",
    "        imp_co = torch.cat([torch.einsum('hw,bczhw->bczhw', x_im.float(), torch.ones_like(z.unsqueeze(2)).float()), torch.einsum('hw,bczhw->bczhw', y_im.float(), torch.ones_like(z.unsqueeze(2)).float()), torch.ones_like(z.unsqueeze(2))], 2)\n",
    "        imp_co = imp_co.reshape(z.size(0),z.size(1),3,height,width)\n",
    "        imp_co = torch.einsum('bchw,bczhw->bczhw', z.float(), imp_co.float()).reshape(z.size(0),z.size(1),3,-1)\n",
    "        regr_co = torch.einsum('xz,yz->xy', imp_co.reshape(z.size(0),z.size(1),3,-1).permute(0,1,3,2).reshape(-1,3).float(), self.camera_matrix_inv.float())\n",
    "        regr_co = regr_co.reshape(z.size(0),z.size(1),-1,3).permute(0,1,3,2).reshape(z.size(0),z.size(1),3,height*width)\n",
    "        return regr_co\n",
    "        \n",
    "    def forward(self, r_x, r_mask, target_2Dr=None, zoom=0):\n",
    "        mask = r_mask\n",
    "        \n",
    "        x = r_x[:,-1:,:,:]\n",
    "        height, width = x.size(-2), x.size(-1)\n",
    "        panels = list(np.where(np.ones([height, width])))\n",
    "        panels[0] = panels[0] + .5\n",
    "        panels[1] = panels[1] + .5\n",
    "        \n",
    "        x = self.to_3d(x[:,-1:,:,:].reshape(-1,1,height,width), height, width, panels, (height, width)).reshape(-1,3,height,width)\n",
    "        \n",
    "        phi = torch.tanh(3e-2*self.phi)*np.pi\n",
    "        gamma = torch.tanh(3e-2*self.gamma)*np.pi\n",
    "        rho = torch.tanh(3e-2*self.rho)*np.pi\n",
    "        r = torch.cos(phi)*self.I00-torch.sin(phi)*self.I01+torch.sin(phi)*self.I10+torch.cos(phi)*self.I11+self.I22\n",
    "        y = torch.cos(gamma)*self.I00-torch.sin(gamma)*self.I01+torch.sin(gamma)*self.I10+torch.cos(gamma)*self.I11+self.I22\n",
    "        p = torch.cos(rho)*self.I00-torch.sin(rho)*self.I01+torch.sin(rho)*self.I10+torch.cos(rho)*self.I11+self.I22\n",
    "        \n",
    "        x_r = torch.einsum('bdef,cd->bcef',x,r.detach())+torch.einsum('bdef,cd->bcef',torch.sign(x),(r-r.detach()))\n",
    "        x_r = torch.cat([x_r[:,1:,:,:],x_r[:,:1,:,:]],dim=1)\n",
    "        x_r = torch.einsum('bdef,cd->bcef',x_r,y.detach())+torch.einsum('bdef,cd->bcef',torch.sign(x_r),(y-y.detach()))\n",
    "        x_r = torch.cat([x_r[:,1:,:,:],x_r[:,:1,:,:]],dim=1)\n",
    "        x_r = torch.einsum('bdef,cd->bcef',x_r,p.detach())+torch.einsum('bdef,cd->bcef',torch.sign(x_r),(p-p.detach()))\n",
    "        x_r = torch.cat([x_r[:,1:,:,:],x_r[:,:1,:,:]],dim=1)\n",
    "        \n",
    "        x_t = x_r.detach()+self.theta\n",
    "        x_t = torch.where((x[:,-1:,:,:])>0.,x_t,x_t.detach())\n",
    "        x_t = torch.where((mask>.5),x_t,torch.zeros_like(x_t))\n",
    "        k_t = torch.where((x_t[:,-1:,:,:])>0.,5./(torch.abs(x_t[:,-1:,:,:])+1e-7),torch.ones_like(x_t[:,-1:,:,:]))\n",
    "        \n",
    "        x_r = x_r+(mask>.5).float()*self.theta.detach()\n",
    "\n",
    "        weights = self.smap_layer(torch.cat([k_t*x_t+(x_r-x_r.detach()), mask], dim=1), target_2Dr, zoom)\n",
    "\n",
    "        return phi, gamma, rho, mask, weights"
   ]
  },
  {
   "cell_type": "code",
   "execution_count": 14,
   "metadata": {},
   "outputs": [],
   "source": [
    "def create_model(camera_matrix, n):\n",
    "    return Model(camera_matrix, n)"
   ]
  },
  {
   "cell_type": "markdown",
   "metadata": {},
   "source": [
    "# Datasets"
   ]
  },
  {
   "cell_type": "code",
   "execution_count": 15,
   "metadata": {},
   "outputs": [],
   "source": [
    "from sklearn.model_selection import train_test_split\n",
    "from torch.utils.data import Dataset, DataLoader, SequentialSampler, SubsetRandomSampler"
   ]
  },
  {
   "cell_type": "code",
   "execution_count": 16,
   "metadata": {},
   "outputs": [],
   "source": [
    "train_idx, valid_idx= train_test_split(\n",
    "    np.random.choice(np.arange(N_CONFIGURATIONS), size=512, replace=False), test_size=0.25, random_state=0, shuffle=True)\n",
    "\n",
    "train_sampler = SubsetRandomSampler(train_idx)\n",
    "valid_sampler = SequentialSampler(valid_idx)"
   ]
  },
  {
   "cell_type": "markdown",
   "metadata": {},
   "source": [
    "# Training"
   ]
  },
  {
   "cell_type": "code",
   "execution_count": 17,
   "metadata": {},
   "outputs": [],
   "source": [
    "def l1_error(pred, target):\n",
    "    shapes = target.size()\n",
    "    m_batch_size, height, width = shapes[0], shapes[-2], shapes[-1]\n",
    "    \n",
    "    pred = pred.reshape(m_batch_size, -1, height*width)\n",
    "    pred_m = (torch.max(pred.reshape(m_batch_size, -1, height*width),dim=1,keepdim=True).values>.5).float()\n",
    "    target = target.reshape(m_batch_size, 1, -1)\n",
    "    target_m = target.reshape(m_batch_size, 1, -1)\n",
    "    \n",
    "    plt.figure(figsize=(8,8))\n",
    "    plt.imshow(pred_m.float().reshape(m_batch_size, height,width)[0,:,:].detach().cpu().numpy())\n",
    "    plt.show()\n",
    "    plt.figure(figsize=(8,8))\n",
    "    plt.imshow(target_m.reshape(m_batch_size, height,width)[0,:,:].detach().cpu().numpy())\n",
    "    plt.show()\n",
    "    \n",
    "    loss = torch.abs(pred-target)\n",
    "    loss_m = torch.abs(pred_m-target_m)*pred_m\n",
    "    \n",
    "    loss = loss.reshape(m_batch_size, -1).sum(dim=1)\n",
    "    loss_m = loss_m.reshape(m_batch_size, -1).sum(dim=1)\n",
    "    \n",
    "    loss = torch.mean(loss_m).detach()+(loss-loss.detach()).sum()\n",
    "    return loss\n",
    "\n",
    "def train_loop_fn(loader, zoom, epoch, history=None):\n",
    "    model.train()\n",
    "    for batch_idx, (r_mask_batch, input_2Dr_batch, target_2Dr_batch) in enumerate(tqdm(loader)):\n",
    "        m_batchsize, height, width = r_mask_batch.size(0), r_mask_batch.size(-2), r_mask_batch.size(-1)\n",
    "        if m_batchsize != batch_size:\n",
    "            break\n",
    "        else:\n",
    "            r_mask_batch, input_2Dr_batch, target_2Dr_batch = r_mask_batch.to(device), input_2Dr_batch.to(device), target_2Dr_batch.to(device)\n",
    "\n",
    "        optimizer.zero_grad()\n",
    "        \n",
    "        r, p, y, r_mask, weights = model(input_2Dr_batch, r_mask_batch, target_2Dr_batch, zoom)\n",
    "        \n",
    "        target_2Dr = target_2Dr_batch.reshape(m_batchsize,1,H//(2**zoom),(2**zoom),W//(2**zoom),(2**zoom)).permute(0,3,5,1,2,4).reshape(m_batchsize,(2**(zoom+zoom)),1,H//(2**zoom),W//(2**zoom))\n",
    "        target_2Dr, _ = torch.max(target_2Dr,dim=1,keepdim=False)\n",
    "        \n",
    "        r_mask = r_mask_batch.reshape(m_batchsize,1,H//(2**zoom),(2**zoom),W//(2**zoom),(2**zoom)).permute(0,3,5,1,2,4).reshape(m_batchsize,(2**(zoom+zoom)),1,H//(2**zoom),W//(2**zoom))\n",
    "        r_mask, _ = torch.max(r_mask,dim=1,keepdim=False)\n",
    "\n",
    "\n",
    "        loss = l1_error(weights, target_2Dr)\n",
    "        \n",
    "        loss.backward()\n",
    "        optimizer.step()\n",
    "        \n",
    "        p = torch.tanh(3e-2*model.phi)*np.pi\n",
    "        y = torch.tanh(3e-2*model.gamma)*np.pi\n",
    "        r = torch.tanh(3e-2*model.rho)*np.pi\n",
    "        print('theta_x: %.4f' % ((model.theta[0,0,0,0]).detach().cpu().numpy()))\n",
    "        print('theta_y: %.4f' % ((model.theta[0,1,0,0]).detach().cpu().numpy()))\n",
    "        print('theta_z: %.4f' % ((model.theta[0,2,0,0]).detach().cpu().numpy()))\n",
    "        print('phi: %.4f' % ((r[0,0]).detach().cpu().numpy()))\n",
    "        print('gamma: %.4f' % ((p[0,0]).detach().cpu().numpy()))\n",
    "        print('rho: %.4f' % ((y[0,0]).detach().cpu().numpy()))\n",
    "\n",
    "        loss_np = loss.detach().cpu().numpy()\n",
    "\n",
    "        history.loc[(zoom, epoch, batch_idx), 'theta_x'] = (model.theta[0,0,0,0]).detach().cpu().numpy()\n",
    "        history.loc[(zoom, epoch, batch_idx), 'theta_y'] = (model.theta[0,1,0,0]).detach().cpu().numpy()\n",
    "        history.loc[(zoom, epoch, batch_idx), 'theta_z'] = (model.theta[0,2,0,0]).detach().cpu().numpy()\n",
    "        history.loc[(zoom, epoch, batch_idx), 'phi'] = (r[0,0]).detach().cpu().numpy()\n",
    "        history.loc[(zoom, epoch, batch_idx), 'gamma'] = (p[0,0]).detach().cpu().numpy()\n",
    "        history.loc[(zoom, epoch, batch_idx), 'rho'] = (y[0,0]).detach().cpu().numpy()\n",
    "        history.loc[(zoom, epoch, batch_idx), 'loss'] = loss_np\n",
    "        \n",
    "    print('Train Epoch: ({}, {}) \\tLR: {:.6f}\\tLoss: {:.6f}'.format(\n",
    "            zoom, epoch,\n",
    "            optimizer.state_dict()['param_groups'][0]['lr'],\n",
    "            history['loss'].iloc[(-len(train_loader)+1):].mean()))\n",
    "    \n",
    "def evaluate_model(loader, key, history=None):\n",
    "    model.eval()\n",
    "    loss_np = 0.\n",
    "    count = 0.\n",
    "\n",
    "    with torch.no_grad():\n",
    "        for batch_idx, (r_mask_batch, input_2Dr_batch, target_2Dr_batch) in enumerate(tqdm(loader)):\n",
    "            m_batchsize = r_mask_batch.size(0)\n",
    "            if m_batchsize != batch_size:\n",
    "                break\n",
    "            r_mask_batch, input_2Dr_batch, target_2Dr_batch = r_mask_batch.to(device), input_2Dr_batch.to(device), target_2Dr_batch.to(device)\n",
    "\n",
    "            optimizer.zero_grad()\n",
    "\n",
    "            r, p, y, r_mask, weights = model(input_2Dr_batch, r_mask_batch, target_2Dr_batch)\n",
    "            \n",
    "            l1 = l1_error(weights, target_2Dr_batch)\n",
    "            loss_np += l1.detach().cpu().numpy()\n",
    "            count = count+1.\n",
    "    loss_np /= count\n",
    "    history.loc[key, 'theta_x'] = (model.theta[0,0,0,0]).detach().cpu().numpy()\n",
    "    history.loc[key, 'theta_y'] = (model.theta[0,1,0,0]).detach().cpu().numpy()\n",
    "    history.loc[key, 'theta_z'] = (model.theta[0,2,0,0]).detach().cpu().numpy()\n",
    "    history.loc[key, 'phi'] = (r[0,0]).detach().cpu().numpy()\n",
    "    history.loc[key, 'gamma'] = (p[0,0]).detach().cpu().numpy()\n",
    "    history.loc[key, 'rho'] = (y[0,0]).detach().cpu().numpy()\n",
    "    history.loc[key, 'dev_loss'] = loss_np\n",
    "    print(\"n_epochs: {} - lr: {}\".format(*key))\n",
    "    print('theta_x: {:.4f}'.format((model.theta[0,0,0,0]).detach().cpu().numpy()))\n",
    "    print('theta_y: {:.4f}'.format((model.theta[0,1,0,0]).detach().cpu().numpy()))\n",
    "    print('theta_z: {:.4f}'.format((model.theta[0,2,0,0]).detach().cpu().numpy()))\n",
    "    print('phi: {:.4f}'.format((r[0,0]).detach().cpu().numpy()))\n",
    "    print('gamma: {:.4f}'.format((p[0,0]).detach().cpu().numpy()))\n",
    "    print('rho: {:.4f}'.format((y[0,0]).detach().cpu().numpy()))\n",
    "    print('Dev loss: {:.4f}'.format(loss_np))"
   ]
  },
  {
   "cell_type": "code",
   "execution_count": 18,
   "metadata": {
    "scrolled": true
   },
   "outputs": [
    {
     "name": "stdout",
     "output_type": "stream",
     "text": [
      "Wall time: 0 ns\n"
     ]
    },
    {
     "name": "stderr",
     "output_type": "stream",
     "text": [
      "  0%|                                                                                           | 0/24 [00:01<?, ?it/s]\n"
     ]
    },
    {
     "ename": "NameError",
     "evalue": "name 'batch_size' is not defined",
     "output_type": "error",
     "traceback": [
      "\u001b[1;31m---------------------------------------------------------------------------\u001b[0m",
      "\u001b[1;31mNameError\u001b[0m                                 Traceback (most recent call last)",
      "\u001b[1;32m<ipython-input-18-e9862bae2b0c>\u001b[0m in \u001b[0;36m<module>\u001b[1;34m\u001b[0m\n\u001b[0;32m     50\u001b[0m \u001b[1;33m\u001b[0m\u001b[0m\n\u001b[0;32m     51\u001b[0m                 \u001b[0mloader\u001b[0m \u001b[1;33m=\u001b[0m \u001b[0mtrain_loader\u001b[0m\u001b[1;33m\u001b[0m\u001b[1;33m\u001b[0m\u001b[0m\n\u001b[1;32m---> 52\u001b[1;33m                 \u001b[0mtrain_loop_fn\u001b[0m\u001b[1;33m(\u001b[0m\u001b[0mloader\u001b[0m\u001b[1;33m,\u001b[0m \u001b[0mzoom\u001b[0m\u001b[1;33m,\u001b[0m \u001b[0mepoch\u001b[0m\u001b[1;33m,\u001b[0m \u001b[0mtrain_history\u001b[0m\u001b[1;33m)\u001b[0m\u001b[1;33m\u001b[0m\u001b[1;33m\u001b[0m\u001b[0m\n\u001b[0m\u001b[0;32m     53\u001b[0m \u001b[1;33m\u001b[0m\u001b[0m\n\u001b[0;32m     54\u001b[0m                 \u001b[1;31m# scheduler.step()\u001b[0m\u001b[1;33m\u001b[0m\u001b[1;33m\u001b[0m\u001b[1;33m\u001b[0m\u001b[0m\n",
      "\u001b[1;32m<ipython-input-17-b47cfdbe7dbc>\u001b[0m in \u001b[0;36mtrain_loop_fn\u001b[1;34m(loader, zoom, epoch, history)\u001b[0m\n\u001b[0;32m     35\u001b[0m         \u001b[0moptimizer\u001b[0m\u001b[1;33m.\u001b[0m\u001b[0mzero_grad\u001b[0m\u001b[1;33m(\u001b[0m\u001b[1;33m)\u001b[0m\u001b[1;33m\u001b[0m\u001b[1;33m\u001b[0m\u001b[0m\n\u001b[0;32m     36\u001b[0m \u001b[1;33m\u001b[0m\u001b[0m\n\u001b[1;32m---> 37\u001b[1;33m         \u001b[0mr\u001b[0m\u001b[1;33m,\u001b[0m \u001b[0mp\u001b[0m\u001b[1;33m,\u001b[0m \u001b[0my\u001b[0m\u001b[1;33m,\u001b[0m \u001b[0mr_mask\u001b[0m\u001b[1;33m,\u001b[0m \u001b[0mweights\u001b[0m \u001b[1;33m=\u001b[0m \u001b[0mmodel\u001b[0m\u001b[1;33m(\u001b[0m\u001b[0minput_2Dr_batch\u001b[0m\u001b[1;33m,\u001b[0m \u001b[0mr_mask_batch\u001b[0m\u001b[1;33m,\u001b[0m \u001b[0mtarget_2Dr_batch\u001b[0m\u001b[1;33m,\u001b[0m \u001b[0mzoom\u001b[0m\u001b[1;33m)\u001b[0m\u001b[1;33m\u001b[0m\u001b[1;33m\u001b[0m\u001b[0m\n\u001b[0m\u001b[0;32m     38\u001b[0m \u001b[1;33m\u001b[0m\u001b[0m\n\u001b[0;32m     39\u001b[0m         \u001b[0mtarget_2Dr\u001b[0m \u001b[1;33m=\u001b[0m \u001b[0mtarget_2Dr_batch\u001b[0m\u001b[1;33m.\u001b[0m\u001b[0mreshape\u001b[0m\u001b[1;33m(\u001b[0m\u001b[0mm_batchsize\u001b[0m\u001b[1;33m,\u001b[0m\u001b[1;36m1\u001b[0m\u001b[1;33m,\u001b[0m\u001b[0mH\u001b[0m\u001b[1;33m//\u001b[0m\u001b[1;33m(\u001b[0m\u001b[1;36m2\u001b[0m\u001b[1;33m**\u001b[0m\u001b[0mzoom\u001b[0m\u001b[1;33m)\u001b[0m\u001b[1;33m,\u001b[0m\u001b[1;33m(\u001b[0m\u001b[1;36m2\u001b[0m\u001b[1;33m**\u001b[0m\u001b[0mzoom\u001b[0m\u001b[1;33m)\u001b[0m\u001b[1;33m,\u001b[0m\u001b[0mW\u001b[0m\u001b[1;33m//\u001b[0m\u001b[1;33m(\u001b[0m\u001b[1;36m2\u001b[0m\u001b[1;33m**\u001b[0m\u001b[0mzoom\u001b[0m\u001b[1;33m)\u001b[0m\u001b[1;33m,\u001b[0m\u001b[1;33m(\u001b[0m\u001b[1;36m2\u001b[0m\u001b[1;33m**\u001b[0m\u001b[0mzoom\u001b[0m\u001b[1;33m)\u001b[0m\u001b[1;33m)\u001b[0m\u001b[1;33m.\u001b[0m\u001b[0mpermute\u001b[0m\u001b[1;33m(\u001b[0m\u001b[1;36m0\u001b[0m\u001b[1;33m,\u001b[0m\u001b[1;36m3\u001b[0m\u001b[1;33m,\u001b[0m\u001b[1;36m5\u001b[0m\u001b[1;33m,\u001b[0m\u001b[1;36m1\u001b[0m\u001b[1;33m,\u001b[0m\u001b[1;36m2\u001b[0m\u001b[1;33m,\u001b[0m\u001b[1;36m4\u001b[0m\u001b[1;33m)\u001b[0m\u001b[1;33m.\u001b[0m\u001b[0mreshape\u001b[0m\u001b[1;33m(\u001b[0m\u001b[0mm_batchsize\u001b[0m\u001b[1;33m,\u001b[0m\u001b[1;33m(\u001b[0m\u001b[1;36m2\u001b[0m\u001b[1;33m**\u001b[0m\u001b[1;33m(\u001b[0m\u001b[0mzoom\u001b[0m\u001b[1;33m+\u001b[0m\u001b[0mzoom\u001b[0m\u001b[1;33m)\u001b[0m\u001b[1;33m)\u001b[0m\u001b[1;33m,\u001b[0m\u001b[1;36m1\u001b[0m\u001b[1;33m,\u001b[0m\u001b[0mH\u001b[0m\u001b[1;33m//\u001b[0m\u001b[1;33m(\u001b[0m\u001b[1;36m2\u001b[0m\u001b[1;33m**\u001b[0m\u001b[0mzoom\u001b[0m\u001b[1;33m)\u001b[0m\u001b[1;33m,\u001b[0m\u001b[0mW\u001b[0m\u001b[1;33m//\u001b[0m\u001b[1;33m(\u001b[0m\u001b[1;36m2\u001b[0m\u001b[1;33m**\u001b[0m\u001b[0mzoom\u001b[0m\u001b[1;33m)\u001b[0m\u001b[1;33m)\u001b[0m\u001b[1;33m\u001b[0m\u001b[1;33m\u001b[0m\u001b[0m\n",
      "\u001b[1;32m~\\AppData\\Local\\conda\\conda\\envs\\data_science\\lib\\site-packages\\torch\\nn\\modules\\module.py\u001b[0m in \u001b[0;36m__call__\u001b[1;34m(self, *input, **kwargs)\u001b[0m\n\u001b[0;32m    539\u001b[0m             \u001b[0mresult\u001b[0m \u001b[1;33m=\u001b[0m \u001b[0mself\u001b[0m\u001b[1;33m.\u001b[0m\u001b[0m_slow_forward\u001b[0m\u001b[1;33m(\u001b[0m\u001b[1;33m*\u001b[0m\u001b[0minput\u001b[0m\u001b[1;33m,\u001b[0m \u001b[1;33m**\u001b[0m\u001b[0mkwargs\u001b[0m\u001b[1;33m)\u001b[0m\u001b[1;33m\u001b[0m\u001b[1;33m\u001b[0m\u001b[0m\n\u001b[0;32m    540\u001b[0m         \u001b[1;32melse\u001b[0m\u001b[1;33m:\u001b[0m\u001b[1;33m\u001b[0m\u001b[1;33m\u001b[0m\u001b[0m\n\u001b[1;32m--> 541\u001b[1;33m             \u001b[0mresult\u001b[0m \u001b[1;33m=\u001b[0m \u001b[0mself\u001b[0m\u001b[1;33m.\u001b[0m\u001b[0mforward\u001b[0m\u001b[1;33m(\u001b[0m\u001b[1;33m*\u001b[0m\u001b[0minput\u001b[0m\u001b[1;33m,\u001b[0m \u001b[1;33m**\u001b[0m\u001b[0mkwargs\u001b[0m\u001b[1;33m)\u001b[0m\u001b[1;33m\u001b[0m\u001b[1;33m\u001b[0m\u001b[0m\n\u001b[0m\u001b[0;32m    542\u001b[0m         \u001b[1;32mfor\u001b[0m \u001b[0mhook\u001b[0m \u001b[1;32min\u001b[0m \u001b[0mself\u001b[0m\u001b[1;33m.\u001b[0m\u001b[0m_forward_hooks\u001b[0m\u001b[1;33m.\u001b[0m\u001b[0mvalues\u001b[0m\u001b[1;33m(\u001b[0m\u001b[1;33m)\u001b[0m\u001b[1;33m:\u001b[0m\u001b[1;33m\u001b[0m\u001b[1;33m\u001b[0m\u001b[0m\n\u001b[0;32m    543\u001b[0m             \u001b[0mhook_result\u001b[0m \u001b[1;33m=\u001b[0m \u001b[0mhook\u001b[0m\u001b[1;33m(\u001b[0m\u001b[0mself\u001b[0m\u001b[1;33m,\u001b[0m \u001b[0minput\u001b[0m\u001b[1;33m,\u001b[0m \u001b[0mresult\u001b[0m\u001b[1;33m)\u001b[0m\u001b[1;33m\u001b[0m\u001b[1;33m\u001b[0m\u001b[0m\n",
      "\u001b[1;32m<ipython-input-13-6a106e654cde>\u001b[0m in \u001b[0;36mforward\u001b[1;34m(self, r_x, r_mask, target_2Dr, zoom)\u001b[0m\n\u001b[0;32m     64\u001b[0m         \u001b[0mx_r\u001b[0m \u001b[1;33m=\u001b[0m \u001b[0mx_r\u001b[0m\u001b[1;33m+\u001b[0m\u001b[1;33m(\u001b[0m\u001b[0mmask\u001b[0m\u001b[1;33m>\u001b[0m\u001b[1;36m.5\u001b[0m\u001b[1;33m)\u001b[0m\u001b[1;33m.\u001b[0m\u001b[0mfloat\u001b[0m\u001b[1;33m(\u001b[0m\u001b[1;33m)\u001b[0m\u001b[1;33m*\u001b[0m\u001b[0mself\u001b[0m\u001b[1;33m.\u001b[0m\u001b[0mtheta\u001b[0m\u001b[1;33m.\u001b[0m\u001b[0mdetach\u001b[0m\u001b[1;33m(\u001b[0m\u001b[1;33m)\u001b[0m\u001b[1;33m\u001b[0m\u001b[1;33m\u001b[0m\u001b[0m\n\u001b[0;32m     65\u001b[0m \u001b[1;33m\u001b[0m\u001b[0m\n\u001b[1;32m---> 66\u001b[1;33m         \u001b[0mweights\u001b[0m \u001b[1;33m=\u001b[0m \u001b[0mself\u001b[0m\u001b[1;33m.\u001b[0m\u001b[0msmap_layer\u001b[0m\u001b[1;33m(\u001b[0m\u001b[0mtorch\u001b[0m\u001b[1;33m.\u001b[0m\u001b[0mcat\u001b[0m\u001b[1;33m(\u001b[0m\u001b[1;33m[\u001b[0m\u001b[0mk_t\u001b[0m\u001b[1;33m*\u001b[0m\u001b[0mx_t\u001b[0m\u001b[1;33m+\u001b[0m\u001b[1;33m(\u001b[0m\u001b[0mx_r\u001b[0m\u001b[1;33m-\u001b[0m\u001b[0mx_r\u001b[0m\u001b[1;33m.\u001b[0m\u001b[0mdetach\u001b[0m\u001b[1;33m(\u001b[0m\u001b[1;33m)\u001b[0m\u001b[1;33m)\u001b[0m\u001b[1;33m,\u001b[0m \u001b[0mmask\u001b[0m\u001b[1;33m]\u001b[0m\u001b[1;33m,\u001b[0m \u001b[0mdim\u001b[0m\u001b[1;33m=\u001b[0m\u001b[1;36m1\u001b[0m\u001b[1;33m)\u001b[0m\u001b[1;33m,\u001b[0m \u001b[0mtarget_2Dr\u001b[0m\u001b[1;33m,\u001b[0m \u001b[0mzoom\u001b[0m\u001b[1;33m)\u001b[0m\u001b[1;33m\u001b[0m\u001b[1;33m\u001b[0m\u001b[0m\n\u001b[0m\u001b[0;32m     67\u001b[0m \u001b[1;33m\u001b[0m\u001b[0m\n\u001b[0;32m     68\u001b[0m         \u001b[1;32mreturn\u001b[0m \u001b[0mphi\u001b[0m\u001b[1;33m,\u001b[0m \u001b[0mgamma\u001b[0m\u001b[1;33m,\u001b[0m \u001b[0mrho\u001b[0m\u001b[1;33m,\u001b[0m \u001b[0mmask\u001b[0m\u001b[1;33m,\u001b[0m \u001b[0mweights\u001b[0m\u001b[1;33m\u001b[0m\u001b[1;33m\u001b[0m\u001b[0m\n",
      "\u001b[1;32m~\\AppData\\Local\\conda\\conda\\envs\\data_science\\lib\\site-packages\\torch\\nn\\modules\\module.py\u001b[0m in \u001b[0;36m__call__\u001b[1;34m(self, *input, **kwargs)\u001b[0m\n\u001b[0;32m    539\u001b[0m             \u001b[0mresult\u001b[0m \u001b[1;33m=\u001b[0m \u001b[0mself\u001b[0m\u001b[1;33m.\u001b[0m\u001b[0m_slow_forward\u001b[0m\u001b[1;33m(\u001b[0m\u001b[1;33m*\u001b[0m\u001b[0minput\u001b[0m\u001b[1;33m,\u001b[0m \u001b[1;33m**\u001b[0m\u001b[0mkwargs\u001b[0m\u001b[1;33m)\u001b[0m\u001b[1;33m\u001b[0m\u001b[1;33m\u001b[0m\u001b[0m\n\u001b[0;32m    540\u001b[0m         \u001b[1;32melse\u001b[0m\u001b[1;33m:\u001b[0m\u001b[1;33m\u001b[0m\u001b[1;33m\u001b[0m\u001b[0m\n\u001b[1;32m--> 541\u001b[1;33m             \u001b[0mresult\u001b[0m \u001b[1;33m=\u001b[0m \u001b[0mself\u001b[0m\u001b[1;33m.\u001b[0m\u001b[0mforward\u001b[0m\u001b[1;33m(\u001b[0m\u001b[1;33m*\u001b[0m\u001b[0minput\u001b[0m\u001b[1;33m,\u001b[0m \u001b[1;33m**\u001b[0m\u001b[0mkwargs\u001b[0m\u001b[1;33m)\u001b[0m\u001b[1;33m\u001b[0m\u001b[1;33m\u001b[0m\u001b[0m\n\u001b[0m\u001b[0;32m    542\u001b[0m         \u001b[1;32mfor\u001b[0m \u001b[0mhook\u001b[0m \u001b[1;32min\u001b[0m \u001b[0mself\u001b[0m\u001b[1;33m.\u001b[0m\u001b[0m_forward_hooks\u001b[0m\u001b[1;33m.\u001b[0m\u001b[0mvalues\u001b[0m\u001b[1;33m(\u001b[0m\u001b[1;33m)\u001b[0m\u001b[1;33m:\u001b[0m\u001b[1;33m\u001b[0m\u001b[1;33m\u001b[0m\u001b[0m\n\u001b[0;32m    543\u001b[0m             \u001b[0mhook_result\u001b[0m \u001b[1;33m=\u001b[0m \u001b[0mhook\u001b[0m\u001b[1;33m(\u001b[0m\u001b[0mself\u001b[0m\u001b[1;33m,\u001b[0m \u001b[0minput\u001b[0m\u001b[1;33m,\u001b[0m \u001b[0mresult\u001b[0m\u001b[1;33m)\u001b[0m\u001b[1;33m\u001b[0m\u001b[1;33m\u001b[0m\u001b[0m\n",
      "\u001b[1;32m~\\Documents\\GitHub\\SMap\\smap\\smap.py\u001b[0m in \u001b[0;36mforward\u001b[1;34m(self, x, target_2Dr, zoom)\u001b[0m\n\u001b[0;32m    232\u001b[0m         \u001b[0mtarget\u001b[0m \u001b[1;33m=\u001b[0m \u001b[1;32mNone\u001b[0m\u001b[1;33m\u001b[0m\u001b[1;33m\u001b[0m\u001b[0m\n\u001b[0;32m    233\u001b[0m         \u001b[1;32mif\u001b[0m \u001b[0mtarget_2Dr\u001b[0m \u001b[1;32mis\u001b[0m \u001b[1;32mnot\u001b[0m \u001b[1;32mNone\u001b[0m\u001b[1;33m:\u001b[0m\u001b[1;33m\u001b[0m\u001b[1;33m\u001b[0m\u001b[0m\n\u001b[1;32m--> 234\u001b[1;33m             \u001b[0mtarget_2Dr\u001b[0m \u001b[1;33m=\u001b[0m \u001b[0mtarget_2Dr\u001b[0m\u001b[1;33m.\u001b[0m\u001b[0mreshape\u001b[0m\u001b[1;33m(\u001b[0m\u001b[0mbatch_size\u001b[0m\u001b[1;33m,\u001b[0m\u001b[1;36m1\u001b[0m\u001b[1;33m,\u001b[0m\u001b[0mheight_zoom\u001b[0m\u001b[1;33m,\u001b[0m\u001b[0mC_zoom_2\u001b[0m\u001b[1;33m,\u001b[0m \u001b[0mwidth_zoom\u001b[0m\u001b[1;33m,\u001b[0m\u001b[0mC_zoom_2\u001b[0m\u001b[1;33m)\u001b[0m\u001b[1;33m.\u001b[0m\u001b[0mpermute\u001b[0m\u001b[1;33m(\u001b[0m\u001b[1;36m0\u001b[0m\u001b[1;33m,\u001b[0m\u001b[1;36m3\u001b[0m\u001b[1;33m,\u001b[0m\u001b[1;36m5\u001b[0m\u001b[1;33m,\u001b[0m\u001b[1;36m1\u001b[0m\u001b[1;33m,\u001b[0m\u001b[1;36m2\u001b[0m\u001b[1;33m,\u001b[0m\u001b[1;36m4\u001b[0m\u001b[1;33m)\u001b[0m\u001b[1;33m.\u001b[0m\u001b[0mreshape\u001b[0m\u001b[1;33m(\u001b[0m\u001b[0mbatch_size\u001b[0m\u001b[1;33m,\u001b[0m\u001b[0mC_zoom\u001b[0m\u001b[1;33m,\u001b[0m\u001b[1;36m1\u001b[0m\u001b[1;33m,\u001b[0m\u001b[0mheight_zoom\u001b[0m\u001b[1;33m,\u001b[0m \u001b[0mwidth_zoom\u001b[0m\u001b[1;33m)\u001b[0m\u001b[1;33m\u001b[0m\u001b[1;33m\u001b[0m\u001b[0m\n\u001b[0m\u001b[0;32m    235\u001b[0m             \u001b[1;32mif\u001b[0m \u001b[0mself\u001b[0m\u001b[1;33m.\u001b[0m\u001b[0mn\u001b[0m\u001b[1;33m==\u001b[0m\u001b[0mzoom\u001b[0m\u001b[1;33m:\u001b[0m\u001b[1;33m\u001b[0m\u001b[1;33m\u001b[0m\u001b[0m\n\u001b[0;32m    236\u001b[0m                 \u001b[0mtarget\u001b[0m \u001b[1;33m=\u001b[0m \u001b[0mtarget_2Dr\u001b[0m\u001b[1;33m.\u001b[0m\u001b[0mreshape\u001b[0m\u001b[1;33m(\u001b[0m\u001b[0mbatch_size\u001b[0m\u001b[1;33m,\u001b[0m\u001b[1;33m-\u001b[0m\u001b[1;36m1\u001b[0m\u001b[1;33m,\u001b[0m\u001b[0mheight_zoom\u001b[0m\u001b[1;33m,\u001b[0m \u001b[0mwidth_zoom\u001b[0m\u001b[1;33m)\u001b[0m\u001b[1;33m\u001b[0m\u001b[1;33m\u001b[0m\u001b[0m\n",
      "\u001b[1;31mNameError\u001b[0m: name 'batch_size' is not defined"
     ]
    }
   ],
   "source": [
    "import time\n",
    "%time\n",
    "\n",
    "\n",
    "n_epochs_list = [4]\n",
    "lr_list = [1e-5]\n",
    "batch_size = 16\n",
    "n = 4\n",
    "optimizer = None\n",
    "model = None\n",
    "\n",
    "\n",
    "train_loader = torch.utils.data.DataLoader(dataset, batch_size=batch_size, num_workers=0, sampler=train_sampler)\n",
    "dev_loader = torch.utils.data.DataLoader(dataset, batch_size=batch_size, num_workers=0, sampler=valid_sampler)\n",
    "\n",
    "fileName = None\n",
    "dev_history = pd.DataFrame(index=pd.MultiIndex.from_tuples((), names=['epoch', 'lr']), columns=['theta_x', 'theta_y', 'theta_z', 'dev_loss'])\n",
    "\n",
    "torch.cuda.empty_cache()\n",
    "gc.collect()\n",
    "\n",
    "for i_epoch in range(len(n_epochs_list)):\n",
    "    for i_lr in range(len(lr_list)):\n",
    "        n_epochs = n_epochs_list[i_epoch]\n",
    "        lr = lr_list[i_lr]\n",
    "        train_history = pd.DataFrame(index=pd.MultiIndex.from_tuples((), names=['zoom', 'epoch', 'batch_id']), columns=['theta_x', 'theta_y', 'theta_z', 'loss'])\n",
    "\n",
    "        model = create_model(CAMERA, n)\n",
    "        if fileName is not None:\n",
    "            state_dict = torch.load(fileName, map_location='cpu')\n",
    "            model.load_state_dict(state_dict, strict=False)\n",
    "            del state_dict\n",
    "            print(\"Loaded!!\")\n",
    "        model = model.to(device)\n",
    "\n",
    "        torch.cuda.empty_cache()\n",
    "\n",
    "        gc.collect()\n",
    "        optimizer = optim.SGD(list(model.parameters()), lr=lr)\n",
    "        scheduler = optim.lr_scheduler.StepLR(optimizer, step_size=n_epochs, gamma=.5)\n",
    "\n",
    "        torch.cuda.empty_cache()\n",
    "        gc.collect()\n",
    "\n",
    "        for i in range(n+1):\n",
    "            for epoch in range(n_epochs):\n",
    "                zoom = n-i\n",
    "                torch.cuda.empty_cache()\n",
    "                gc.collect()\n",
    "\n",
    "                loader = train_loader\n",
    "                train_loop_fn(loader, zoom, epoch, train_history)\n",
    "                \n",
    "                # scheduler.step()\n",
    "\n",
    "        loader = dev_loader\n",
    "        start = time.time()*1000.0\n",
    "        evaluate_model(loader, (n_epochs, lr), dev_history)\n",
    "        t_interval = time.time()*1000.0 - start\n",
    "        print(\"Speed: {} ms/sample\".format(t_interval/(len(dev_loader)*batch_size)))\n",
    "\n",
    "        gc.collect()\n",
    "        optimizer = None\n",
    "        gc.collect()\n",
    "\n",
    "        train_history.to_csv('train_history_{}_{}.csv'.format(i_epoch, i_lr))\n",
    "        torch.save(model.state_dict(), \"./model_{}_{}.pth\".format(i_epoch, i_lr))\n",
    "dev_history.to_csv('dev_history.csv')"
   ]
  },
  {
   "cell_type": "markdown",
   "metadata": {},
   "source": [
    "# Result Visualization"
   ]
  },
  {
   "cell_type": "code",
   "execution_count": null,
   "metadata": {},
   "outputs": [],
   "source": [
    "for i_epoch in range(len(n_epochs_list)):\n",
    "    for i_lr in range(len(lr_list)):\n",
    "        train_history = pd.read_csv('train_history_{}_{}.csv'.format(i_epoch, i_lr))\n",
    "        train_history[['loss']].plot();\n",
    "        train_history[['theta_x', 'theta_y', 'theta_z']].plot();"
   ]
  },
  {
   "cell_type": "code",
   "execution_count": null,
   "metadata": {},
   "outputs": [],
   "source": [
    "for i_epoch in range(len(n_epochs_list)):\n",
    "    for i_lr in range(len(lr_list)):\n",
    "        train_history = pd.read_csv('train_history_{}_{}.csv'.format(i_epoch, i_lr))\n",
    "        train_history[['loss']].plot();\n",
    "        train_history[['phi', 'gamma', 'rho']].plot();"
   ]
  },
  {
   "cell_type": "code",
   "execution_count": null,
   "metadata": {},
   "outputs": [],
   "source": [
    "dev_history"
   ]
  },
  {
   "cell_type": "code",
   "execution_count": null,
   "metadata": {},
   "outputs": [],
   "source": [
    "for i_epoch in range(len(n_epochs_list)):\n",
    "    for i_lr in range(len(lr_list)):\n",
    "        train_history = pd.read_csv('train_history_{}_{}.csv'.format(i_epoch, i_lr))\n",
    "        ax = train_history[['theta_x', 'theta_y', 'theta_z']].plot()\n",
    "        fig = ax.get_figure()\n",
    "        fig.savefig('./position.png')"
   ]
  },
  {
   "cell_type": "code",
   "execution_count": null,
   "metadata": {},
   "outputs": [],
   "source": [
    "for i_epoch in range(len(n_epochs_list)):\n",
    "    for i_lr in range(len(lr_list)):\n",
    "        train_history = pd.read_csv('train_history_{}_{}.csv'.format(i_epoch, i_lr))\n",
    "        ax = train_history[['phi', 'gamma', 'rho']].plot()\n",
    "        fig = ax.get_figure()\n",
    "        fig.savefig('./orientation.png')"
   ]
  },
  {
   "cell_type": "code",
   "execution_count": null,
   "metadata": {},
   "outputs": [],
   "source": []
  },
  {
   "cell_type": "code",
   "execution_count": null,
   "metadata": {},
   "outputs": [],
   "source": []
  }
 ],
 "metadata": {
  "kernelspec": {
   "display_name": "Python 3",
   "language": "python",
   "name": "python3"
  },
  "language_info": {
   "codemirror_mode": {
    "name": "ipython",
    "version": 3
   },
   "file_extension": ".py",
   "mimetype": "text/x-python",
   "name": "python",
   "nbconvert_exporter": "python",
   "pygments_lexer": "ipython3",
   "version": "3.6.7"
  }
 },
 "nbformat": 4,
 "nbformat_minor": 4
}
